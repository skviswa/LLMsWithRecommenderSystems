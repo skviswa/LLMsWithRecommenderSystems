{
 "cells": [
  {
   "cell_type": "markdown",
   "source": [
    "# E-Commerce Recommendation Workflow Demo\n",
    "\n",
    "## Introduction\n",
    "\n",
    "This is a very simple demonstration of a natural language enhanced personalized shopping experience. We will focus on how we can apply Large Language Models (LLMs) to enhance a recommender engine workflow for a e-commerce application. \n",
    "\n",
    "This is not a demonstration of end-to-end recommendation capability with LLMs. Rather this focuses on narrow application areas where user experience is enhanced by introducing a LLM workflow by enabling the user to ask queries in natural language to find most similar products based on reviews, summarize QnA threads for a product, and compare summarized reviews between two products.\n",
    "\n",
    "The workflow is divided in these major sections:\n",
    "* Dataset description\n",
    "* Data processing modules\n",
    "* Recommender Workflow\n",
    "    * Generate Embeddings of catalogues\n",
    "    * LLMs taking user queries\n",
    "\n"
   ],
   "metadata": {
    "collapsed": false
   }
  },
  {
   "cell_type": "markdown",
   "source": [
    "### Aggregate all imports needed for Project"
   ],
   "metadata": {
    "collapsed": false
   }
  },
  {
   "cell_type": "code",
   "execution_count": 1,
   "outputs": [],
   "source": [
    "import os\n",
    "import json\n",
    "import pandas as pd\n",
    "import cohere\n",
    "from llama_index.node_parser import SimpleNodeParser\n",
    "from llama_index import (Document, \n",
    "                         VectorStoreIndex, \n",
    "                         ServiceContext, \n",
    "                         LLMPredictor, \n",
    "                         StorageContext, \n",
    "                         get_response_synthesizer,)\n",
    "from llama_index.embeddings.cohereai import CohereEmbedding\n",
    "from llama_index.indices.postprocessor import CohereRerank\n",
    "# Finetuner\n",
    "from llama_index.finetuning import CohereRerankerFinetuneEngine\n",
    "from llama_index.finetuning.rerankers.dataset_gen import CohereRerankerFinetuneDataset\n",
    "from langchain.llms import Cohere\n",
    "import chromadb\n",
    "from llama_index.vector_stores import ChromaVectorStore\n",
    "# from llama_index.retrievers import VectorIndexRetriever\n",
    "# from llama_index.query_engine import RetrieverQueryEngine\n",
    "from sklearn.model_selection import train_test_split\n",
    "from IPython.display import Markdown, display"
   ],
   "metadata": {
    "collapsed": false,
    "ExecuteTime": {
     "end_time": "2023-11-20T17:54:25.299449Z",
     "start_time": "2023-11-20T17:54:22.459936Z"
    }
   }
  },
  {
   "cell_type": "markdown",
   "source": [
    "### Some basic API Key setups"
   ],
   "metadata": {
    "collapsed": false
   }
  },
  {
   "cell_type": "code",
   "execution_count": 2,
   "outputs": [],
   "source": [
    "def load_credentials(pth):\n",
    "    \"\"\"\n",
    "    Loads API credential keys of different services \n",
    "    :param pth: Path to credentials file\n",
    "    :return: Dictionary of API credentials\n",
    "    \"\"\"\n",
    "    cred_dict = {}\n",
    "    with open(pth, 'r') as f:\n",
    "        cred_dict = json.load(f)\n",
    "    return cred_dict"
   ],
   "metadata": {
    "collapsed": false,
    "ExecuteTime": {
     "end_time": "2023-11-20T17:54:28.176929Z",
     "start_time": "2023-11-20T17:54:28.153557Z"
    }
   }
  },
  {
   "cell_type": "code",
   "execution_count": 3,
   "outputs": [],
   "source": [
    "parent_dir = os.path.dirname(os.getcwd())"
   ],
   "metadata": {
    "collapsed": false,
    "ExecuteTime": {
     "end_time": "2023-11-20T17:54:30.221184Z",
     "start_time": "2023-11-20T17:54:30.192616Z"
    }
   }
  },
  {
   "cell_type": "code",
   "execution_count": 4,
   "outputs": [],
   "source": [
    "cred_pth = os.path.join(parent_dir, 'cred', 'credentials.json')\n",
    "cred_dict = load_credentials(cred_pth)\n",
    "cohere_api_key = cred_dict.get(\"COHERE_API_KEY\", '')\n",
    "# openai_api_key = cred_dict.get(\"OPENAI_API_KEY\", '')\n",
    "\n",
    "os.environ[\"COHERE_API_KEY\"] = cohere_api_key\n",
    "# os.environ[\"OPENAI_API_KEY\"] = openai_api_key"
   ],
   "metadata": {
    "collapsed": false,
    "ExecuteTime": {
     "end_time": "2023-11-20T17:54:31.160559Z",
     "start_time": "2023-11-20T17:54:31.126936Z"
    }
   }
  },
  {
   "cell_type": "markdown",
   "source": [
    "## Dataset Description\n",
    "\n",
    "### WANDS - Wayfair Annotation Dataset\n",
    "\n",
    "WANDS is a Wayfair product search relevance dataset that is published as a companion to the paper from ECIR 2022:\n",
    "\n",
    "> WANDS: Dataset for Product Search Relevance Assessment  \n",
    "> Yan Chen, Shujian Liu, Zheng Liu, Weiyi Sun, Linas Baltrunas and Benjamin Schroeder\n",
    "\n",
    "The dataset allows objective benchmarking and evaluation of search engines on an E-Commerce dataset. Key features of this dataset includes:\n",
    "\n",
    "1. 42,994 candidate products\n",
    "2. 480 queries\n",
    "3. 233,448 (query,product) relevance judgements\n",
    "\n",
    "We can leverage this dataset to demonstrate the capability of LLMs in enhancing recommendations by surfacing the most relevant products through ranking or re-ranking to improve quality of recommendations. \n",
    "\n",
    "Some of the key aspects related to curation of this dataset:\n",
    "\n",
    "> Specifically, we segmented search queries among several dimensions that are key indicators of customer behavior, such as:\n",
    "\n",
    "> * On-site organic searches as compared to marketing-redirected searches\n",
    "> * Searches that resulted in customer engagement (e.g., added products to cart) versus searches that didn’t result in customer engagement \n",
    "> * Product popularity over the past two years  "
   ],
   "metadata": {
    "collapsed": false
   }
  },
  {
   "cell_type": "code",
   "execution_count": null,
   "outputs": [],
   "source": [],
   "metadata": {
    "collapsed": false
   }
  },
  {
   "cell_type": "markdown",
   "source": [
    "## High Level Demo: Run search and get response in Natural Language\n",
    "\n",
    "The following section aggregates everything done in the exploration side of the notebook to deliver a query engine that is capable of retrievining the candidate products and geenrating a summarized recommendation given a query. If there are no candidate products that match the given descriptions, you will currently not get any useful recommendation. \n",
    "\n",
    "The overall workflow from ingesting data, defining the components and running short experiments will feature below this section for those who are interested in reviewing the deeper details. "
   ],
   "metadata": {
    "collapsed": false
   }
  },
  {
   "cell_type": "code",
   "execution_count": 5,
   "outputs": [],
   "source": [
    "# Now we'll set up the cohere client.\n",
    "co_client = cohere.Client(os.environ[\"COHERE_API_KEY\"])\n",
    "wands_embed_model = \"embed-english-v3.0\" # embed-english-light-v3.0\n",
    "wands_embed_input_type = \"search_document\"\n",
    "wands_embeds_query_type = \"search_query\"\n",
    "\n",
    "# Parameterize Cohere configurations\n",
    "wands_embed_model = \"embed-english-v3.0\" #1024 dimension embedding\n",
    "wands_embed_input_type = \"search_document\" \n",
    "llm_model = \"command\" #Generation LLM\n",
    "max_tokens = 256\n",
    "temperature = 0.5 #0\n",
    "rerank_finetuned_model_name = 'cohere_rerank_wands_chair' #'cohere_rerank_wands\"\n",
    "rerank_model_type = \"RERANK\"\n",
    "rerank_base_model = 'english'\n",
    "top_n_rerank = 5\n",
    "similarity_top_k = 10"
   ],
   "metadata": {
    "collapsed": false,
    "ExecuteTime": {
     "end_time": "2023-11-20T17:54:36.776807Z",
     "start_time": "2023-11-20T17:54:36.741450Z"
    }
   }
  },
  {
   "cell_type": "code",
   "execution_count": 6,
   "outputs": [],
   "source": [
    "# Vector Database setups\n",
    "chroma_db_name = 'chroma_db_dev' #'chroma_db_local'\n",
    "chromadb_pth = os.path.join(parent_dir, chroma_db_name)\n",
    "chroma_collection_name = 'recommender_dev' #\"recommender_demo\""
   ],
   "metadata": {
    "collapsed": false,
    "ExecuteTime": {
     "end_time": "2023-11-20T17:54:44.396729Z",
     "start_time": "2023-11-20T17:54:44.357921Z"
    }
   }
  },
  {
   "cell_type": "code",
   "execution_count": 7,
   "outputs": [],
   "source": [
    "# llama index configurations\n",
    "index_name = 'cohere_recommender_index' # \"cohere_chroma_index\"\n",
    "query_response_mode = 'tree_summarize'\n",
    "\n",
    "# Setup a Cohere Service Context for Llama Index\n",
    "llm = Cohere(model=llm_model, \n",
    "             temperature=temperature, \n",
    "             cohere_api_key=os.environ['COHERE_API_KEY'], \n",
    "             max_tokens=max_tokens)\n",
    "\n",
    "embed_model = CohereEmbedding(cohere_api_key=os.environ[\"COHERE_API_KEY\"],\n",
    "                              model_name=wands_embed_model,\n",
    "                              input_type=wands_embed_input_type,)\n",
    "\n",
    "# cohere_rerank_fine_tuned = finetuned_reranker_model.get_finetuned_model(top_n=3)\n",
    "cohere_rerank = CohereRerank(api_key=os.environ[\"COHERE_API_KEY\"], \n",
    "                             top_n=top_n_rerank, \n",
    "                             model=cred_dict.get(\"COHERE_MODEL_ID2\"))\n",
    "\n",
    "service_context = ServiceContext.from_defaults(llm=llm, \n",
    "                                               embed_model=embed_model)"
   ],
   "metadata": {
    "collapsed": false,
    "ExecuteTime": {
     "end_time": "2023-11-20T17:54:47.990240Z",
     "start_time": "2023-11-20T17:54:46.865386Z"
    }
   }
  },
  {
   "cell_type": "code",
   "execution_count": 8,
   "outputs": [],
   "source": [
    "# Load the Llama Index index persisted to disk to run queries \n",
    "db_loaded = chromadb.PersistentClient(path=chromadb_pth)\n",
    "chroma_collection_loaded = db_loaded.get_or_create_collection(chroma_collection_name)\n",
    "vector_store_loaded = ChromaVectorStore(chroma_collection=chroma_collection_loaded)\n",
    "\n",
    "simple_index = VectorStoreIndex.from_vector_store(vector_store=vector_store_loaded, \n",
    "                                                  service_context=service_context,)"
   ],
   "metadata": {
    "collapsed": false,
    "ExecuteTime": {
     "end_time": "2023-11-20T17:54:49.414052Z",
     "start_time": "2023-11-20T17:54:49.187785Z"
    }
   }
  },
  {
   "cell_type": "code",
   "execution_count": 9,
   "outputs": [],
   "source": [
    "query_engine_rerank = simple_index.as_query_engine(similarity_top_k=similarity_top_k, \n",
    "                                                   node_postprocessors=[cohere_rerank], \n",
    "                                                   response_mode=query_response_mode,\n",
    "                                                   verbose=True,)"
   ],
   "metadata": {
    "collapsed": false,
    "ExecuteTime": {
     "end_time": "2023-11-20T17:54:52.868854Z",
     "start_time": "2023-11-20T17:54:52.557090Z"
    }
   }
  },
  {
   "cell_type": "code",
   "execution_count": null,
   "outputs": [],
   "source": [],
   "metadata": {
    "collapsed": false
   }
  },
  {
   "cell_type": "markdown",
   "source": [
    "### WANDS reference Query results\n",
    "\n",
    "In their paper, WANDS released a [reference pdf](https://github.com/wayfair/WANDS/blob/main/Product%20Search%20Relevance%20Annotation%20Guidelines.pdf) where they have details of product images and the web URL to the actual product with reasoning behind choice of labels. This is a great initial test to see whether the model+emebdding out of the box can match or improve recommendations of those scenarios through natural language assistant capabilities. \n",
    "\n",
    "This also gives us an opportunity to apply the re-ranker module and work on optimizing existing recommender algorithms with a small amount of high quality labelled data"
   ],
   "metadata": {
    "collapsed": false
   }
  },
  {
   "cell_type": "code",
   "execution_count": 10,
   "outputs": [],
   "source": [
    "wands_ref_queries = ['wicker outdoor bar', \n",
    "                     'chair and a half recliner', \n",
    "                     'shamrock', \n",
    "                     'farmhouse cabinet', \n",
    "                     'wire basket with dividers', \n",
    "                     'kids chair', \n",
    "                     '48 in entry table with side by side drawer', \n",
    "                     'salon chair']"
   ],
   "metadata": {
    "collapsed": false,
    "ExecuteTime": {
     "end_time": "2023-11-20T17:54:55.517082Z",
     "start_time": "2023-11-20T17:54:55.482460Z"
    }
   }
  },
  {
   "cell_type": "code",
   "execution_count": 14,
   "outputs": [
    {
     "name": "stderr",
     "output_type": "stream",
     "text": [
      "Your text contains a trailing whitespace, which has been trimmed to ensure high quality generations.\n"
     ]
    },
    {
     "name": "stdout",
     "output_type": "stream",
     "text": [
      "I cannot find any results for a product with the name Shamrock. However, I did find several products that are decorative objects and a chandelier that you may be interested in. \n",
      "\n",
      "Would you like to know more about any of these products? \n",
      "\n",
      "Products:\n",
      "- Fluorite crystals with minor Hemimorphite (product ID: 831)\n",
      "- Vanadinite crystals on Barite (product ID: 832)\n",
      "- Meinhardt 5-light shaded empire chandelier (product class: Chandeliers)\n",
      "\n",
      "If you provide more information about what you are looking for, I can help you find other products that match your criteria. \n",
      "\n",
      "Would you like to know more about any of these products? \n"
     ]
    }
   ],
   "source": [
    "ref_query = wands_ref_queries[2]\n",
    "rerank_response_fine_tuned = query_engine_rerank.query(ref_query)\n",
    "print(rerank_response_fine_tuned, sep=\"\\n\")"
   ],
   "metadata": {
    "collapsed": false,
    "ExecuteTime": {
     "end_time": "2023-11-20T20:38:57.769688Z",
     "start_time": "2023-11-20T20:38:52.521112Z"
    }
   }
  },
  {
   "cell_type": "code",
   "execution_count": null,
   "outputs": [],
   "source": [],
   "metadata": {
    "collapsed": false
   }
  },
  {
   "cell_type": "markdown",
   "source": [
    "## Building the LLM powered Search Workflow\n",
    "\n",
    "This section covers prototyping of the LLM powered search workflow with various sections:\n",
    "\n",
    "* Loading the datasets and inspecting the data features\n",
    "* Testing Llama Index as a framework that implements search and retrieval tasks \n",
    "* Applying Cohere LMs through Llama Index to build embeddings, re-rank retrieved candidates and apply LLMs to generate response\n",
    "    * Computing simple baselines through out of box cosine similarity retrieval using only embeddings\n",
    "    * Comparing against out of box Llama Index query engine implementation with:\n",
    "        *  Different retrieval techniques to generate responses from chunks\n",
    "        * Applying re-ranking strategies to evaluate improval from candidate generation to response evaluation\n",
    "        * Fine-tuning re-ranker with the domain specific data to customize performance on hard search queries"
   ],
   "metadata": {
    "collapsed": false
   }
  },
  {
   "cell_type": "code",
   "execution_count": 5,
   "outputs": [],
   "source": [
    "wands_data_pth = os.path.join(parent_dir, 'WANDS', 'dataset')"
   ],
   "metadata": {
    "collapsed": false,
    "ExecuteTime": {
     "end_time": "2023-11-20T07:14:49.828106Z",
     "start_time": "2023-11-20T07:14:49.796897Z"
    }
   }
  },
  {
   "cell_type": "code",
   "execution_count": 6,
   "outputs": [
    {
     "data": {
      "text/plain": "   query_id                      query               query_class\n0         0                salon chair            Massage Chairs\n1         1         smart coffee table  Coffee & Cocktail Tables\n2         2                   dinosaur           Kids Wall Décor\n3         3          turquoise pillows            Accent Pillows\n4         4  chair and a half recliner                 Recliners",
      "text/html": "<div>\n<style scoped>\n    .dataframe tbody tr th:only-of-type {\n        vertical-align: middle;\n    }\n\n    .dataframe tbody tr th {\n        vertical-align: top;\n    }\n\n    .dataframe thead th {\n        text-align: right;\n    }\n</style>\n<table border=\"1\" class=\"dataframe\">\n  <thead>\n    <tr style=\"text-align: right;\">\n      <th></th>\n      <th>query_id</th>\n      <th>query</th>\n      <th>query_class</th>\n    </tr>\n  </thead>\n  <tbody>\n    <tr>\n      <th>0</th>\n      <td>0</td>\n      <td>salon chair</td>\n      <td>Massage Chairs</td>\n    </tr>\n    <tr>\n      <th>1</th>\n      <td>1</td>\n      <td>smart coffee table</td>\n      <td>Coffee &amp; Cocktail Tables</td>\n    </tr>\n    <tr>\n      <th>2</th>\n      <td>2</td>\n      <td>dinosaur</td>\n      <td>Kids Wall Décor</td>\n    </tr>\n    <tr>\n      <th>3</th>\n      <td>3</td>\n      <td>turquoise pillows</td>\n      <td>Accent Pillows</td>\n    </tr>\n    <tr>\n      <th>4</th>\n      <td>4</td>\n      <td>chair and a half recliner</td>\n      <td>Recliners</td>\n    </tr>\n  </tbody>\n</table>\n</div>"
     },
     "execution_count": 6,
     "metadata": {},
     "output_type": "execute_result"
    }
   ],
   "source": [
    "# get search queries\n",
    "wands_query_df = pd.read_csv(os.path.join(wands_data_pth, \"query.csv\"), sep='\\t')\n",
    "wands_query_df.head()"
   ],
   "metadata": {
    "collapsed": false,
    "ExecuteTime": {
     "end_time": "2023-11-20T07:14:50.568449Z",
     "start_time": "2023-11-20T07:14:50.533389Z"
    }
   }
  },
  {
   "cell_type": "code",
   "execution_count": 7,
   "outputs": [
    {
     "data": {
      "text/plain": "   product_id                                       product_name  \\\n0           0                            solid wood platform bed   \n1           1                        all-clad 7 qt . slow cooker   \n2           2            all-clad electrics 6.5 qt . slow cooker   \n3           3       all-clad all professional tools pizza cutter   \n4           4  baldwin prestige alcott passage knob with roun...   \n\n                  product_class  \\\n0                          Beds   \n1                  Slow Cookers   \n2                  Slow Cookers   \n3  Slicers, Peelers And Graters   \n4                    Door Knobs   \n\n                                  category hierarchy  \\\n0  Furniture / Bedroom Furniture / Beds & Headboa...   \n1  Kitchen & Tabletop / Small Kitchen Appliances ...   \n2  Kitchen & Tabletop / Small Kitchen Appliances ...   \n3                         Browse By Brand / All-Clad   \n4  Home Improvement / Doors & Door Hardware / Doo...   \n\n                                 product_description  \\\n0  good , deep sleep can be quite difficult to ha...   \n1  create delicious slow-cooked meals , from tend...   \n2  prepare home-cooked meals on any schedule with...   \n3  this original stainless tool was designed to c...   \n4  the hardware has a rich heritage of delivering...   \n\n                                    product_features  rating_count  \\\n0  overallwidth-sidetoside:64.7|dsprimaryproducts...          15.0   \n1  capacityquarts:7|producttype : slow cooker|pro...         100.0   \n2  features : keep warm setting|capacityquarts:6....         208.0   \n3  overallwidth-sidetoside:3.5|warrantylength : l...          69.0   \n4  compatibledoorthickness:1.375 '' |countryofori...          70.0   \n\n   average_rating  review_count  \n0             4.5          15.0  \n1             2.0          98.0  \n2             3.0         181.0  \n3             4.5          42.0  \n4             5.0          42.0  ",
      "text/html": "<div>\n<style scoped>\n    .dataframe tbody tr th:only-of-type {\n        vertical-align: middle;\n    }\n\n    .dataframe tbody tr th {\n        vertical-align: top;\n    }\n\n    .dataframe thead th {\n        text-align: right;\n    }\n</style>\n<table border=\"1\" class=\"dataframe\">\n  <thead>\n    <tr style=\"text-align: right;\">\n      <th></th>\n      <th>product_id</th>\n      <th>product_name</th>\n      <th>product_class</th>\n      <th>category hierarchy</th>\n      <th>product_description</th>\n      <th>product_features</th>\n      <th>rating_count</th>\n      <th>average_rating</th>\n      <th>review_count</th>\n    </tr>\n  </thead>\n  <tbody>\n    <tr>\n      <th>0</th>\n      <td>0</td>\n      <td>solid wood platform bed</td>\n      <td>Beds</td>\n      <td>Furniture / Bedroom Furniture / Beds &amp; Headboa...</td>\n      <td>good , deep sleep can be quite difficult to ha...</td>\n      <td>overallwidth-sidetoside:64.7|dsprimaryproducts...</td>\n      <td>15.0</td>\n      <td>4.5</td>\n      <td>15.0</td>\n    </tr>\n    <tr>\n      <th>1</th>\n      <td>1</td>\n      <td>all-clad 7 qt . slow cooker</td>\n      <td>Slow Cookers</td>\n      <td>Kitchen &amp; Tabletop / Small Kitchen Appliances ...</td>\n      <td>create delicious slow-cooked meals , from tend...</td>\n      <td>capacityquarts:7|producttype : slow cooker|pro...</td>\n      <td>100.0</td>\n      <td>2.0</td>\n      <td>98.0</td>\n    </tr>\n    <tr>\n      <th>2</th>\n      <td>2</td>\n      <td>all-clad electrics 6.5 qt . slow cooker</td>\n      <td>Slow Cookers</td>\n      <td>Kitchen &amp; Tabletop / Small Kitchen Appliances ...</td>\n      <td>prepare home-cooked meals on any schedule with...</td>\n      <td>features : keep warm setting|capacityquarts:6....</td>\n      <td>208.0</td>\n      <td>3.0</td>\n      <td>181.0</td>\n    </tr>\n    <tr>\n      <th>3</th>\n      <td>3</td>\n      <td>all-clad all professional tools pizza cutter</td>\n      <td>Slicers, Peelers And Graters</td>\n      <td>Browse By Brand / All-Clad</td>\n      <td>this original stainless tool was designed to c...</td>\n      <td>overallwidth-sidetoside:3.5|warrantylength : l...</td>\n      <td>69.0</td>\n      <td>4.5</td>\n      <td>42.0</td>\n    </tr>\n    <tr>\n      <th>4</th>\n      <td>4</td>\n      <td>baldwin prestige alcott passage knob with roun...</td>\n      <td>Door Knobs</td>\n      <td>Home Improvement / Doors &amp; Door Hardware / Doo...</td>\n      <td>the hardware has a rich heritage of delivering...</td>\n      <td>compatibledoorthickness:1.375 '' |countryofori...</td>\n      <td>70.0</td>\n      <td>5.0</td>\n      <td>42.0</td>\n    </tr>\n  </tbody>\n</table>\n</div>"
     },
     "execution_count": 7,
     "metadata": {},
     "output_type": "execute_result"
    }
   ],
   "source": [
    "# get products\n",
    "wands_product_df = pd.read_csv(os.path.join(wands_data_pth, \"product.csv\"), sep='\\t')\n",
    "wands_product_df.head()"
   ],
   "metadata": {
    "collapsed": false,
    "ExecuteTime": {
     "end_time": "2023-11-20T07:14:52.665498Z",
     "start_time": "2023-11-20T07:14:51.891794Z"
    }
   }
  },
  {
   "cell_type": "code",
   "execution_count": 9,
   "outputs": [
    {
     "data": {
      "text/plain": "False"
     },
     "execution_count": 9,
     "metadata": {},
     "output_type": "execute_result"
    }
   ],
   "source": [
    "wands_product_df['product_name'].isnull().values.any()"
   ],
   "metadata": {
    "collapsed": false,
    "ExecuteTime": {
     "end_time": "2023-11-17T18:49:48.255287Z",
     "start_time": "2023-11-17T18:49:48.252536Z"
    }
   }
  },
  {
   "cell_type": "code",
   "execution_count": 10,
   "outputs": [
    {
     "data": {
      "text/plain": "True"
     },
     "execution_count": 10,
     "metadata": {},
     "output_type": "execute_result"
    }
   ],
   "source": [
    "wands_product_df['product_description'].isnull().values.any()"
   ],
   "metadata": {
    "collapsed": false,
    "ExecuteTime": {
     "end_time": "2023-11-17T18:49:50.206851Z",
     "start_time": "2023-11-17T18:49:50.197914Z"
    }
   }
  },
  {
   "cell_type": "code",
   "execution_count": 8,
   "outputs": [],
   "source": [
    "def combine_product_texts(product_name, product_description):\n",
    "    \"\"\"\n",
    "    Combine product name and description into a single piece of text for embedding\n",
    "    :param product_name: Name of Product\n",
    "    :param product_description: Description of Product\n",
    "    :return: \n",
    "    \"\"\"\n",
    "    if pd.notnull(product_name) and pd.notnull(product_description):\n",
    "        return product_name + \" \" + product_description\n",
    "    elif pd.notnull(product_name):\n",
    "        return product_name\n",
    "    elif pd.notnull(product_description):\n",
    "        return product_description\n",
    "    else:\n",
    "        return \"no product description available\""
   ],
   "metadata": {
    "collapsed": false,
    "ExecuteTime": {
     "end_time": "2023-11-20T07:14:56.712753Z",
     "start_time": "2023-11-20T07:14:56.686225Z"
    }
   }
  },
  {
   "cell_type": "code",
   "execution_count": 9,
   "outputs": [
    {
     "data": {
      "text/plain": "   id  query_id  product_id       label\n0   0         0       25434       Exact\n1   1         0       12088  Irrelevant\n2   2         0       42931       Exact\n3   3         0        2636       Exact\n4   4         0       42923       Exact",
      "text/html": "<div>\n<style scoped>\n    .dataframe tbody tr th:only-of-type {\n        vertical-align: middle;\n    }\n\n    .dataframe tbody tr th {\n        vertical-align: top;\n    }\n\n    .dataframe thead th {\n        text-align: right;\n    }\n</style>\n<table border=\"1\" class=\"dataframe\">\n  <thead>\n    <tr style=\"text-align: right;\">\n      <th></th>\n      <th>id</th>\n      <th>query_id</th>\n      <th>product_id</th>\n      <th>label</th>\n    </tr>\n  </thead>\n  <tbody>\n    <tr>\n      <th>0</th>\n      <td>0</td>\n      <td>0</td>\n      <td>25434</td>\n      <td>Exact</td>\n    </tr>\n    <tr>\n      <th>1</th>\n      <td>1</td>\n      <td>0</td>\n      <td>12088</td>\n      <td>Irrelevant</td>\n    </tr>\n    <tr>\n      <th>2</th>\n      <td>2</td>\n      <td>0</td>\n      <td>42931</td>\n      <td>Exact</td>\n    </tr>\n    <tr>\n      <th>3</th>\n      <td>3</td>\n      <td>0</td>\n      <td>2636</td>\n      <td>Exact</td>\n    </tr>\n    <tr>\n      <th>4</th>\n      <td>4</td>\n      <td>0</td>\n      <td>42923</td>\n      <td>Exact</td>\n    </tr>\n  </tbody>\n</table>\n</div>"
     },
     "execution_count": 9,
     "metadata": {},
     "output_type": "execute_result"
    }
   ],
   "source": [
    "# get manually labeled groundtruth lables\n",
    "wands_label_df = pd.read_csv(os.path.join(wands_data_pth, \"label.csv\"), sep='\\t')\n",
    "wands_label_df.head()"
   ],
   "metadata": {
    "collapsed": false,
    "ExecuteTime": {
     "end_time": "2023-11-20T07:14:59.065734Z",
     "start_time": "2023-11-20T07:14:59.015654Z"
    }
   }
  },
  {
   "cell_type": "code",
   "execution_count": 10,
   "outputs": [],
   "source": [
    "def assign_label_score(label):\n",
    "    \"\"\"\n",
    "    Function to convert label texts to scores\n",
    "    :param label: The label for product recommendation given a query\n",
    "    :return: \n",
    "    \"\"\"\n",
    "    if pd.isna(label):\n",
    "        # Assume not relevant if there is no human label assigned\n",
    "        return 0\n",
    "    elif label.lower() == \"exact\":\n",
    "        return 1.0\n",
    "    elif label.lower() == \"irrelevant\":\n",
    "        return 0\n",
    "    elif label.lower() == \"partial\":\n",
    "        # Rate higher than 50% to make relevance matching higher quality\n",
    "        return 0.6"
   ],
   "metadata": {
    "collapsed": false,
    "ExecuteTime": {
     "end_time": "2023-11-20T07:15:00.397137Z",
     "start_time": "2023-11-20T07:15:00.373879Z"
    }
   }
  },
  {
   "cell_type": "code",
   "execution_count": 11,
   "outputs": [],
   "source": [
    "wands_label_df['label_score'] = wands_label_df['label'].apply(lambda x: assign_label_score(x))"
   ],
   "metadata": {
    "collapsed": false,
    "ExecuteTime": {
     "end_time": "2023-11-20T07:15:02.313907Z",
     "start_time": "2023-11-20T07:15:02.199952Z"
    }
   }
  },
  {
   "cell_type": "code",
   "execution_count": 12,
   "outputs": [],
   "source": [
    "# Combine queries and labels to get a ground truth dataframe\n",
    "wands_query_label_df = pd.merge(wands_query_df, wands_label_df, on=\"query_id\")"
   ],
   "metadata": {
    "collapsed": false,
    "ExecuteTime": {
     "end_time": "2023-11-20T07:15:03.740420Z",
     "start_time": "2023-11-20T07:15:03.698989Z"
    }
   }
  },
  {
   "cell_type": "code",
   "execution_count": 13,
   "outputs": [],
   "source": [
    "# Aggregate the text in products to ensure there are no NAs for each product\n",
    "wands_product_df['product_text'] = wands_product_df['product_name'].combine(wands_product_df['product_description'],  lambda x, y: combine_product_texts(x, y))"
   ],
   "metadata": {
    "collapsed": false,
    "ExecuteTime": {
     "end_time": "2023-11-20T07:15:04.474427Z",
     "start_time": "2023-11-20T07:15:04.358973Z"
    }
   }
  },
  {
   "cell_type": "code",
   "execution_count": 14,
   "outputs": [
    {
     "data": {
      "text/plain": "0    solid wood platform bed good , deep sleep can ...\n1    all-clad 7 qt . slow cooker create delicious s...\n2    all-clad electrics 6.5 qt . slow cooker prepar...\n3    all-clad all professional tools pizza cutter t...\nName: product_text, dtype: object"
     },
     "execution_count": 14,
     "metadata": {},
     "output_type": "execute_result"
    }
   ],
   "source": [
    "wands_product_df['product_text'][:4]"
   ],
   "metadata": {
    "collapsed": false,
    "ExecuteTime": {
     "end_time": "2023-11-17T20:24:45.275509Z",
     "start_time": "2023-11-17T20:24:45.267225Z"
    }
   }
  },
  {
   "cell_type": "markdown",
   "source": [
    "### Simple Cohere Client Embedding test"
   ],
   "metadata": {
    "collapsed": false
   }
  },
  {
   "cell_type": "code",
   "execution_count": 14,
   "outputs": [],
   "source": [
    "# Now we'll set up the cohere client.\n",
    "co_client = cohere.Client(os.environ[\"COHERE_API_KEY\"])\n",
    "wands_embed_model = \"embed-english-v3.0\" # embed-english-light-v3.0\n",
    "wands_embed_input_type = \"search_document\"\n",
    "wands_embeds_query_type = \"search_query\""
   ],
   "metadata": {
    "collapsed": false,
    "ExecuteTime": {
     "end_time": "2023-11-20T07:15:06.970873Z",
     "start_time": "2023-11-20T07:15:06.947294Z"
    }
   }
  },
  {
   "cell_type": "code",
   "execution_count": 14,
   "outputs": [],
   "source": [
    "wands_sample_texts = list(wands_product_df['product_text'])[:4]\n",
    "# Get the embeddings\n",
    "wands_embeds_sample = co_client.embed(texts=wands_sample_texts,\n",
    "                                      model=wands_embed_model,\n",
    "                                      input_type=wands_embed_input_type).embeddings"
   ],
   "metadata": {
    "collapsed": false
   }
  },
  {
   "cell_type": "markdown",
   "source": [
    "### Simple LlamaIndex Pipeline"
   ],
   "metadata": {
    "collapsed": false
   }
  },
  {
   "cell_type": "code",
   "execution_count": 15,
   "outputs": [],
   "source": [
    "documents = []\n",
    "for i, row in wands_product_df.iterrows():\n",
    "    document = Document(\n",
    "        text=row['product_text'],  # Product description data\n",
    "        doc_id=row['product_id'],\n",
    "        extra_info={\"product_id\": row['product_id'], \n",
    "                    \"product_class\": row['product_class'], \n",
    "                    \"product_category\": row['category hierarchy']}\n",
    "    )\n",
    "    documents.append(document)"
   ],
   "metadata": {
    "collapsed": false,
    "ExecuteTime": {
     "end_time": "2023-11-20T07:15:11.451723Z",
     "start_time": "2023-11-20T07:15:09.478276Z"
    }
   }
  },
  {
   "cell_type": "markdown",
   "source": [
    "### Parse Documents with Simple Parser"
   ],
   "metadata": {
    "collapsed": false
   }
  },
  {
   "cell_type": "code",
   "execution_count": 16,
   "outputs": [],
   "source": [
    "# Create a simple parser \n",
    "parser = SimpleNodeParser()\n",
    "nodes = parser.get_nodes_from_documents(documents)"
   ],
   "metadata": {
    "collapsed": false,
    "ExecuteTime": {
     "end_time": "2023-11-20T07:15:23.056606Z",
     "start_time": "2023-11-20T07:15:13.240968Z"
    }
   }
  },
  {
   "cell_type": "markdown",
   "source": [
    "### Vector Store Setup\n",
    "\n",
    "Vector Stores are helpful in storing and retreiving embeddings at scale.\n",
    "Let us choose a simple open source Vector database (Chroma) to store and retreive embeddings for this demonstration.\n",
    "Using a Vector Store over a standard index data structure that Llama Index offers is helpful to transition to  database services for deployment in the cloud when there is a need to scale the prototype into a development solution for production."
   ],
   "metadata": {
    "collapsed": false
   }
  },
  {
   "cell_type": "code",
   "execution_count": 17,
   "outputs": [],
   "source": [
    "chroma_db_name = 'chroma_db_dev' #'chroma_db_local'\n",
    "chromadb_pth = os.path.join(parent_dir, chroma_db_name)\n",
    "chroma_collection_name = 'recommender_dev' #\"recommender_demo\""
   ],
   "metadata": {
    "collapsed": false,
    "ExecuteTime": {
     "end_time": "2023-11-20T07:15:24.560493Z",
     "start_time": "2023-11-20T07:15:24.537024Z"
    }
   }
  },
  {
   "cell_type": "code",
   "execution_count": 18,
   "outputs": [],
   "source": [
    "db = chromadb.PersistentClient(path=chromadb_pth)\n",
    "chroma_collection = db.get_or_create_collection(chroma_collection_name)\n",
    "vector_store = ChromaVectorStore(chroma_collection=chroma_collection)"
   ],
   "metadata": {
    "collapsed": false,
    "ExecuteTime": {
     "end_time": "2023-11-20T07:15:26.797848Z",
     "start_time": "2023-11-20T07:15:26.645067Z"
    }
   }
  },
  {
   "cell_type": "markdown",
   "source": [
    "### Create a simple Indexing Model\n",
    "\n",
    "Once a vector store is setup, we can create a simple llama index object, that will help implement a great prototype for search and retreival capabilities of recommendation systems.\n",
    "\n",
    "We will leverage Cohere's embedding, LLM and re-ranker models available through the Cohere API to add a natural language personalization component that will personalize user experience on the platform."
   ],
   "metadata": {
    "collapsed": false
   }
  },
  {
   "cell_type": "code",
   "execution_count": 19,
   "outputs": [],
   "source": [
    "# Parameterize Cohere configurations\n",
    "wands_embed_model = \"embed-english-v3.0\" #1024 dimension embedding\n",
    "wands_embed_input_type = \"search_document\"\n",
    "llm_model = \"command\" #Generation LLM\n",
    "max_tokens = 256\n",
    "temperature = 0.5 #0"
   ],
   "metadata": {
    "collapsed": false,
    "ExecuteTime": {
     "end_time": "2023-11-20T07:15:30.306894Z",
     "start_time": "2023-11-20T07:15:30.277233Z"
    }
   }
  },
  {
   "cell_type": "code",
   "execution_count": 20,
   "outputs": [],
   "source": [
    "# Setup a Cohere Service Context for Llama Index\n",
    "llm = Cohere(model=llm_model, \n",
    "             temperature=temperature, \n",
    "             cohere_api_key=os.environ['COHERE_API_KEY'], \n",
    "             max_tokens=max_tokens)\n",
    "\n",
    "embed_model = CohereEmbedding(cohere_api_key=os.environ[\"COHERE_API_KEY\"],\n",
    "                              model_name=wands_embed_model,\n",
    "                              input_type=wands_embed_input_type,)\n",
    "\n",
    "service_context = ServiceContext.from_defaults(llm=llm, \n",
    "                                               embed_model=embed_model)\n",
    "storage_context = StorageContext.from_defaults(vector_store=vector_store)"
   ],
   "metadata": {
    "collapsed": false,
    "ExecuteTime": {
     "end_time": "2023-11-20T07:15:31.699742Z",
     "start_time": "2023-11-20T07:15:31.062234Z"
    }
   }
  },
  {
   "cell_type": "code",
   "execution_count": 21,
   "outputs": [],
   "source": [
    "index_name = 'cohere_recommender_index' # \"cohere_chroma_index\""
   ],
   "metadata": {
    "collapsed": false,
    "ExecuteTime": {
     "end_time": "2023-11-20T07:15:36.219058Z",
     "start_time": "2023-11-20T07:15:36.192045Z"
    }
   }
  },
  {
   "cell_type": "code",
   "execution_count": 22,
   "outputs": [
    {
     "data": {
      "text/plain": "Parsing nodes:   0%|          | 0/42994 [00:00<?, ?it/s]",
      "application/vnd.jupyter.widget-view+json": {
       "version_major": 2,
       "version_minor": 0,
       "model_id": "3d60eaec26e84c6980bcdb42f7df2f4a"
      }
     },
     "metadata": {},
     "output_type": "display_data"
    },
    {
     "data": {
      "text/plain": "Generating embeddings:   0%|          | 0/42994 [00:00<?, ?it/s]",
      "application/vnd.jupyter.widget-view+json": {
       "version_major": 2,
       "version_minor": 0,
       "model_id": "0d3f2b776eb442ebb4b96858ea117e16"
      }
     },
     "metadata": {},
     "output_type": "display_data"
    }
   ],
   "source": [
    "# Build a simple index and persist it for future use\n",
    "simple_index = VectorStoreIndex.from_documents(documents=documents, \n",
    "                                               service_context=service_context,\n",
    "                                               storage_context=storage_context, \n",
    "                                               show_progress=True)\n",
    "simple_index.storage_context.persist(persist_dir=os.path.join(parent_dir, index_name))"
   ],
   "metadata": {
    "collapsed": false,
    "ExecuteTime": {
     "end_time": "2023-11-20T07:37:05.786921Z",
     "start_time": "2023-11-20T07:15:37.234362Z"
    }
   }
  },
  {
   "cell_type": "markdown",
   "source": [
    "### Load persisted Index\n",
    "\n",
    "If index is already generated and stored, can be loaded back in memory easily."
   ],
   "metadata": {
    "collapsed": false
   }
  },
  {
   "cell_type": "code",
   "execution_count": 23,
   "outputs": [],
   "source": [
    "db_loaded = chromadb.PersistentClient(path=chromadb_pth)\n",
    "chroma_collection_loaded = db_loaded.get_or_create_collection(chroma_collection_name)\n",
    "vector_store_loaded = ChromaVectorStore(chroma_collection=chroma_collection_loaded)\n",
    "\n",
    "simple_index = VectorStoreIndex.from_vector_store(vector_store=vector_store_loaded, \n",
    "                                                  service_context=service_context,)"
   ],
   "metadata": {
    "collapsed": false,
    "ExecuteTime": {
     "end_time": "2023-11-20T04:01:16.389205Z",
     "start_time": "2023-11-20T04:01:16.359174Z"
    }
   }
  },
  {
   "cell_type": "markdown",
   "source": [
    "### WANDS reference Query results\n",
    "\n",
    "In their paper, WANDS released a [reference pdf](https://github.com/wayfair/WANDS/blob/main/Product%20Search%20Relevance%20Annotation%20Guidelines.pdf) where they have details of product images and the web URL to the actual product with reasoning behind choice of labels. This is a great initial test to see whether the model+emebdding out of the box can match or improve recommendations of those scenarios through natural language assistant capabilities. \n",
    "\n",
    "This also gives us an opportunity to apply the re-ranker module and work on optimizing existing recommender algorithms with a small amount of high quality labelled data"
   ],
   "metadata": {
    "collapsed": false
   }
  },
  {
   "cell_type": "code",
   "execution_count": 23,
   "outputs": [],
   "source": [
    "wands_ref_queries = ['wicker outdoor bar', \n",
    "                     'chair and a half recliner', \n",
    "                     'shamrock', \n",
    "                     'farmhouse cabinet', \n",
    "                     'wire basket with dividers', \n",
    "                     'kids chair', \n",
    "                     '48 in entry table with side by side drawer', \n",
    "                     'salon chair']"
   ],
   "metadata": {
    "collapsed": false,
    "ExecuteTime": {
     "end_time": "2023-11-20T07:38:25.844095Z",
     "start_time": "2023-11-20T07:38:25.825400Z"
    }
   }
  },
  {
   "cell_type": "markdown",
   "source": [
    "### Computing relevance similarities through VectorDB\n",
    "\n",
    "We know LLM calls are expensive and slow, can we get good results when doing cosine similarity search with embeddings alone?\n",
    "This gives us a good baseline to understand pure embedding based ranking performance that can be compered to LLM based workflow with embeddings"
   ],
   "metadata": {
    "collapsed": false
   }
  },
  {
   "cell_type": "code",
   "execution_count": 26,
   "outputs": [
    {
     "data": {
      "text/plain": "42994"
     },
     "execution_count": 26,
     "metadata": {},
     "output_type": "execute_result"
    }
   ],
   "source": [
    "chroma_collection.count()"
   ],
   "metadata": {
    "collapsed": false,
    "ExecuteTime": {
     "end_time": "2023-11-19T03:54:52.845220Z",
     "start_time": "2023-11-19T03:54:52.796068Z"
    }
   }
  },
  {
   "cell_type": "code",
   "execution_count": null,
   "outputs": [],
   "source": [
    "rec = chroma_collection.peek(1)\n",
    "print('Metadatas:  ', rec['metadatas'])"
   ],
   "metadata": {
    "collapsed": false
   }
  },
  {
   "cell_type": "code",
   "execution_count": null,
   "outputs": [],
   "source": [
    "print('Documents:  ', rec['documents'])"
   ],
   "metadata": {
    "collapsed": false
   }
  },
  {
   "cell_type": "markdown",
   "source": [
    "### Retrieve embeddings through query search with Vector DB"
   ],
   "metadata": {
    "collapsed": false
   }
  },
  {
   "cell_type": "code",
   "execution_count": 24,
   "outputs": [],
   "source": [
    "co_client = cohere.Client(os.environ[\"COHERE_API_KEY\"])\n",
    "wands_embed_model = \"embed-english-v3.0\" # embed-english-light-v3.0\n",
    "wands_embeds_query_type = \"search_query\""
   ],
   "metadata": {
    "collapsed": false,
    "ExecuteTime": {
     "end_time": "2023-11-20T07:38:38.293116Z",
     "start_time": "2023-11-20T07:38:38.261039Z"
    }
   }
  },
  {
   "cell_type": "code",
   "execution_count": 25,
   "outputs": [
    {
     "name": "stdout",
     "output_type": "stream",
     "text": [
      "Search Query: chair and a half recliner\n"
     ]
    }
   ],
   "source": [
    "example = wands_ref_queries[1]\n",
    "print(f\"Search Query: {example}\")"
   ],
   "metadata": {
    "collapsed": false,
    "ExecuteTime": {
     "end_time": "2023-11-20T07:38:41.650198Z",
     "start_time": "2023-11-20T07:38:41.623358Z"
    }
   }
  },
  {
   "cell_type": "code",
   "execution_count": 54,
   "outputs": [],
   "source": [
    "sample_query_embed = co_client.embed(texts=[example],\n",
    "                                     model=wands_embed_model,\n",
    "                                     input_type=wands_embeds_query_type).embeddings"
   ],
   "metadata": {
    "collapsed": false,
    "ExecuteTime": {
     "end_time": "2023-11-19T04:38:10.866400Z",
     "start_time": "2023-11-19T04:38:10.428059Z"
    }
   }
  },
  {
   "cell_type": "code",
   "execution_count": 55,
   "outputs": [
    {
     "data": {
      "text/plain": "{'ids': [['9f6dce51-e212-4333-b0c2-677af2eb5b5c',\n   'ae17bd92-2d91-40fe-a5ed-ba9a80de2568',\n   'd38274a8-f534-44ec-bb86-305e85210443']],\n 'distances': [[0.7982885837554932, 0.8617343306541443, 0.8665069937705994]],\n 'metadatas': [[{'_node_content': '{\"id_\": \"9f6dce51-e212-4333-b0c2-677af2eb5b5c\", \"embedding\": null, \"metadata\": {\"product_class\": \"Accent Chairs\", \"product_category\": \"Furniture / Living Room Furniture / Chairs & Seating / Accent Chairs / Chair And A Half Accent Chairs\"}, \"excluded_embed_metadata_keys\": [], \"excluded_llm_metadata_keys\": [], \"relationships\": {\"1\": {\"node_id\": \"6458\", \"node_type\": \"4\", \"metadata\": {\"product_class\": \"Accent Chairs\", \"product_category\": \"Furniture / Living Room Furniture / Chairs & Seating / Accent Chairs / Chair And A Half Accent Chairs\"}, \"hash\": \"44985d5d4f8241b849534c355a2679296c26d103e5e338eb44abf5b04ae3a23e\", \"class_name\": \"RelatedNodeInfo\"}, \"2\": {\"node_id\": \"ab8de879-ad81-4aaf-81c7-96a26236f69b\", \"node_type\": \"1\", \"metadata\": {\"product_class\": NaN, \"product_category\": \"Outdoor / Outdoor D\\\\u00e9cor / Outdoor Wall D\\\\u00e9cor\"}, \"hash\": \"06e130e677ebe7ba7e26b88ac94d0d03ac1d4bd99f608d904ff078112a67f5da\", \"class_name\": \"RelatedNodeInfo\"}, \"3\": {\"node_id\": \"c172f058-88cd-4e29-8e48-a799b154c175\", \"node_type\": \"1\", \"metadata\": {\"product_class\": \"Accent Chairs\", \"product_category\": \"Furniture / Living Room Furniture / Chairs & Seating / Accent Chairs / Arm Accent Chairs\"}, \"hash\": \"890aa45bb2c04c07723fc7215b9fde2024b23a2ffa9de8f8d4513eb6afd65417\", \"class_name\": \"RelatedNodeInfo\"}}, \"hash\": \"c444633731657fc3105339dd66ed99366e69f60a1ebf3701580bae30297eee66\", \"text\": \"\", \"start_char_idx\": null, \"end_char_idx\": null, \"text_template\": \"{metadata_str}\\\\n\\\\n{content}\", \"metadata_template\": \"{key}: {value}\", \"metadata_seperator\": \"\\\\n\", \"class_name\": \"TextNode\"}',\n    '_node_type': 'TextNode',\n    'doc_id': '6458',\n    'document_id': '6458',\n    'product_category': 'Furniture / Living Room Furniture / Chairs & Seating / Accent Chairs / Chair And A Half Accent Chairs',\n    'product_class': 'Accent Chairs',\n    'ref_doc_id': '6458'},\n   {'_node_content': '{\"id_\": \"ae17bd92-2d91-40fe-a5ed-ba9a80de2568\", \"embedding\": null, \"metadata\": {\"product_class\": \"Accent Chairs\", \"product_category\": \"Furniture / Living Room Furniture / Chairs & Seating / Accent Chairs / Chair And A Half Accent Chairs\"}, \"excluded_embed_metadata_keys\": [], \"excluded_llm_metadata_keys\": [], \"relationships\": {\"1\": {\"node_id\": \"18971\", \"node_type\": \"4\", \"metadata\": {\"product_class\": \"Accent Chairs\", \"product_category\": \"Furniture / Living Room Furniture / Chairs & Seating / Accent Chairs / Chair And A Half Accent Chairs\"}, \"hash\": \"9eb3482bcd6f354c585c1ffa734e4c5c89bf23cfaca8774b69a4b32b38bb87b3\", \"class_name\": \"RelatedNodeInfo\"}, \"2\": {\"node_id\": \"ee89c063-3bcc-4d08-be85-3b7db9582f20\", \"node_type\": \"1\", \"metadata\": {\"product_class\": \"Sofas|Sectionals\", \"product_category\": \"Furniture / Living Room Furniture / Sectionals / Stationary Sectionals\"}, \"hash\": \"be9e37e2fbbfb7964c2d4beb5da258b4bcda6e8cdab70d49c97741484c162501\", \"class_name\": \"RelatedNodeInfo\"}, \"3\": {\"node_id\": \"ea341c8c-b070-4522-8407-c1c83a6714a1\", \"node_type\": \"1\", \"metadata\": {\"product_class\": \"Area Rugs\", \"product_category\": \"Rugs / Area Rugs\"}, \"hash\": \"c0d46f06f5595012e4725971223068e109c5737701d634e4414f25202c806e47\", \"class_name\": \"RelatedNodeInfo\"}}, \"hash\": \"fe865091814edf68414aa5101cfbe297d11bece0cc9cce09ceeea814cac6fa21\", \"text\": \"\", \"start_char_idx\": null, \"end_char_idx\": null, \"text_template\": \"{metadata_str}\\\\n\\\\n{content}\", \"metadata_template\": \"{key}: {value}\", \"metadata_seperator\": \"\\\\n\", \"class_name\": \"TextNode\"}',\n    '_node_type': 'TextNode',\n    'doc_id': '18971',\n    'document_id': '18971',\n    'product_category': 'Furniture / Living Room Furniture / Chairs & Seating / Accent Chairs / Chair And A Half Accent Chairs',\n    'product_class': 'Accent Chairs',\n    'ref_doc_id': '18971'},\n   {'_node_content': '{\"id_\": \"d38274a8-f534-44ec-bb86-305e85210443\", \"embedding\": null, \"metadata\": {\"product_class\": \"Accent Chairs\", \"product_category\": \"Furniture / Living Room Furniture / Chairs & Seating / Accent Chairs\"}, \"excluded_embed_metadata_keys\": [], \"excluded_llm_metadata_keys\": [], \"relationships\": {\"1\": {\"node_id\": \"8369\", \"node_type\": \"4\", \"metadata\": {\"product_class\": \"Accent Chairs\", \"product_category\": \"Furniture / Living Room Furniture / Chairs & Seating / Accent Chairs\"}, \"hash\": \"feca2442609e4081922ad871e2523c9bd89b2248abc3daf23cf4dd0c62e3092b\", \"class_name\": \"RelatedNodeInfo\"}, \"2\": {\"node_id\": \"9a92a17f-32ef-4000-b79a-a8ae046039d9\", \"node_type\": \"1\", \"metadata\": {\"product_class\": \"Sofas\", \"product_category\": \"Furniture / Living Room Furniture / Sofas\"}, \"hash\": \"209f275f95cc366e674470247e3b987040fcb75b01734733402fa3ff85200ce5\", \"class_name\": \"RelatedNodeInfo\"}, \"3\": {\"node_id\": \"5df0b474-a933-4883-982e-03a330c59a73\", \"node_type\": \"1\", \"metadata\": {\"product_class\": \"Beds\", \"product_category\": \"Furniture / Bedroom Furniture / Beds & Headboards / Beds\"}, \"hash\": \"4e73a31c277a5618bc67f3835af2ecf8c5eb9607bb80c7a4d5f2ee015a191681\", \"class_name\": \"RelatedNodeInfo\"}}, \"hash\": \"b6f1bd6d1236398b0af5c8a2d8ca1977f8b6be8c88fb9a25b6e1d0f1b2aa961b\", \"text\": \"\", \"start_char_idx\": null, \"end_char_idx\": null, \"text_template\": \"{metadata_str}\\\\n\\\\n{content}\", \"metadata_template\": \"{key}: {value}\", \"metadata_seperator\": \"\\\\n\", \"class_name\": \"TextNode\"}',\n    '_node_type': 'TextNode',\n    'doc_id': '8369',\n    'document_id': '8369',\n    'product_category': 'Furniture / Living Room Furniture / Chairs & Seating / Accent Chairs',\n    'product_class': 'Accent Chairs',\n    'ref_doc_id': '8369'}]],\n 'embeddings': None,\n 'documents': [[\"steel 43 '' wide top grain leather chair and a half this chair is architectural shaping and bold nail head detailing . this armchair has a casual appeal as well as amazing comfort with deep-seated there is plenty of room to relax . it features semi-attached backs , blends down seat cushions , and recesssed arms .\",\n   \"st james 63 '' wide polyester chair and a half your search for the world 's greatest chair ends here . this oversize chair takes size and comfort to a new level . a chair that can easily fit two lovebirds or just a single bird who likes its space , it maintains its sleek lines and cool aesthetics while offering what many would consider a slice of heaven on earth .\",\n   \"51 '' wide armchair this sofa bed armchair adds a custom touch to your living room or guest room . it 's made in the usa with a solid wood frame and foam-filled upholstery of your choice . this chair and a half features a traditional silhouette with a loose cushioned back and rolled arms with welted edges . it sits on tapered wood feet , and the removable bottom cushion lifts to reveal a 7'-long twin mattress , just right for a last-minute sleepover . we love that this chair comes with two matching toss pillows for extra cushioning .\"]],\n 'uris': None,\n 'data': None}"
     },
     "execution_count": 55,
     "metadata": {},
     "output_type": "execute_result"
    }
   ],
   "source": [
    "sample_search_res = chroma_collection.query(query_embeddings=sample_query_embed,\n",
    "                                            n_results=3,\n",
    "                                            # where={\"metadata_field\": \"is_equal_to_this\"},\n",
    "                                            # where_document={\"$contains\":\"search_string\"}\n",
    "                                            )\n",
    "sample_search_res"
   ],
   "metadata": {
    "collapsed": false,
    "ExecuteTime": {
     "end_time": "2023-11-19T04:38:11.494248Z",
     "start_time": "2023-11-19T04:38:11.464024Z"
    }
   }
  },
  {
   "cell_type": "code",
   "execution_count": 56,
   "outputs": [
    {
     "data": {
      "text/plain": "[[\"steel 43 '' wide top grain leather chair and a half this chair is architectural shaping and bold nail head detailing . this armchair has a casual appeal as well as amazing comfort with deep-seated there is plenty of room to relax . it features semi-attached backs , blends down seat cushions , and recesssed arms .\",\n  \"st james 63 '' wide polyester chair and a half your search for the world 's greatest chair ends here . this oversize chair takes size and comfort to a new level . a chair that can easily fit two lovebirds or just a single bird who likes its space , it maintains its sleek lines and cool aesthetics while offering what many would consider a slice of heaven on earth .\",\n  \"51 '' wide armchair this sofa bed armchair adds a custom touch to your living room or guest room . it 's made in the usa with a solid wood frame and foam-filled upholstery of your choice . this chair and a half features a traditional silhouette with a loose cushioned back and rolled arms with welted edges . it sits on tapered wood feet , and the removable bottom cushion lifts to reveal a 7'-long twin mattress , just right for a last-minute sleepover . we love that this chair comes with two matching toss pillows for extra cushioning .\"]]"
     },
     "execution_count": 56,
     "metadata": {},
     "output_type": "execute_result"
    }
   ],
   "source": [
    "sample_search_res['documents']"
   ],
   "metadata": {
    "collapsed": false,
    "ExecuteTime": {
     "end_time": "2023-11-19T04:38:29.487850Z",
     "start_time": "2023-11-19T04:38:29.465730Z"
    }
   }
  },
  {
   "cell_type": "code",
   "execution_count": 57,
   "outputs": [],
   "source": [
    "inter_res = [meta['_node_content'] for meta in sample_search_res['metadatas'][0]]"
   ],
   "metadata": {
    "collapsed": false,
    "ExecuteTime": {
     "end_time": "2023-11-19T04:38:39.783817Z",
     "start_time": "2023-11-19T04:38:39.750638Z"
    }
   }
  },
  {
   "cell_type": "code",
   "execution_count": 58,
   "outputs": [
    {
     "data": {
      "text/plain": "['{\"id_\": \"9f6dce51-e212-4333-b0c2-677af2eb5b5c\", \"embedding\": null, \"metadata\": {\"product_class\": \"Accent Chairs\", \"product_category\": \"Furniture / Living Room Furniture / Chairs & Seating / Accent Chairs / Chair And A Half Accent Chairs\"}, \"excluded_embed_metadata_keys\": [], \"excluded_llm_metadata_keys\": [], \"relationships\": {\"1\": {\"node_id\": \"6458\", \"node_type\": \"4\", \"metadata\": {\"product_class\": \"Accent Chairs\", \"product_category\": \"Furniture / Living Room Furniture / Chairs & Seating / Accent Chairs / Chair And A Half Accent Chairs\"}, \"hash\": \"44985d5d4f8241b849534c355a2679296c26d103e5e338eb44abf5b04ae3a23e\", \"class_name\": \"RelatedNodeInfo\"}, \"2\": {\"node_id\": \"ab8de879-ad81-4aaf-81c7-96a26236f69b\", \"node_type\": \"1\", \"metadata\": {\"product_class\": NaN, \"product_category\": \"Outdoor / Outdoor D\\\\u00e9cor / Outdoor Wall D\\\\u00e9cor\"}, \"hash\": \"06e130e677ebe7ba7e26b88ac94d0d03ac1d4bd99f608d904ff078112a67f5da\", \"class_name\": \"RelatedNodeInfo\"}, \"3\": {\"node_id\": \"c172f058-88cd-4e29-8e48-a799b154c175\", \"node_type\": \"1\", \"metadata\": {\"product_class\": \"Accent Chairs\", \"product_category\": \"Furniture / Living Room Furniture / Chairs & Seating / Accent Chairs / Arm Accent Chairs\"}, \"hash\": \"890aa45bb2c04c07723fc7215b9fde2024b23a2ffa9de8f8d4513eb6afd65417\", \"class_name\": \"RelatedNodeInfo\"}}, \"hash\": \"c444633731657fc3105339dd66ed99366e69f60a1ebf3701580bae30297eee66\", \"text\": \"\", \"start_char_idx\": null, \"end_char_idx\": null, \"text_template\": \"{metadata_str}\\\\n\\\\n{content}\", \"metadata_template\": \"{key}: {value}\", \"metadata_seperator\": \"\\\\n\", \"class_name\": \"TextNode\"}',\n '{\"id_\": \"ae17bd92-2d91-40fe-a5ed-ba9a80de2568\", \"embedding\": null, \"metadata\": {\"product_class\": \"Accent Chairs\", \"product_category\": \"Furniture / Living Room Furniture / Chairs & Seating / Accent Chairs / Chair And A Half Accent Chairs\"}, \"excluded_embed_metadata_keys\": [], \"excluded_llm_metadata_keys\": [], \"relationships\": {\"1\": {\"node_id\": \"18971\", \"node_type\": \"4\", \"metadata\": {\"product_class\": \"Accent Chairs\", \"product_category\": \"Furniture / Living Room Furniture / Chairs & Seating / Accent Chairs / Chair And A Half Accent Chairs\"}, \"hash\": \"9eb3482bcd6f354c585c1ffa734e4c5c89bf23cfaca8774b69a4b32b38bb87b3\", \"class_name\": \"RelatedNodeInfo\"}, \"2\": {\"node_id\": \"ee89c063-3bcc-4d08-be85-3b7db9582f20\", \"node_type\": \"1\", \"metadata\": {\"product_class\": \"Sofas|Sectionals\", \"product_category\": \"Furniture / Living Room Furniture / Sectionals / Stationary Sectionals\"}, \"hash\": \"be9e37e2fbbfb7964c2d4beb5da258b4bcda6e8cdab70d49c97741484c162501\", \"class_name\": \"RelatedNodeInfo\"}, \"3\": {\"node_id\": \"ea341c8c-b070-4522-8407-c1c83a6714a1\", \"node_type\": \"1\", \"metadata\": {\"product_class\": \"Area Rugs\", \"product_category\": \"Rugs / Area Rugs\"}, \"hash\": \"c0d46f06f5595012e4725971223068e109c5737701d634e4414f25202c806e47\", \"class_name\": \"RelatedNodeInfo\"}}, \"hash\": \"fe865091814edf68414aa5101cfbe297d11bece0cc9cce09ceeea814cac6fa21\", \"text\": \"\", \"start_char_idx\": null, \"end_char_idx\": null, \"text_template\": \"{metadata_str}\\\\n\\\\n{content}\", \"metadata_template\": \"{key}: {value}\", \"metadata_seperator\": \"\\\\n\", \"class_name\": \"TextNode\"}',\n '{\"id_\": \"d38274a8-f534-44ec-bb86-305e85210443\", \"embedding\": null, \"metadata\": {\"product_class\": \"Accent Chairs\", \"product_category\": \"Furniture / Living Room Furniture / Chairs & Seating / Accent Chairs\"}, \"excluded_embed_metadata_keys\": [], \"excluded_llm_metadata_keys\": [], \"relationships\": {\"1\": {\"node_id\": \"8369\", \"node_type\": \"4\", \"metadata\": {\"product_class\": \"Accent Chairs\", \"product_category\": \"Furniture / Living Room Furniture / Chairs & Seating / Accent Chairs\"}, \"hash\": \"feca2442609e4081922ad871e2523c9bd89b2248abc3daf23cf4dd0c62e3092b\", \"class_name\": \"RelatedNodeInfo\"}, \"2\": {\"node_id\": \"9a92a17f-32ef-4000-b79a-a8ae046039d9\", \"node_type\": \"1\", \"metadata\": {\"product_class\": \"Sofas\", \"product_category\": \"Furniture / Living Room Furniture / Sofas\"}, \"hash\": \"209f275f95cc366e674470247e3b987040fcb75b01734733402fa3ff85200ce5\", \"class_name\": \"RelatedNodeInfo\"}, \"3\": {\"node_id\": \"5df0b474-a933-4883-982e-03a330c59a73\", \"node_type\": \"1\", \"metadata\": {\"product_class\": \"Beds\", \"product_category\": \"Furniture / Bedroom Furniture / Beds & Headboards / Beds\"}, \"hash\": \"4e73a31c277a5618bc67f3835af2ecf8c5eb9607bb80c7a4d5f2ee015a191681\", \"class_name\": \"RelatedNodeInfo\"}}, \"hash\": \"b6f1bd6d1236398b0af5c8a2d8ca1977f8b6be8c88fb9a25b6e1d0f1b2aa961b\", \"text\": \"\", \"start_char_idx\": null, \"end_char_idx\": null, \"text_template\": \"{metadata_str}\\\\n\\\\n{content}\", \"metadata_template\": \"{key}: {value}\", \"metadata_seperator\": \"\\\\n\", \"class_name\": \"TextNode\"}']"
     },
     "execution_count": 58,
     "metadata": {},
     "output_type": "execute_result"
    }
   ],
   "source": [
    "inter_res"
   ],
   "metadata": {
    "collapsed": false,
    "ExecuteTime": {
     "end_time": "2023-11-19T04:38:40.937343Z",
     "start_time": "2023-11-19T04:38:40.916148Z"
    }
   }
  },
  {
   "cell_type": "code",
   "execution_count": 33,
   "outputs": [],
   "source": [
    "product_id_list = [6458, 18971, 8369]"
   ],
   "metadata": {
    "collapsed": false,
    "ExecuteTime": {
     "end_time": "2023-11-20T04:35:40.638681Z",
     "start_time": "2023-11-20T04:35:40.594411Z"
    }
   }
  },
  {
   "cell_type": "markdown",
   "source": [
    "### Inspect GroundTruth\n",
    "\n",
    "Find which were the exact labelled matches for the search"
   ],
   "metadata": {
    "collapsed": false
   }
  },
  {
   "cell_type": "code",
   "execution_count": 36,
   "outputs": [
    {
     "data": {
      "text/plain": "      query_id                      query query_class      id  product_id  \\\n6059         4  chair and a half recliner   Recliners   61048        6458   \n6105         4  chair and a half recliner   Recliners  205426       18971   \n\n        label  label_score  \n6059  Partial          0.6  \n6105  Partial          0.6  ",
      "text/html": "<div>\n<style scoped>\n    .dataframe tbody tr th:only-of-type {\n        vertical-align: middle;\n    }\n\n    .dataframe tbody tr th {\n        vertical-align: top;\n    }\n\n    .dataframe thead th {\n        text-align: right;\n    }\n</style>\n<table border=\"1\" class=\"dataframe\">\n  <thead>\n    <tr style=\"text-align: right;\">\n      <th></th>\n      <th>query_id</th>\n      <th>query</th>\n      <th>query_class</th>\n      <th>id</th>\n      <th>product_id</th>\n      <th>label</th>\n      <th>label_score</th>\n    </tr>\n  </thead>\n  <tbody>\n    <tr>\n      <th>6059</th>\n      <td>4</td>\n      <td>chair and a half recliner</td>\n      <td>Recliners</td>\n      <td>61048</td>\n      <td>6458</td>\n      <td>Partial</td>\n      <td>0.6</td>\n    </tr>\n    <tr>\n      <th>6105</th>\n      <td>4</td>\n      <td>chair and a half recliner</td>\n      <td>Recliners</td>\n      <td>205426</td>\n      <td>18971</td>\n      <td>Partial</td>\n      <td>0.6</td>\n    </tr>\n  </tbody>\n</table>\n</div>"
     },
     "execution_count": 36,
     "metadata": {},
     "output_type": "execute_result"
    }
   ],
   "source": [
    "wands_query_label_df.loc[(wands_query_label_df['product_id'].isin(product_id_list)) & (wands_query_label_df['query'] == example)]"
   ],
   "metadata": {
    "collapsed": false,
    "ExecuteTime": {
     "end_time": "2023-11-20T04:35:56.004750Z",
     "start_time": "2023-11-20T04:35:55.968422Z"
    }
   }
  },
  {
   "cell_type": "markdown",
   "source": [
    "In this situation, we have matches that were identified as partial for chair and half recliner pop up in our embedding based recommendations!\n",
    "While this is a good result for our baseline, we would like to see if there is better relevance in recommended results, and a better user experience through a conversational agent that can be concise and add a bit of personal touch, and this is what we can quickly hope to prototype with Cohere's LLMs :)"
   ],
   "metadata": {
    "collapsed": false
   }
  },
  {
   "cell_type": "markdown",
   "source": [
    "### Use Llama Index Query Engine\n",
    "\n",
    "This will apply the LLMPredictor to search and retreive all relevant contexts, while providing the output in a more natural language oriented user experience for search."
   ],
   "metadata": {
    "collapsed": false
   }
  },
  {
   "cell_type": "code",
   "execution_count": 23,
   "outputs": [],
   "source": [
    "# sampled_queries = wands_query_label_df.sample(n=10, random_state=420)\n",
    "# check_index = 1\n",
    "# example = sampled_queries['query'].values[check_index]"
   ],
   "metadata": {
    "collapsed": false
   }
  },
  {
   "cell_type": "code",
   "execution_count": 26,
   "outputs": [
    {
     "name": "stdout",
     "output_type": "stream",
     "text": [
      "Search Query: chair and a half recliner\n"
     ]
    }
   ],
   "source": [
    "example_llm = wands_ref_queries[1]\n",
    "print(f\"Search Query: {example_llm}\")"
   ],
   "metadata": {
    "collapsed": false,
    "ExecuteTime": {
     "end_time": "2023-11-20T07:39:00.073611Z",
     "start_time": "2023-11-20T07:39:00.049242Z"
    }
   }
  },
  {
   "cell_type": "code",
   "execution_count": 27,
   "outputs": [],
   "source": [
    "query_engine = simple_index.as_query_engine()"
   ],
   "metadata": {
    "collapsed": false,
    "ExecuteTime": {
     "end_time": "2023-11-20T07:39:02.445290Z",
     "start_time": "2023-11-20T07:39:01.953125Z"
    }
   }
  },
  {
   "cell_type": "code",
   "execution_count": 28,
   "outputs": [
    {
     "name": "stderr",
     "output_type": "stream",
     "text": [
      "Your text contains a trailing whitespace, which has been trimmed to ensure high quality generations.\n"
     ]
    },
    {
     "name": "stdout",
     "output_type": "stream",
     "text": [
      "Here are a couple of options for recliner chairs: \n",
      "\n",
      "- The first recliner is 33.5\" wide and is made with soft microfiber fabric and high-density sponge filling for added comfort. This chair is a power lift assist standard recliner, which can help elderly individuals with standing problems. \n",
      "\n",
      "- The second recliner is slightly wider at 31\" and is made with engineered bonded leather. This chair includes a glider power recliner with chaise seating, as well as a swivel base with a 160-degree turning radius. \n",
      "\n",
      "Would you like me to narrow down the options based on additional specifications? \n"
     ]
    }
   ],
   "source": [
    "ex_response = query_engine.query(example_llm)\n",
    "print(ex_response, sep=\"\\n\")"
   ],
   "metadata": {
    "collapsed": false,
    "ExecuteTime": {
     "end_time": "2023-11-20T07:39:07.336054Z",
     "start_time": "2023-11-20T07:39:03.063111Z"
    }
   }
  },
  {
   "cell_type": "code",
   "execution_count": 34,
   "outputs": [
    {
     "data": {
      "text/plain": "[NodeWithScore(node=TextNode(id_='917c1213-ea17-4304-9881-fbdf0876e6e5', embedding=None, metadata={'product_class': 'Recliners', 'product_category': 'Furniture / Living Room Furniture / Chairs & Seating / Recliners'}, excluded_embed_metadata_keys=[], excluded_llm_metadata_keys=[], relationships={<NodeRelationship.SOURCE: '1'>: RelatedNodeInfo(node_id='2277', node_type=<ObjectType.DOCUMENT: '4'>, metadata={'product_class': 'Recliners', 'product_category': 'Furniture / Living Room Furniture / Chairs & Seating / Recliners'}, hash='71902313bce54534c7e3406e54599827bd59375bc4fd8f959e89bd503ac0be44'), <NodeRelationship.PREVIOUS: '2'>: RelatedNodeInfo(node_id='ded78c3e-b177-4103-8864-83d7e3527a80', node_type=<ObjectType.TEXT: '1'>, metadata={'product_class': 'Ottomans', 'product_category': 'Furniture / Living Room Furniture / Ottomans & Poufs'}, hash='3834b988015a1c4d9fcca7145632e66677a5946566157b026119384366a80675'), <NodeRelationship.NEXT: '3'>: RelatedNodeInfo(node_id='fa1d8781-c165-42e6-96ed-92043c4574a5', node_type=<ObjectType.TEXT: '1'>, metadata={'product_class': 'Deck Boxes', 'product_category': 'Storage & Organization / Garage & Outdoor Storage & Organization / Deck Boxes & Patio Storage'}, hash='3c0b68db156b28d5e990fcf1339d32171cc507b5311469b722697ea4971f0fbb')}, hash='3338984a95c60a780db93faf4e27f263623f7e84296438b45fa8b2d36fac7451', text=\"33.5 '' wide faux leather power lift assist standard recliner the chair upholstered in soft and comfy microfiber fabric and filled with high-density sponge , offering you more comfort than expected . a lift chair can be adjusted to help those elderly who has standing problems .\", start_char_idx=None, end_char_idx=None, text_template='{metadata_str}\\n\\n{content}', metadata_template='{key}: {value}', metadata_seperator='\\n'), score=0.40327818137627686),\n NodeWithScore(node=TextNode(id_='dc9746d5-4d50-4ba7-ba39-edfc34510510', embedding=None, metadata={'product_class': 'Recliners', 'product_category': 'Furniture / Living Room Furniture / Chairs & Seating / Recliners'}, excluded_embed_metadata_keys=[], excluded_llm_metadata_keys=[], relationships={<NodeRelationship.SOURCE: '1'>: RelatedNodeInfo(node_id='32081', node_type=<ObjectType.DOCUMENT: '4'>, metadata={'product_class': 'Recliners', 'product_category': 'Furniture / Living Room Furniture / Chairs & Seating / Recliners'}, hash='6772df4ea8f404351dde83c3de59349f1f66bd54660f37d978b40749960435c5'), <NodeRelationship.PREVIOUS: '2'>: RelatedNodeInfo(node_id='93822775-379e-4900-b74a-63593eeb4be2', node_type=<ObjectType.TEXT: '1'>, metadata={'product_class': 'Area Rugs', 'product_category': 'Rugs / Area Rugs'}, hash='9e14495c64b8d68919fcfb13a8e180b46a0a5bf360a941c8b194016b719bd4ac'), <NodeRelationship.NEXT: '3'>: RelatedNodeInfo(node_id='4ab45f0a-5e63-42ea-afbb-360b8fa7217f', node_type=<ObjectType.TEXT: '1'>, metadata={'product_class': 'Vanities', 'product_category': 'Home Improvement / Bathroom Remodel & Bathroom Fixtures / Bathroom Vanities / All Bathroom Vanities / Modern & Contemporary Bathroom Vanities'}, hash='38b5ff06f8a2e0a0545023d9d4fdf5ab50acf52fac54610d049141dd679eb04d')}, hash='3338984a95c60a780db93faf4e27f263623f7e84296438b45fa8b2d36fac7451', text=\"mccandlish 31 '' wide faux leather power glider standard recliner the mccandlish chair features a swivel , glider power recliner with chaise seating and a swivel base with a 160 degree turning radius . the feature cover is an engineered , smooth and soft bonded leather .\", start_char_idx=None, end_char_idx=None, text_template='{metadata_str}\\n\\n{content}', metadata_template='{key}: {value}', metadata_seperator='\\n'), score=0.402115016783076)]"
     },
     "execution_count": 34,
     "metadata": {},
     "output_type": "execute_result"
    }
   ],
   "source": [
    "ex_response.source_nodes"
   ],
   "metadata": {
    "collapsed": false,
    "ExecuteTime": {
     "end_time": "2023-11-20T07:48:29.899277Z",
     "start_time": "2023-11-20T07:48:29.876960Z"
    }
   }
  },
  {
   "cell_type": "markdown",
   "source": [
    "#### Initial Observations\n",
    "\n",
    "This sounds like a real in store assistant who gives you that customer experience feeling there are some details that will actually be more helpful coming from agents (such as size or other measurement characteristics). But it does not look like it was able to retrieve partial results just looking at the descriptions, as they seem to focus more on recliners\n",
    "\n",
    "With that in mind, we can try different prompting techniques easily through a workflow like Llama Index to get the LLM to be more helpful in responses. One such approach is the [tree summarize](https://gpt-index.readthedocs.io/en/stable/module_guides/deploying/query_engine/response_modes.html), which is good at generating summary responses combining information across different chunks of a context fed to the LLM. Lets apply that and review the results."
   ],
   "metadata": {
    "collapsed": false
   }
  },
  {
   "cell_type": "code",
   "execution_count": 29,
   "outputs": [],
   "source": [
    "query_engine_param = simple_index.as_query_engine(\n",
    "    response_mode=\"tree_summarize\",\n",
    "    verbose=True,\n",
    ")"
   ],
   "metadata": {
    "collapsed": false,
    "ExecuteTime": {
     "end_time": "2023-11-20T07:39:21.535680Z",
     "start_time": "2023-11-20T07:39:21.500502Z"
    }
   }
  },
  {
   "cell_type": "code",
   "execution_count": 31,
   "outputs": [
    {
     "name": "stderr",
     "output_type": "stream",
     "text": [
      "Your text contains a trailing whitespace, which has been trimmed to ensure high quality generations.\n"
     ]
    },
    {
     "name": "stdout",
     "output_type": "stream",
     "text": [
      "Here are some recliner options for you: \n",
      "\n",
      "- The MCCandlish recliner is a chair and a half recliner with engineered bonded leather, a smooth and soft cover. It features a swivel base with a 160-degree turning radius and glider power recliner with chaise seating. The MCCandlish recliner is 31\" wide and is a good option for those who prefer a wider recliner. \n",
      "\n",
      "- The recliner is 33.5\" wide and is upholstered in microfiber fabric. It is filled with a high-density sponge, making it a comfortable option. This recliner also has lift assist, which can help those with standing problems. \n",
      "\n",
      "Both of these options are recliner chairs and a half, offering ample space for comfortable seating. \n",
      "\n",
      "Would you like to know more about any of these products? \n"
     ]
    }
   ],
   "source": [
    "ex_response_param = query_engine_param.query(example_llm)\n",
    "print(ex_response_param, sep=\"\\n\")"
   ],
   "metadata": {
    "collapsed": false,
    "ExecuteTime": {
     "end_time": "2023-11-20T07:39:58.348655Z",
     "start_time": "2023-11-20T07:39:52.781600Z"
    }
   }
  },
  {
   "cell_type": "markdown",
   "source": [
    "#### First Impressions\n",
    "\n",
    "That was a similar response to what we got earlier, with some helpful indications. However, the text seems a little long winded in comparison and it did not really retrieve better recommendations either. Let us check if any of these above 2 responses fall under partial or exact matches!"
   ],
   "metadata": {
    "collapsed": false
   }
  },
  {
   "cell_type": "code",
   "execution_count": null,
   "outputs": [],
   "source": [
    "ex_response_param.source_nodes"
   ],
   "metadata": {
    "collapsed": false
   }
  },
  {
   "cell_type": "code",
   "execution_count": 36,
   "outputs": [],
   "source": [
    "llama_match_product_ids = [2277, 32081]"
   ],
   "metadata": {
    "collapsed": false,
    "ExecuteTime": {
     "end_time": "2023-11-20T07:50:13.495392Z",
     "start_time": "2023-11-20T07:50:13.471947Z"
    }
   }
  },
  {
   "cell_type": "code",
   "execution_count": 38,
   "outputs": [
    {
     "data": {
      "text/plain": "Empty DataFrame\nColumns: [query_id, query, query_class, id, product_id, label, label_score]\nIndex: []",
      "text/html": "<div>\n<style scoped>\n    .dataframe tbody tr th:only-of-type {\n        vertical-align: middle;\n    }\n\n    .dataframe tbody tr th {\n        vertical-align: top;\n    }\n\n    .dataframe thead th {\n        text-align: right;\n    }\n</style>\n<table border=\"1\" class=\"dataframe\">\n  <thead>\n    <tr style=\"text-align: right;\">\n      <th></th>\n      <th>query_id</th>\n      <th>query</th>\n      <th>query_class</th>\n      <th>id</th>\n      <th>product_id</th>\n      <th>label</th>\n      <th>label_score</th>\n    </tr>\n  </thead>\n  <tbody>\n  </tbody>\n</table>\n</div>"
     },
     "execution_count": 38,
     "metadata": {},
     "output_type": "execute_result"
    }
   ],
   "source": [
    "wands_query_label_df[(wands_query_label_df['query'] == example_llm) & (wands_query_label_df['product_id'].isin(llama_match_product_ids))]"
   ],
   "metadata": {
    "collapsed": false,
    "ExecuteTime": {
     "end_time": "2023-11-20T07:50:34.287868Z",
     "start_time": "2023-11-20T07:50:34.247388Z"
    }
   }
  },
  {
   "cell_type": "markdown",
   "source": [
    "### Enhancing candidate generation to recommendation with re-ranking\n",
    "\n",
    "As our intuition served before, we found relevant matches were not recommended. \n",
    "Re-ranking can be employed to look past pure semantic search + LLMs solutions when candidates are already available for generation with some understanding of available labels (keyword based or in this case, manual annotation). Cohere re-ranking endpoints provide a very simple post-processing workflow to help re-rank the candidate results at the last stage of a search workflow.\n",
    "\n",
    "Let us try the re-ranker module out of the box and see how it performs for our search queries."
   ],
   "metadata": {
    "collapsed": false
   }
  },
  {
   "cell_type": "code",
   "execution_count": 39,
   "outputs": [],
   "source": [
    "cohere_rerank = CohereRerank(api_key=os.environ[\"COHERE_API_KEY\"], top_n=5)"
   ],
   "metadata": {
    "collapsed": false,
    "ExecuteTime": {
     "end_time": "2023-11-20T07:55:53.230671Z",
     "start_time": "2023-11-20T07:55:53.205052Z"
    }
   }
  },
  {
   "cell_type": "code",
   "execution_count": 40,
   "outputs": [],
   "source": [
    "query_engine_rerank = simple_index.as_query_engine(similarity_top_k=10, \n",
    "                                                   node_postprocessors=[cohere_rerank],\n",
    "                                                   response_mode=\"tree_summarize\",\n",
    "                                                   verbose=True,\n",
    ")"
   ],
   "metadata": {
    "collapsed": false,
    "ExecuteTime": {
     "end_time": "2023-11-20T07:55:56.357279Z",
     "start_time": "2023-11-20T07:55:56.333118Z"
    }
   }
  },
  {
   "cell_type": "code",
   "execution_count": 41,
   "outputs": [
    {
     "name": "stderr",
     "output_type": "stream",
     "text": [
      "Your text contains a trailing whitespace, which has been trimmed to ensure high quality generations.\n"
     ]
    },
    {
     "name": "stdout",
     "output_type": "stream",
     "text": [
      "Here are a couple of recliner options for you:\n",
      "\n",
      "- The first recliner is 33.5\" wide and made with soft microfiber fabric and high-density sponge filling for added comfort. This recliner can be adjusted to assist those with standing issues and is a great option for elderly persons. \n",
      "\n",
      "- The second recliner, called the mccandlish, is 31\" wide with a swivel base that has a 160-degree turning radius. It features chaise seating and smooth bonded leather engineered for comfort. \n",
      "\n",
      "Would you like me to specify any other requirements when looking for a recliner? \n"
     ]
    }
   ],
   "source": [
    "rerank_response = query_engine.query(example_llm)\n",
    "print(rerank_response, sep=\"\\n\")"
   ],
   "metadata": {
    "collapsed": false,
    "ExecuteTime": {
     "end_time": "2023-11-20T07:56:05.035127Z",
     "start_time": "2023-11-20T07:56:00.665312Z"
    }
   }
  },
  {
   "cell_type": "code",
   "execution_count": 42,
   "outputs": [
    {
     "data": {
      "text/plain": "[NodeWithScore(node=TextNode(id_='917c1213-ea17-4304-9881-fbdf0876e6e5', embedding=None, metadata={'product_class': 'Recliners', 'product_category': 'Furniture / Living Room Furniture / Chairs & Seating / Recliners'}, excluded_embed_metadata_keys=[], excluded_llm_metadata_keys=[], relationships={<NodeRelationship.SOURCE: '1'>: RelatedNodeInfo(node_id='2277', node_type=<ObjectType.DOCUMENT: '4'>, metadata={'product_class': 'Recliners', 'product_category': 'Furniture / Living Room Furniture / Chairs & Seating / Recliners'}, hash='71902313bce54534c7e3406e54599827bd59375bc4fd8f959e89bd503ac0be44'), <NodeRelationship.PREVIOUS: '2'>: RelatedNodeInfo(node_id='ded78c3e-b177-4103-8864-83d7e3527a80', node_type=<ObjectType.TEXT: '1'>, metadata={'product_class': 'Ottomans', 'product_category': 'Furniture / Living Room Furniture / Ottomans & Poufs'}, hash='3834b988015a1c4d9fcca7145632e66677a5946566157b026119384366a80675'), <NodeRelationship.NEXT: '3'>: RelatedNodeInfo(node_id='fa1d8781-c165-42e6-96ed-92043c4574a5', node_type=<ObjectType.TEXT: '1'>, metadata={'product_class': 'Deck Boxes', 'product_category': 'Storage & Organization / Garage & Outdoor Storage & Organization / Deck Boxes & Patio Storage'}, hash='3c0b68db156b28d5e990fcf1339d32171cc507b5311469b722697ea4971f0fbb')}, hash='3338984a95c60a780db93faf4e27f263623f7e84296438b45fa8b2d36fac7451', text=\"33.5 '' wide faux leather power lift assist standard recliner the chair upholstered in soft and comfy microfiber fabric and filled with high-density sponge , offering you more comfort than expected . a lift chair can be adjusted to help those elderly who has standing problems .\", start_char_idx=None, end_char_idx=None, text_template='{metadata_str}\\n\\n{content}', metadata_template='{key}: {value}', metadata_seperator='\\n'), score=0.40327818137627686),\n NodeWithScore(node=TextNode(id_='dc9746d5-4d50-4ba7-ba39-edfc34510510', embedding=None, metadata={'product_class': 'Recliners', 'product_category': 'Furniture / Living Room Furniture / Chairs & Seating / Recliners'}, excluded_embed_metadata_keys=[], excluded_llm_metadata_keys=[], relationships={<NodeRelationship.SOURCE: '1'>: RelatedNodeInfo(node_id='32081', node_type=<ObjectType.DOCUMENT: '4'>, metadata={'product_class': 'Recliners', 'product_category': 'Furniture / Living Room Furniture / Chairs & Seating / Recliners'}, hash='6772df4ea8f404351dde83c3de59349f1f66bd54660f37d978b40749960435c5'), <NodeRelationship.PREVIOUS: '2'>: RelatedNodeInfo(node_id='93822775-379e-4900-b74a-63593eeb4be2', node_type=<ObjectType.TEXT: '1'>, metadata={'product_class': 'Area Rugs', 'product_category': 'Rugs / Area Rugs'}, hash='9e14495c64b8d68919fcfb13a8e180b46a0a5bf360a941c8b194016b719bd4ac'), <NodeRelationship.NEXT: '3'>: RelatedNodeInfo(node_id='4ab45f0a-5e63-42ea-afbb-360b8fa7217f', node_type=<ObjectType.TEXT: '1'>, metadata={'product_class': 'Vanities', 'product_category': 'Home Improvement / Bathroom Remodel & Bathroom Fixtures / Bathroom Vanities / All Bathroom Vanities / Modern & Contemporary Bathroom Vanities'}, hash='38b5ff06f8a2e0a0545023d9d4fdf5ab50acf52fac54610d049141dd679eb04d')}, hash='3338984a95c60a780db93faf4e27f263623f7e84296438b45fa8b2d36fac7451', text=\"mccandlish 31 '' wide faux leather power glider standard recliner the mccandlish chair features a swivel , glider power recliner with chaise seating and a swivel base with a 160 degree turning radius . the feature cover is an engineered , smooth and soft bonded leather .\", start_char_idx=None, end_char_idx=None, text_template='{metadata_str}\\n\\n{content}', metadata_template='{key}: {value}', metadata_seperator='\\n'), score=0.402115016783076)]"
     },
     "execution_count": 42,
     "metadata": {},
     "output_type": "execute_result"
    }
   ],
   "source": [
    "rerank_response.source_nodes"
   ],
   "metadata": {
    "collapsed": false,
    "ExecuteTime": {
     "end_time": "2023-11-20T07:56:10.668383Z",
     "start_time": "2023-11-20T07:56:10.642156Z"
    }
   }
  },
  {
   "cell_type": "markdown",
   "source": [
    "It looks like re-ranking didnt help move the needle on retrieving the most relevant recommendation for this query. We can try our luck with other queries as well and see what the average case is!"
   ],
   "metadata": {
    "collapsed": false
   }
  },
  {
   "cell_type": "markdown",
   "source": [
    "### Generate Query Response Pairs for all examples\n",
    "\n",
    "Produce the assistive chat responses for all reference queries "
   ],
   "metadata": {
    "collapsed": false
   }
  },
  {
   "cell_type": "code",
   "execution_count": null,
   "outputs": [],
   "source": [
    "agent_res_list = []\n",
    "for qr in wands_ref_queries:\n",
    "    agent_res_list,append({f\"{qr}\": })"
   ],
   "metadata": {
    "collapsed": false
   }
  },
  {
   "cell_type": "markdown",
   "source": [
    "### Fine-tuning re-ranking model\n",
    "\n",
    "The re-ranking model didnt really change the order of recommended products but provided a more concise summary of each, while making the overall response from the bot longer, which may not be the best for user experience. \n",
    "\n",
    "A quick experiment to understand its effectiveness better might be to use a subset of our labelled data to fine-tune the re-ranker model and deploy a fine-tuned model to re-rank the top results, which we will proceed to do below."
   ],
   "metadata": {
    "collapsed": false
   }
  },
  {
   "cell_type": "markdown",
   "source": [
    "#### Fine-tuning Dataset Curation Process\n",
    "\n",
    "The documentation mentions that Query + Relevant Passage/ Query + Hard Negatives should be less than 510 tokens.\n",
    "\n",
    "Training Custom Re-ranker expects minimum 256 (Query + Relevant passage) pairs with or without hard negatives for training and 64 pairs for validation. Please note that the validation is optional.\n",
    "\n",
    "**Training**: We will initially sample unique queries from WANDS dataset, and then further sample mix of context pairs that is representative of our full dataset, for creating training pairs.\n",
    "\n",
    "**Validation**: We will sample remaining queries of the training stage sampling from above for validation. \n",
    "\n",
    "In both training and validation, we need to experiment with number of samples to hit the 256 and 64 unique requirements respectively."
   ],
   "metadata": {
    "collapsed": false
   }
  },
  {
   "cell_type": "code",
   "execution_count": 66,
   "outputs": [
    {
     "data": {
      "text/plain": "label\nPartial       146633\nIrrelevant     61201\nExact          25614\nName: count, dtype: int64"
     },
     "execution_count": 66,
     "metadata": {},
     "output_type": "execute_result"
    }
   ],
   "source": [
    "wands_query_label_df['label'].value_counts()"
   ],
   "metadata": {
    "collapsed": false,
    "ExecuteTime": {
     "end_time": "2023-11-19T05:18:34.067499Z",
     "start_time": "2023-11-19T05:18:34.051154Z"
    }
   }
  },
  {
   "cell_type": "code",
   "execution_count": null,
   "outputs": [],
   "source": [
    "# wands_ref_query_label_df = wands_query_label_df.loc[wands_query_label_df['query'].isin(wands_ref_queries)]\n",
    "# wands_ref_query_label_df.head()"
   ],
   "metadata": {
    "collapsed": false
   }
  },
  {
   "cell_type": "code",
   "execution_count": 132,
   "outputs": [
    {
     "data": {
      "text/plain": "array(['salon chair', 'smart coffee table', 'dinosaur',\n       'turquoise pillows', 'chair and a half recliner',\n       'sofa with ottoman', 'acrylic clear chair', 'driftwood mirror',\n       'home sweet home sign', 'coffee table fire pit', 'king poster bed',\n       'ombre rug', 'large spoon and fork wall decor',\n       'outdoor privacy wall', 'beds that have leds',\n       'black 5 drawer dresser by guilford', 'blk 18x18 seat cushions',\n       'closet storage with zipper',\n       'chrome bathroom 4 light vanity light', 'gurney  slade 56',\n       'foutains with brick look', 'living curtains pearl',\n       'light and navy blue decorative pillow',\n       'stoneford end tables white and wood',\n       'wood coffee table set by storage', 'sunflower', 'leather chairs',\n       'outdoor welcome rug', 'rooster decor', 'bathroom vanity knobs',\n       '3 1/2 inch drawer pull', 'burnt orange curtains',\n       'dark gray dresser', 'non slip shower floor tile',\n       'bar stool with backrest', 'enclosed shoe rack',\n       'laundry basket with wheels', 'bar stool 24 inches height',\n       'calvin patio chair', 'door jewelry organizer',\n       'elegant executive chair', 'closet pull out valet rod',\n       'toddler couch fold out', 'solid teak end table',\n       'chrome shower head and valve', '70s inspired furniture',\n       'beach blue headboard', 'porcelain loaf pan', 'arwen table lamp',\n       'moen matte black hooks', 'tufted chair with gold legs',\n       'kohen 5 drawer dresser', 'westling coffee table',\n       'carolyn console table', 'wayfair sleep zippered',\n       'tollette teal outdoor rug', 'royal blue counter height chairs',\n       'jordanna solid wood rocking', 'medium size chandelier',\n       'broadway lever', 'capricorn chest',\n       'overstreet rustic pub stools', '7qt slow cooker',\n       'monthly calendar', 'zachary 72.5', 'gnome fairy garden',\n       'novara pergola', 'osgood mirror', 'nautical platters',\n       'wall sconce with usb port', 'annex dresser',\n       'infant girl crib bedding', 'fold in half table',\n       'certified international melamine', 'serta kleinmon',\n       'sheffield home bath set', '46 inch closet door',\n       'sancroft armchair', 'dorel vanity', 'palram harmony greenhouses',\n       '7 draw white dresser', 'orren ellis l shape desk',\n       'bathroom vanity with counter space', 'wall art fiji',\n       'full metal bed rose gold', '3/4 size mattress',\n       'aloe vera plant pot', 'vlad modular sectional',\n       'rose gold lounge', 'whimsical solar lights',\n       'filaret outdoor sofa', 'industrial pipe dining  table',\n       'antique silver entry table', 'outdoor sectional dining',\n       'kohler whitehaven farmhouse kitchen sink',\n       'entertainment stand end table', 'bar room wall decor',\n       'regner power loom red', 'gracie oaks 62 oller 14 ceiling fan',\n       'arched christmas tree', 'tufted upholstered bed diamond',\n       '48 in entry table with side by side drawer', 'flamingo',\n       'kitchen anti fatigue mats', 'flour and sugar containers',\n       'outdoor movie screen', 'bed risers', 'front porch furniture sets',\n       'ayesha curry kitchen', 'hillsby oriental rug', 'mila task chair',\n       'delta trinsic', 'pineapple', 'led light strip',\n       'geralyn upholstered storage platform bed', 'peacock',\n       'brockham solid blackout thermal grommet curtain panels',\n       'tall storage cabinet', 'body pillow case', 'welcome sign',\n       'zodiac pillow', 'upholstered bed', 'king size bed',\n       'entrance table', 'unique coffee tables', 'boho bed frame',\n       'leather dining chairs', 'wine bar', 'block coffee table',\n       'wainscoting ideas', 'entertainment console', 'kids chair',\n       'farmhouse cabinet', 'outdoor light fixtures',\n       'black hanging bookshelf', 'low profile loveseat recliner',\n       'black fluffy stool', 'orren ellis l shaped desk',\n       'glass doors for bath', 'auburn throw pillows',\n       'wire basket with dividers', 'podium with locking cabinet',\n       'kitchen wooden stand', 'queen wingback chair', 'rug plum',\n       'liberty hardware francisco', 'laundry vanity cabinet',\n       'drum picture', 'industrial', 'mid century modern', 'dumbbells',\n       'leather chair', 'wishbone chair', 'bohemian', 'floating bed',\n       'papasan chair frame only', 'velvet chaise', 'led nightstand',\n       'meditation', 'marble', 'accent chair recliner', 'turquoise chair',\n       'dual monitor stand', 'modern outdoor furniture',\n       'kitchen storage shelves', 'feather wall art', 'camper',\n       'printers', 'coffee bar buffet', 'zen', 'nectar queen mattress',\n       'picasso', 'bedroom accessories', 'star wars rug',\n       'basket planter', 'mexican art', 'rustic storage cabinet',\n       'almost heaven sauna', 'promo codes or discounts',\n       'outdoor lounge cushions', 'e12/candelabra', 'penny round tile',\n       'farmhouse bread box', 'sugar canister', 'lunch bag',\n       'board game storage cabinet',\n       'bedroom wall decor floral, multicolored with some teal (prints)',\n       'big basket for dirty cloths',\n       'benjiamino faux leather power lift chair',\n       'biycicle plant stands', 'belchertown table lamp',\n       'black frame 22 x 36', 'black freestanding tub  with faucet',\n       'chabely 5 draw chest', 'desk for kids tjat ate 10 year old',\n       'cake plates with tops', 'blue faux throw with pillows',\n       'ceramic tile sea shell',\n       'delta trinsic double towel hook in champagne bronze',\n       'full mattress padded liner', 'ge top loading washer 4.5',\n       'fleur de lis living candle wall sconce bronze',\n       'ines shag rug w003096809', 'grill cover 73',\n       'dull bed with shirt head board', 'fawkes 36\" blue vanity',\n       'door pulls bronze matte 4 inch',\n       'love seat wide faux leather tuxedo arm sofa',\n       'memory foam rug galveston', 'nettie 5 pc bar set',\n       'kraus kitchen sink faucet oletto kpf 2820 sfs',\n       'light wood nightstand with silver accents',\n       'king adjustable bed including mattress', 'music plug wall plate',\n       'wand bunk beds', 'trinaic towel rod', 'sheets for twinxl',\n       'small space dining table and chairs sets',\n       'small loving roomtables', 'wisdom stone river 3-3/4',\n       'twin over full bunk beds cool desins',\n       'white splashproof shiplap wallpaper', 'power lift chair', 'owl',\n       'bee', 'waterfall faucet', 'gold', 'anti fatigue mat',\n       'storage dresser', 'kelly clarkson light fixtures',\n       'artificial orchid arrangement', 'bathroom wastebasket',\n       '3 piece rug set with runners', 'cloud modular sectional',\n       'outdoor seat/back cushion', 'bathroom single faucet',\n       'eiffel tower wall art', 'decorative wall clocks',\n       'accent leather chair', 'indoor multi tiered plant stand',\n       'pull out sleeper loveseat', 'anchor decor',\n       'clear shower curtain', 'beaded curtains', 'surge protector',\n       'bistro table and chairs', 'multi color rug', 'coffee container',\n       'accent chairs living room', 'antique brass faucet',\n       'comfortable accent chair', 'desk and chair set',\n       'high weight capacity bunk beds', 'living room coffee table sets',\n       'breakfast bar table', 'nursery end table',\n       'retractable side awning', 'semi flush foyer light',\n       'bathroom freestanding cabinet', 'small curtain rods',\n       'cortez pillow', 'candace wingback upholstered bed',\n       'champagne velvet desk chair', 'dolomite subway tile',\n       'betty resin free standing umbrella', 'donaldson teak couch',\n       'edge chair mat', 'chinese flower stand', 'oliver parsons',\n       'stainless steel free standing shower caddy',\n       'gowdy height adjustable standing desk', 'hinged square ottoman',\n       'chaves l-shape floating desk with hutch', 'barstool patio sets',\n       'parakeet toy', 'marlon tufted queen bed',\n       'johan desk by laurel foundry', 'brunk ship wheel',\n       'grantola wall mirror', 'gaia driftwood table', 'family lamp',\n       '48\" sliding single track , barn door for laundry',\n       'hitchcock mid-century wall shelf',\n       'cover set for outdoor furniture', 'round outdoor patio cover',\n       'coma inducer comforter king set', 'mission double vanity',\n       'front door cabinet with doors', 'decorative white pillow',\n       'wood floor protector mat', 'moen multi function dual shower head',\n       'end table between recliners', 'zakariyah twin platform',\n       'seat cushions desk', 'small woven pouf',\n       'animal print handmade tufted wool beige/black area rug by allmodern',\n       'circle cabinet pulls', 'mattress foam topper queen',\n       'hawaii vintage art', 'merlyn 6', 'ligth bulb',\n       'mobley zero gravity adjustable bed with wireless remote',\n       'real touch roses floral arrangements in glass vase', 'led 60',\n       'moen 5995 arbor one', 'meade mirror', 'odum velvet',\n       'coat rack for bedroom', 'malachi sled', 'body pillow and case',\n       'medium clips', 'rolande heavy duty power lift assist recliner',\n       'hulmeville writing desk with hutch', 'sunjoy lantern',\n       'landis wall mounted bathroom shelves',\n       'blaylock bookcase headboard',\n       'hussain handmade tufted magenta rug', 'cream queen duvet cover',\n       'hub leaning full length mirror', 'chase utility laundry cart',\n       'outdoor waterproof chest', 'bowersville ladder writing desk',\n       'kohler purist brushed bronze', 'golub dining table',\n       'wayfair tension rod', 'kari 2 piece', 'upholstered girls bed',\n       'attleboro drum coffee table', 'stainless steel colander set',\n       'itchington butterfly', 'canadian', 'mystic swivel',\n       'iittala bowl', 'mahone porch rocking chair', 'ruckus chair',\n       'berenice 4 storage cabinet', 'canvas map art',\n       'brendon counter stool', 'navy and peach bedding',\n       'ottoman bed queen', 'oriental vanity', 'nesting tray set',\n       'olive green console table', 'one alium way', 'mud room sign',\n       'white bathroom vanity black hardware', 'amarillo',\n       'pennfield playhouse', 'tressler rug', 'argenteuil',\n       'platform bed side table', 'tall free standing pet gate',\n       'sliding closet mirror', 'french molding',\n       'huntsville sectional sofa', 'kisner', 'brushed gold wall decor',\n       'fortunat coffee table', 'croscill ashton', 'gas detector',\n       'drudge report', 'wooden chair outdoor', 'pasta tools',\n       'wrought tv stand', 'rug for teen room', 'milk cow chair',\n       'verden callan', 'togo chair', 'sinks bed frame',\n       'pastel pink desk chair', 'island estate coffee table',\n       'glinda upholstered bench',\n       'cliffside 5 light candle style drum chandelier',\n       'urban outfitters duvet', 'gravity feeder', 'farmhouse hood vent',\n       'counter top one cup hot water dispenser', 'minnestrista',\n       'dining table vinyl cloth', 'mom urn', 'alter furniture',\n       'self enclosed planters', 'outdoor sectional doning',\n       'brush nickel faucet bathroom', 'cushion replacement insert',\n       'writing desk 48\"', 'china clock', 'propane gas dryer',\n       'gray leather cocktail table', 'pantry grey', 'alyse 8 light',\n       'maryford queen tufted bed', 'super bright lights',\n       '12v dirt bike', 'small ladies rocker swivel recliner',\n       'glass lsmp shades', 'modern farmhouse lighting semi flush mount',\n       'wood rack wide', 'large cushion outdoor chair',\n       'queen ann style living room chair',\n       'refrigerator with ice an water in door', 'huge bookcase',\n       'girl reading statue', 'teal chair', 'pool floats',\n       'outdoor clock',\n       'jennie tufted upholstered low profile platform bed',\n       'burruss patio sectional with cushions', 'shower hooks',\n       'toilet paper stand', 'wayfair coffee table', 'twin bed frame',\n       'writing desk', 'living room ideas', 'tile backsplash',\n       'dining room tables', 'ergonomic chair', 'wall shelves',\n       'wayfair comforters', 'side table with storage', 'outdoor storage',\n       'lowes tile', 'kitchen storage cabinet', 'gray dresser',\n       '30 inch bathroom vanity', 'shoe bench entryway',\n       'butcher block island', 'trundle daybed', 'bathroom lighting',\n       'shoe closet', 'full bed with trundle',\n       'kitchen islands with seating', 'indoor water fountain',\n       'parsons chairs', 'wood bar stools', 'desk for kids',\n       'above toilet cabinet', 'patio design', 'outdoor lounge chair',\n       'chaise lounge couch', 'card table', 'tall buffet cabinet',\n       'bed side table', 'living room designs', 'aiden black velvet bed',\n       'day bed indian', 'midcentury tv unit', 'carpet 5x6',\n       'deer coat hooks', 'wall design shelf', '5 gang light switch',\n       'bubble guppies chair', 'tye dye duvet cover',\n       'small wardrobe grey', 'luau string lights', 'large bases',\n       'bistro sets patio', 'cake cutlery', 'white abstract',\n       'rock climbing wall kids', 'town & country living curtains',\n       'glow in the dark silent wall clock', 'garage sports storage rack',\n       'elephant framed', 'adjustable height artist stool',\n       'window wall accent', 'chair pillow cushion',\n       '48 inch bathroom vanity with trough sink', 'rattan truck',\n       'hardwood beds', 'worn leather office chair',\n       'garage door mail slot', 'pictures to hang over fireplace',\n       'emma headboard', '48 inch kitchen hood', 'rustic twig',\n       'nespresso vertuo next premium by breville with aeroccino',\n       'pedistole sink', '54 in bench cushion', 'rack glass'],\n      dtype=object)"
     },
     "execution_count": 132,
     "metadata": {},
     "output_type": "execute_result"
    }
   ],
   "source": [
    "wands_query_df['query'].unique()"
   ],
   "metadata": {
    "collapsed": false,
    "ExecuteTime": {
     "end_time": "2023-11-19T09:00:39.665366Z",
     "start_time": "2023-11-19T09:00:39.641909Z"
    }
   }
  },
  {
   "cell_type": "code",
   "execution_count": 46,
   "outputs": [],
   "source": [
    "# Make sure to get unique training and validation queries to sample the datasets \n",
    "train_queries, val_queries = train_test_split(wands_query_df['query'].unique(), train_size=0.8, random_state=420)"
   ],
   "metadata": {
    "collapsed": false,
    "ExecuteTime": {
     "end_time": "2023-11-20T05:21:00.635622Z",
     "start_time": "2023-11-20T05:21:00.617778Z"
    }
   }
  },
  {
   "cell_type": "code",
   "execution_count": 146,
   "outputs": [
    {
     "data": {
      "text/plain": "384"
     },
     "execution_count": 146,
     "metadata": {},
     "output_type": "execute_result"
    }
   ],
   "source": [
    "train_queries.size"
   ],
   "metadata": {
    "collapsed": false,
    "ExecuteTime": {
     "end_time": "2023-11-19T09:14:42.557317Z",
     "start_time": "2023-11-19T09:14:42.533668Z"
    }
   }
  },
  {
   "cell_type": "code",
   "execution_count": 49,
   "outputs": [],
   "source": [
    "N = len(wands_ref_queries)"
   ],
   "metadata": {
    "collapsed": false,
    "ExecuteTime": {
     "end_time": "2023-11-20T05:22:37.985358Z",
     "start_time": "2023-11-20T05:22:37.968928Z"
    }
   }
  },
  {
   "cell_type": "code",
   "execution_count": 52,
   "outputs": [],
   "source": [
    "train_queries_total = train_queries.tolist()+wands_ref_queries[:N//2]"
   ],
   "metadata": {
    "collapsed": false,
    "ExecuteTime": {
     "end_time": "2023-11-20T05:23:41.899536Z",
     "start_time": "2023-11-20T05:23:41.878444Z"
    }
   }
  },
  {
   "cell_type": "code",
   "execution_count": 148,
   "outputs": [
    {
     "data": {
      "text/plain": "96"
     },
     "execution_count": 148,
     "metadata": {},
     "output_type": "execute_result"
    }
   ],
   "source": [
    "val_queries.size"
   ],
   "metadata": {
    "collapsed": false,
    "ExecuteTime": {
     "end_time": "2023-11-19T09:14:58.433080Z",
     "start_time": "2023-11-19T09:14:58.413019Z"
    }
   }
  },
  {
   "cell_type": "code",
   "execution_count": 53,
   "outputs": [],
   "source": [
    "# Mix and match numbers to find the ideal Sampling from subsets that satisfies 256 unique train examples and 64 unique val examples\n",
    "n_train = 1028\n",
    "n_test = 256"
   ],
   "metadata": {
    "collapsed": false,
    "ExecuteTime": {
     "end_time": "2023-11-20T05:23:46.069839Z",
     "start_time": "2023-11-20T05:23:46.044867Z"
    }
   }
  },
  {
   "cell_type": "code",
   "execution_count": 54,
   "outputs": [],
   "source": [
    "wands_query_label_train_df = wands_query_label_df[wands_query_label_df['query'].isin(train_queries_total)]\n",
    "wands_rerank_train, _ = train_test_split(wands_query_label_train_df, train_size=n_train, random_state=420, stratify=wands_query_label_train_df['label'])"
   ],
   "metadata": {
    "collapsed": false,
    "ExecuteTime": {
     "end_time": "2023-11-20T05:23:56.265268Z",
     "start_time": "2023-11-20T05:23:56.147902Z"
    }
   }
  },
  {
   "cell_type": "code",
   "execution_count": 55,
   "outputs": [],
   "source": [
    "wands_query_label_test_df = wands_query_label_df[wands_query_label_df['query'].isin(val_queries)]\n",
    "wands_rerank_test, _ = train_test_split(wands_query_label_test_df, train_size=n_test, random_state=420, stratify=wands_query_label_test_df['label'])"
   ],
   "metadata": {
    "collapsed": false,
    "ExecuteTime": {
     "end_time": "2023-11-20T05:23:58.397431Z",
     "start_time": "2023-11-20T05:23:58.362740Z"
    }
   }
  },
  {
   "cell_type": "code",
   "execution_count": 56,
   "outputs": [
    {
     "data": {
      "text/plain": "        query_id                   query      query_class      id  product_id  \\\n132558       264           cortez pillow   Accent Pillows  124708        9055   \n143994       308                  led 60      Light Bulbs  132144        5965   \n174604       387  self enclosed planters         Planters   40389       21199   \n71558        127                wine bar  Bars & Bar Sets  229140        8150   \n181547       409              teal chair    Accent Chairs  161186       28924   \n\n             label  label_score  \n132558     Partial          0.6  \n143994     Partial          0.6  \n174604     Partial          0.6  \n71558   Irrelevant          0.0  \n181547     Partial          0.6  ",
      "text/html": "<div>\n<style scoped>\n    .dataframe tbody tr th:only-of-type {\n        vertical-align: middle;\n    }\n\n    .dataframe tbody tr th {\n        vertical-align: top;\n    }\n\n    .dataframe thead th {\n        text-align: right;\n    }\n</style>\n<table border=\"1\" class=\"dataframe\">\n  <thead>\n    <tr style=\"text-align: right;\">\n      <th></th>\n      <th>query_id</th>\n      <th>query</th>\n      <th>query_class</th>\n      <th>id</th>\n      <th>product_id</th>\n      <th>label</th>\n      <th>label_score</th>\n    </tr>\n  </thead>\n  <tbody>\n    <tr>\n      <th>132558</th>\n      <td>264</td>\n      <td>cortez pillow</td>\n      <td>Accent Pillows</td>\n      <td>124708</td>\n      <td>9055</td>\n      <td>Partial</td>\n      <td>0.6</td>\n    </tr>\n    <tr>\n      <th>143994</th>\n      <td>308</td>\n      <td>led 60</td>\n      <td>Light Bulbs</td>\n      <td>132144</td>\n      <td>5965</td>\n      <td>Partial</td>\n      <td>0.6</td>\n    </tr>\n    <tr>\n      <th>174604</th>\n      <td>387</td>\n      <td>self enclosed planters</td>\n      <td>Planters</td>\n      <td>40389</td>\n      <td>21199</td>\n      <td>Partial</td>\n      <td>0.6</td>\n    </tr>\n    <tr>\n      <th>71558</th>\n      <td>127</td>\n      <td>wine bar</td>\n      <td>Bars &amp; Bar Sets</td>\n      <td>229140</td>\n      <td>8150</td>\n      <td>Irrelevant</td>\n      <td>0.0</td>\n    </tr>\n    <tr>\n      <th>181547</th>\n      <td>409</td>\n      <td>teal chair</td>\n      <td>Accent Chairs</td>\n      <td>161186</td>\n      <td>28924</td>\n      <td>Partial</td>\n      <td>0.6</td>\n    </tr>\n  </tbody>\n</table>\n</div>"
     },
     "execution_count": 56,
     "metadata": {},
     "output_type": "execute_result"
    }
   ],
   "source": [
    "wands_rerank_train.head()"
   ],
   "metadata": {
    "collapsed": false,
    "ExecuteTime": {
     "end_time": "2023-11-20T05:24:00.413884Z",
     "start_time": "2023-11-20T05:24:00.393686Z"
    }
   }
  },
  {
   "cell_type": "code",
   "execution_count": 58,
   "outputs": [
    {
     "data": {
      "text/plain": "array(['cortez pillow', 'led 60', 'self enclosed planters', 'wine bar',\n       'teal chair', 'leather chair', 'ruckus chair',\n       'above toilet cabinet', 'wood coffee table set by storage',\n       'wayfair comforters', 'wishbone chair',\n       'front door cabinet with doors', 'floating bed', 'card table',\n       'turquoise chair', 'chrome bathroom 4 light vanity light',\n       'kids chair', '30 inch bathroom vanity', 'nesting tray set',\n       'sheffield home bath set', 'outdoor storage',\n       'fortunat coffee table', 'midcentury tv unit',\n       'benjiamino faux leather power lift chair', 'twin bed frame',\n       'acrylic clear chair', 'gaia driftwood table',\n       'bathroom wastebasket', 'storage dresser', '7 draw white dresser',\n       'entertainment stand end table', 'orren ellis l shape desk',\n       '46 inch closet door', 'carolyn console table',\n       'kohen 5 drawer dresser', 'outdoor clock', 'entrance table',\n       'small wardrobe grey', 'parsons chairs', 'aloe vera plant pot',\n       'king poster bed', 'salon chair', 'boho bed frame',\n       'chaves l-shape floating desk with hutch', 'owl', 'edge chair mat',\n       'mystic swivel', 'leather dining chairs', 'accent leather chair',\n       'dark gray dresser', 'togo chair', 'beds that have leds',\n       'turquoise pillows', 'leather chairs', 'dorel vanity',\n       'wayfair coffee table', 'glow in the dark silent wall clock',\n       'coat rack for bedroom',\n       'love seat wide faux leather tuxedo arm sofa', 'lowes tile',\n       'block coffee table', 'glinda upholstered bench',\n       'island estate coffee table', 'mila task chair',\n       'hillsby oriental rug', 'landis wall mounted bathroom shelves',\n       'stainless steel free standing shower caddy',\n       'black 5 drawer dresser by guilford', 'china clock',\n       'led light strip', 'solid teak end table',\n       'champagne velvet desk chair', 'tile backsplash', 'desk for kids',\n       'blue faux throw with pillows', 'coffee table fire pit',\n       'writing desk', 'kitchen islands with seating',\n       'outdoor movie screen', 'accent chairs living room',\n       'multi color rug', 'light wood nightstand with silver accents',\n       'driftwood mirror', 'dining room tables', 'dual monitor stand',\n       'rug plum', 'sliding closet mirror',\n       'stoneford end tables white and wood', 'upholstered bed',\n       'wisdom stone river 3-3/4', 'farmhouse hood vent',\n       'capricorn chest', 'wall shelves', 'king size bed',\n       'basket planter', 'bistro sets patio',\n       'large cushion outdoor chair',\n       'kraus kitchen sink faucet oletto kpf 2820 sfs',\n       'westling coffee table', 'glass doors for bath',\n       'regner power loom red', 'oriental vanity',\n       'navy and peach bedding', 'monthly calendar',\n       'outdoor welcome rug', 'geralyn upholstered storage platform bed',\n       'bar stool 24 inches height', '3 piece rug set with runners',\n       'bedroom accessories', 'patio design', 'bubble guppies chair',\n       'living room ideas', 'rustic twig', 'kitchen storage cabinet',\n       'meade mirror', 'sofa with ottoman', 'novara pergola',\n       'tufted upholstered bed diamond', 'medium size chandelier',\n       'iittala bowl', 'beaded curtains', 'zen',\n       'cream queen duvet cover', 'chair and a half recliner',\n       'small space dining table and chairs sets', 'coffee container',\n       'mahone porch rocking chair', 'wrought tv stand', 'malachi sled',\n       '48 inch bathroom vanity with trough sink',\n       'palram harmony greenhouses', 'rack glass', 'kitchen wooden stand',\n       '48\" sliding single track , barn door for laundry',\n       'golub dining table', 'black frame 22 x 36', 'peacock',\n       'bathroom vanity knobs', 'anti fatigue mat',\n       'belchertown table lamp', 'urban outfitters duvet', 'pineapple',\n       'toilet paper stand', 'nursery end table', 'music plug wall plate',\n       'jennie tufted upholstered low profile platform bed',\n       'jordanna solid wood rocking', 'canvas map art',\n       'accent chair recliner', 'burnt orange curtains',\n       'cover set for outdoor furniture', 'queen wingback chair',\n       'trinaic towel rod', 'kohler whitehaven farmhouse kitchen sink',\n       'aiden black velvet bed',\n       'animal print handmade tufted wool beige/black area rug by allmodern',\n       'king adjustable bed including mattress', 'emma headboard',\n       'non slip shower floor tile',\n       'hussain handmade tufted magenta rug',\n       'large spoon and fork wall decor', 'retractable side awning',\n       'oliver parsons', 'nautical platters', 'chaise lounge couch',\n       'board game storage cabinet', 'itchington butterfly',\n       'elephant framed', 'meditation', 'town & country living curtains',\n       '12v dirt bike', 'arched christmas tree', '70s inspired furniture',\n       'bar room wall decor', 'bathroom single faucet',\n       'rose gold lounge', '7qt slow cooker', 'farmhouse cabinet',\n       'mexican art', 'platform bed side table',\n       'low profile loveseat recliner', 'bee',\n       'berenice 4 storage cabinet', 'pull out sleeper loveseat',\n       'fawkes 36\" blue vanity', 'sinks bed frame', 'sancroft armchair',\n       'desk and chair set', 'entertainment console',\n       'brush nickel faucet bathroom', 'gas detector',\n       'gnome fairy garden', 'ceramic tile sea shell',\n       'barstool patio sets', '3 1/2 inch drawer pull',\n       '5 gang light switch', 'sheets for twinxl',\n       'tollette teal outdoor rug', 'indoor water fountain',\n       'decorative wall clocks', 'nettie 5 pc bar set',\n       'outdoor lounge chair', 'delta trinsic',\n       'rolande heavy duty power lift assist recliner',\n       'indoor multi tiered plant stand', 'closet storage with zipper',\n       'laundry basket with wheels', 'queen ann style living room chair',\n       'maryford queen tufted bed', 'writing desk 48\"',\n       'auburn throw pillows', 'brunk ship wheel',\n       'hulmeville writing desk with hutch', 'alyse 8 light',\n       'gray leather cocktail table', 'hub leaning full length mirror',\n       'clear shower curtain', 'wood bar stools',\n       'bowersville ladder writing desk', 'living room designs',\n       'refrigerator with ice an water in door', 'camper',\n       'farmhouse bread box', 'super bright lights',\n       'white bathroom vanity black hardware', 'ines shag rug w003096809',\n       'mattress foam topper queen',\n       'gracie oaks 62 oller 14 ceiling fan', 'bed side table',\n       'rooster decor', 'candace wingback upholstered bed',\n       'coma inducer comforter king set', 'french molding',\n       'wooden chair outdoor', 'sunflower', 'small curtain rods',\n       'chase utility laundry cart',\n       '48 in entry table with side by side drawer',\n       'rustic storage cabinet', 'calvin patio chair',\n       'chair pillow cushion', 'huge bookcase',\n       'wall sconce with usb port', 'infant girl crib bedding',\n       'bistro table and chairs', 'tye dye duvet cover',\n       'wall design shelf', 'zakariyah twin platform',\n       'fleur de lis living candle wall sconce bronze', 'canadian',\n       'blk 18x18 seat cushions', 'cushion replacement insert',\n       'dolomite subway tile', 'hitchcock mid-century wall shelf',\n       'olive green console table',\n       'brockham solid blackout thermal grommet curtain panels',\n       'odum velvet', 'girl reading statue', 'sunjoy lantern',\n       'shoe closet', 'osgood mirror'], dtype=object)"
     },
     "execution_count": 58,
     "metadata": {},
     "output_type": "execute_result"
    }
   ],
   "source": [
    "wands_rerank_train['query'].unique()"
   ],
   "metadata": {
    "collapsed": false,
    "ExecuteTime": {
     "end_time": "2023-11-20T05:24:39.049843Z",
     "start_time": "2023-11-20T05:24:39.024308Z"
    }
   }
  },
  {
   "cell_type": "code",
   "execution_count": 61,
   "outputs": [
    {
     "data": {
      "text/plain": "        query_id                      query                query_class  \\\n108636       211  memory foam rug galveston           Bath Rugs & Mats   \n207524       434          bathroom lighting            Vanity Lighting   \n174277       386            alter furniture  Outdoor Conversation Sets   \n194273       422            ergonomic chair              Office Chairs   \n68958        124       unique coffee tables   Coffee & Cocktail Tables   \n\n            id  product_id       label  label_score  \n108636  107085        6472  Irrelevant          0.0  \n207524  181858       34115     Partial          0.6  \n174277   40283       30132     Partial          0.6  \n194273  170780       42342     Partial          0.6  \n68958   228329       36193     Partial          0.6  ",
      "text/html": "<div>\n<style scoped>\n    .dataframe tbody tr th:only-of-type {\n        vertical-align: middle;\n    }\n\n    .dataframe tbody tr th {\n        vertical-align: top;\n    }\n\n    .dataframe thead th {\n        text-align: right;\n    }\n</style>\n<table border=\"1\" class=\"dataframe\">\n  <thead>\n    <tr style=\"text-align: right;\">\n      <th></th>\n      <th>query_id</th>\n      <th>query</th>\n      <th>query_class</th>\n      <th>id</th>\n      <th>product_id</th>\n      <th>label</th>\n      <th>label_score</th>\n    </tr>\n  </thead>\n  <tbody>\n    <tr>\n      <th>108636</th>\n      <td>211</td>\n      <td>memory foam rug galveston</td>\n      <td>Bath Rugs &amp; Mats</td>\n      <td>107085</td>\n      <td>6472</td>\n      <td>Irrelevant</td>\n      <td>0.0</td>\n    </tr>\n    <tr>\n      <th>207524</th>\n      <td>434</td>\n      <td>bathroom lighting</td>\n      <td>Vanity Lighting</td>\n      <td>181858</td>\n      <td>34115</td>\n      <td>Partial</td>\n      <td>0.6</td>\n    </tr>\n    <tr>\n      <th>174277</th>\n      <td>386</td>\n      <td>alter furniture</td>\n      <td>Outdoor Conversation Sets</td>\n      <td>40283</td>\n      <td>30132</td>\n      <td>Partial</td>\n      <td>0.6</td>\n    </tr>\n    <tr>\n      <th>194273</th>\n      <td>422</td>\n      <td>ergonomic chair</td>\n      <td>Office Chairs</td>\n      <td>170780</td>\n      <td>42342</td>\n      <td>Partial</td>\n      <td>0.6</td>\n    </tr>\n    <tr>\n      <th>68958</th>\n      <td>124</td>\n      <td>unique coffee tables</td>\n      <td>Coffee &amp; Cocktail Tables</td>\n      <td>228329</td>\n      <td>36193</td>\n      <td>Partial</td>\n      <td>0.6</td>\n    </tr>\n  </tbody>\n</table>\n</div>"
     },
     "execution_count": 61,
     "metadata": {},
     "output_type": "execute_result"
    }
   ],
   "source": [
    "wands_rerank_test.head()"
   ],
   "metadata": {
    "collapsed": false,
    "ExecuteTime": {
     "end_time": "2023-11-20T05:27:39.864798Z",
     "start_time": "2023-11-20T05:27:39.843733Z"
    }
   }
  },
  {
   "cell_type": "code",
   "execution_count": 62,
   "outputs": [
    {
     "data": {
      "text/plain": "array(['memory foam rug galveston', 'bathroom lighting',\n       'alter furniture', 'ergonomic chair', 'unique coffee tables',\n       'modern farmhouse lighting semi flush mount',\n       'full mattress padded liner', 'attleboro drum coffee table',\n       'bed risers', 'ombre rug', 'tressler rug', 'marble',\n       'velvet chaise', 'bohemian', 'adjustable height artist stool',\n       'industrial pipe dining  table', 'butcher block island',\n       'zodiac pillow', 'trundle daybed', 'wire basket with dividers',\n       'bathroom vanity with counter space', 'tall storage cabinet',\n       'smart coffee table', 'hardwood beds',\n       'betty resin free standing umbrella', 'upholstered girls bed',\n       'marlon tufted queen bed', 'anchor decor', 'pedistole sink',\n       'annex dresser', '3/4 size mattress', 'kitchen storage shelves',\n       'living room coffee table sets', 'nectar queen mattress',\n       'outdoor privacy wall', 'pool floats', 'gray dresser',\n       'shoe bench entryway', 'seat cushions desk', 'led nightstand',\n       'shower hooks', '54 in bench cushion',\n       'royal blue counter height chairs', 'waterfall faucet',\n       'outdoor seat/back cushion', 'worn leather office chair',\n       'side table with storage', 'printers', 'dining table vinyl cloth',\n       'medium clips', 'burruss patio sectional with cushions',\n       'bar stool with backrest', 'elegant executive chair',\n       'round outdoor patio cover', 'outdoor light fixtures',\n       'wainscoting ideas', 'almost heaven sauna', 'power lift chair',\n       'drum picture', 'filaret outdoor sofa',\n       'kohler purist brushed bronze', 'garage sports storage rack',\n       'chabely 5 draw chest', 'tufted chair with gold legs',\n       'welcome sign', 'kisner', 'lunch bag', 'outdoor sectional doning',\n       'comfortable accent chair'], dtype=object)"
     },
     "execution_count": 62,
     "metadata": {},
     "output_type": "execute_result"
    }
   ],
   "source": [
    "wands_rerank_test['query'].unique()"
   ],
   "metadata": {
    "collapsed": false,
    "ExecuteTime": {
     "end_time": "2023-11-20T05:27:42.036361Z",
     "start_time": "2023-11-20T05:27:42.009600Z"
    }
   }
  },
  {
   "cell_type": "code",
   "execution_count": 63,
   "outputs": [],
   "source": [
    "def generate_hard_negatives(queries, query_df, product_df, n_context=3, negative_label_score=0.0):\n",
    "    \"\"\"\n",
    "    This function extracts hard negatives for each search query from the labelled WANDS dataset\n",
    "    :param queries: Hand picked queries demonstrated in WANDS paper\n",
    "    :param query_df: WANDS dataset which labels relevance of returned product id by recommender given query\n",
    "    :param product_df: WANDS dataset which holds product description information given product id\n",
    "    :param n_context: How many contexts are considered relevant for a query? Default is 3\n",
    "    :param negative_label_score: Default label score assigned to hard negative\n",
    "    :return: List of hard negatives given each query\n",
    "    \"\"\"\n",
    "    hard_negatives = []\n",
    "    for query in queries:\n",
    "        negative_df = query_df[(query_df['query'] == query) & (query_df['label_score'] == negative_label_score)]\n",
    "        if negative_df.empty:\n",
    "            hard_negatives.append([])\n",
    "        else:\n",
    "            negative_product_ids = negative_df['product_id'].values\n",
    "            if len(negative_product_ids) > n_context:\n",
    "                negative_product_ids = negative_product_ids[:n_context]\n",
    "            negative_product_df = product_df[product_df['product_id'].isin(negative_product_ids)]\n",
    "            hard_negatives.append(negative_product_df['product_text'].to_list())\n",
    "    return hard_negatives"
   ],
   "metadata": {
    "collapsed": false,
    "ExecuteTime": {
     "end_time": "2023-11-20T05:27:55.793693Z",
     "start_time": "2023-11-20T05:27:55.763363Z"
    }
   }
  },
  {
   "cell_type": "code",
   "execution_count": 64,
   "outputs": [
    {
     "data": {
      "text/plain": "[[\"cortez kelay ergonomic gaming chair is your work or office chair causing your back pain ? sitting in a chair for extended periods can cause pain in the lower back . working on your desk for long hours also increases stress on the neck and shoulders , and adds considerable pressure on your spine and muscles . even impeccable posture may not save you from muscle strain . ordinary desk chairs do not provide the proper support needed to keep you from slouching or overstretching your spinal ligaments . don ’ t wait until your condition worsens . it ’ s time to choose comfort . with kelly 's mesh office chair , you get unprecedented and custom back support . our chair is designed for total comfort , from the headrest to the seat depth . you can also adjust the lumbar pillow forwards or backward and up or down for truly customized lower back support . there are 4 levels of lockable leaning angles . the height is fully adjustable , as well as the seat depth . kelay is the first in taiwan to develop a 4d armrest . it features an interlocking function for intimate hand support . move back and forth , up and down , left and right , or pivot . this multi-stage adjustment is exactly what your arms need for comfort . main features recap : 1. patent headrest—extra wide angle moving the pillow . 2 . 4d action evolution linkage armrest—the first in taiwan to develop and control the interlocking armrests , the new equipment 4d integration handrail function - front and rear / up and down / left and right / amplitude action , multi-stage adjustment , interlocking with the back of the chair , intimate hand support . 3. four-stage tilt lock—you can adjust the back angle of the whole chair and fix the angle of four segments . 4. tilt weight adjustment button—according to individual needs , there is a gravity elastic button under the seat to adjust the tilting force as needed . 5. anti-slapping device—stand up multi-stage recliner seat , all set anti-beat setting , when you release the recliner ( open the recliner ) , you need to press the back of the chair with bodyweight , click to `` slap '' one click , the back of the chair can be returned . avoid the safety of being hit by the back of a chair when you get up in a hurry . 6. textured slider—three-stage trolley slides for assembly and lifting . 7. technology network cloth—stand up uses the international dupont authentic dupont elastomer to develop a new high-breathable , anti-friction , impact-resistant mesh , the international standard endurance test is higher than 120,000 cycles . 8. strongest joint—stand up the whole series of main bodies , accessories , mainframe and related through the strength and calibration test , suitable for action , so that you can rely on . 9. rise and fall with peace of mind—the stand-up use the peace of mind iron device to synchronize with the european and american high specifications , no gas bar explosion damage concerns . 10. metal chair foot—the taste is great , through the fine standard test , it is extraordinary . 11. scratch-resistant chair wheel—stand up and choose to use pu anti-scraping , general floor , and wood floor are used . ( the initial friction of the new product is large , a little sound is normal , please feel free to use it . ) 12 international patent , high standard—stand up series of seats have passed the strict subject and detail test and won many international patents in germany , the united states , japan , taiwan , and china . product dimensions : overall : width 30 inches , depth 27.9 inches , height 43.7 to 52.36 inches seat : width 20.86 inches , depth 18.9 inches lumbar pillow : width 13.38 inches , height 6.7 inches headrest : width 11.8 inches , height 6.7 inches product weight : 57.2 pounds weight capacity : holds up to 300 pounds here are more reasons to love our chair : a modern , sleek design makes it ideal for offices has an anti-jolt mechanism for rebound prevention has pu anti-scratch wheels become as comfortable as possible , and maximize your productivity . add kelay ’ s mesh office chair to your cart today !\",\n  'square throw pillow cover & insert the front and back fabric of this plush decorative throw pillow offers a textured fabric crafted using the timeless jacquard weaving process inspired by complex basketry of yesteryear . it features the rustic southwestern zig-zag design inspired by native american embroidery . burnt orange and brown hues fade into rustic green to form subtle chevron patterns . the captivating color and an earth tone inspired palette to infuse your favorite room with a vibrant personality . these toss pillows are filled with premium 100 % eco-friendly poly to ensure they remain decadent and satisfying to touch for years to come .',\n  'trellis body pillow case trellis body pillow case will add that special touch to any room . it is especially designed to fit the matching cloud down alternative body pillow and made to coordinate with sweet jojo designs bedding sets . this cover features zipper closures on both sides for easy use . machine washable and dry able .'],\n [\"kids ride on car electric car motorized vehicles 12v rechargeable toy vehicle for boys girls with four wheel shock 2.4g remote control mp3 usb horn led lights ( black ) manual mode and parental remote control ( 3 speeds ) meet the needs of children of different ages . the kid can operate this car by himself/herself by foot pedal and steering wheel . if the child is too young to ride it on its own , parents can control the ride on the car by supplied a remote controller ; the one-button start function , built-in horn , led front lights , forward or backward , turn right or left . built-in music and story , usb port to play your own music . the power display function can clearly show the power so that the car can be charged in time ; rear wheels are equipped with a spring suspension system , safe ride for you kids . parental remote control , seat belt , and double lockable door design offer maximum safety for your kids . the ride on car is equipped with 4 wheels which features excellent slip resistance , the car will not slip while going on most terrains ; with a stylish look and cool shape , plus an integrated control system to increase much more pleasure , this ride on car is designed with 2 openable doors , multi-media center , forward , backward , turning , and speed shifting functions , horn buttons , shining led lights and so on . equipped with a seat belt and 4 non-slip wheels the electric ride-on car provides three colors for you to choose from . your child can be driving independently while listening to music enhances kid 's coordination and hearing skill , fully releasing his/she youthful energy .\",\n  'sp 20 amp interrupter using the latest internet technology combined with general electric purchasing power , general electric bring together the largest selection of products from around the world , allowing general electric customers to obtain this interrupter in order to charge multiple devices easy and convenient . can technically charge 4 devices at a time . low price makes this a good deal .'],\n []]"
     },
     "execution_count": 64,
     "metadata": {},
     "output_type": "execute_result"
    }
   ],
   "source": [
    "hard_negatives_train = generate_hard_negatives(queries=wands_rerank_train['query'].unique().tolist(), \n",
    "                                         query_df=wands_query_label_df, \n",
    "                                         product_df=wands_product_df)\n",
    "hard_negatives_train[:3]"
   ],
   "metadata": {
    "collapsed": false,
    "ExecuteTime": {
     "end_time": "2023-11-20T05:27:58.911106Z",
     "start_time": "2023-11-20T05:27:56.945137Z"
    }
   }
  },
  {
   "cell_type": "code",
   "execution_count": 65,
   "outputs": [
    {
     "data": {
      "text/plain": "[[\"chasimi 10 '' medium memory foam mattress enjoy a memorable night 's sleep thanks to these memory foam mattresses with certipur-us certified foam , made up of memory foam and high-density foam . comfort and air circulation created to provide balanced support—no matter how much you toss and turn . perfectly 3d knitted fabric makes for a breathable and smooth comfort surface . revolutionary high-density foam brings you conforming comfort . and is shipped compressed , rolled , and vacuum-sealed for your convenience .\",\n  'nantucket memory foam 15 piece shower curtain set + hooks set the scene in your washroom ensemble with this stylish set keep rogue water splashes at bay in the shower with the geometric and flower designs -shower curtain comes with 12 piece metal hooks , and keep your feet dry after you get out of the shower with the matching color memory foam bath mat .',\n  \"gritton medium memory foam cooling body pillow did you know it 's recommended that you replace your pillows every 1-2 years ? ditch your old feather-filled sleeping accessory and switch to this one , a technical marvel – well , for a pillow , anyway . shredded memory foam gives it a soft , but medium firm , touch , while a polyester and bamboo cover helps keeps things fresh . no need to flip it over , cooling technology makes every side the cool one . plus , with a hypoallergenic design , it 's ideal for difficult sleepers .\"],\n ['ishika light bluerug',\n  'beveled ivory/black wall mirror bring character and charm to any wall in your home with this lovely mirror . the perfect finishing touch of industrial aesthetics , this beautiful accent will open up your space with artful appeal . the frame showcases a weathered whitewashed finish that adds vintaged elegance to your ensemble , while the dark rivet metal border adds factory-inspired flair . try hanging this chic design above your master suite bathroom vanity to give your smaller space some bold style , then complement that industrial look by adding a white subway tiling backsplash . next , top your vanity with a trio of mini succulents in matte white pots and dot your walls with metal artwork . finally , add a crisp white shower curtain and roll out a simple gray mat to finish the look in style .',\n  'lavendon farmhouse/country distressed accent mirror this metal and wood hanging wall mounted mirror will look great in your bedroom or bathroom . there is a bar in the back which the mirror mounts to . the product moves slightly allowing you to adjust the angle for your convenience .'],\n [\"abstract geometry bicolored random altered geometric elements contemporary arrangement kitchen curtain these one of a kind decorative curtains will help transform your room into your private sanctuary ! perfect decoration item for your living room , dining room , bedroom , kids , and dorm rooms . matches well with various color palettes of rugs , furniture , and any other home decor accent accessories . made from high quality 100 % polyester tight woven , turkish made , silky satin fabric . environmentally friendly , no dye substance harming the health of your family . with vibrant and colorful designs , these modern curtains add a great perspective to the look of your room . high-resolution pictures bring 3d like realistic experience to your life . it is not too thin or too thick . a quick and luxurious way to refresh and completely change the appearance of your home without a big expense . a perfect gift idea for your mom , dad , sister , brother , grandma , grandpa , wife , husband , son , daughter , and other beloved ones with thousands of designs . you can find a theme and style for everybody and any interest in our ambesonne collection . enter into a new world with our items . it can be at the seashore or mountain landscapes , anywhere ! if you 're a fan of sports or have a hobby , you will be spending time with it in your personal space . customized , personalized products are very popular . as manufacturers of digitally printed home textiles , we follow current trends and bring you the latest home fashion . either a present to your family , friend , relative , boyfriend , girlfriend , or to yourself , the item should be interesting , authentic . men , women , kids , teens , boys , or girls everybody will love them ! anyone from any profession will be thrilled by the difference these curtains bring to their house decor . due to manual measurement , please kindly allow 1-2 cm discrepancy . the digital images we display have the most accurate color possible , and however , due to differences in computer monitors , we can not be responsible for variations in color between the actual product and your screen . no hardware is included .\",\n  \"abstract geometry optical illusion altered triangles modern optic art pattern kitchen curtain these one of a kind decorative curtains will help transform your room into your private sanctuary ! perfect decoration item for your living room , dining room , bedroom , kids , and dorm rooms . matches well with various color palettes of rugs , furniture , and any other home decor accent accessories . made from high quality 100 % polyester tight woven , turkish made , silky satin fabric . environmentally friendly , no dye substance harming the health of your family . with vibrant and colorful designs , these modern curtains add a great perspective to the look of your room . high-resolution pictures bring 3d like realistic experience to your life . it is not too thin or too thick . a quick and luxurious way to refresh and completely change the appearance of your home without a big expense . a perfect gift idea for your mom , dad , sister , brother , grandma , grandpa , wife , husband , son , daughter , and other beloved ones with thousands of designs . you can find a theme and style for everybody and any interest in our collection . enter into a new world with our items . it can be at the seashore or mountain landscapes , anywhere ! if you 're a fan of sports or have a hobby , you will be spending time with it in your personal space . customized , personalized products are very popular . as manufacturers of digitally printed home textiles , we follow current trends and bring you the latest home fashion . either a present to your family , friend , relative , boyfriend , girlfriend , or to yourself , the item should be interesting , authentic . men , women , kids , teens , boys , or girls everybody will love them ! anyone from any profession will be thrilled by the difference these curtains bring to their house decor . due to manual measurement , please kindly allow 1-2 cm discrepancy . the digital images we display have the most accurate color possible , and however , due to differences in computer monitors , we can not be responsible for variations in color between the actual product and your screen . no hardware is included .\",\n  \"aidyen 3 piece urban ebony signature accent set the accent set is a graceful blend of transitional style elements , american craftsmanship , and functional features designed for today 's lives . the collection evokes a classic farmhouse design that incorporates bold industrial accents matched with popular home interior color options . all pieces are handcrafted in the usa , using only the best hand-selected pine wood which highlights natural wood grain and knot patterns . the industrial hardware is powder coated in a durable matte black finish designed for long-lasting interior use .\"]]"
     },
     "execution_count": 65,
     "metadata": {},
     "output_type": "execute_result"
    }
   ],
   "source": [
    "hard_negatives_test = generate_hard_negatives(queries=wands_rerank_test['query'].unique().tolist(),\n",
    "                                               query_df=wands_query_label_df,\n",
    "                                               product_df=wands_product_df)\n",
    "hard_negatives_test[:3]"
   ],
   "metadata": {
    "collapsed": false,
    "ExecuteTime": {
     "end_time": "2023-11-20T05:28:01.183072Z",
     "start_time": "2023-11-20T05:28:00.615206Z"
    }
   }
  },
  {
   "cell_type": "code",
   "execution_count": 66,
   "outputs": [],
   "source": [
    "def generate_query_context_pairs(queries, query_df, product_df, n_context=3, negative_label_score=0.0):\n",
    "    \"\"\"\n",
    "    This function extracts exact and partial matches for each search query from the labelled WANDS dataset\n",
    "    :param queries: Hand picked queries demonstrated in WANDS paper\n",
    "    :param query_df: WANDS dataset which labels relevance of returned product id by recommender given query\n",
    "    :param product_df: WANDS dataset which holds product description information given product id\n",
    "    :param n_context: How many contexts are considered relevant for a query? Default is 3\n",
    "    :param negative_label_score: Default label score assigned to hard negative\n",
    "    :return: List of relevant product descriptions from recommender given each query\n",
    "    \"\"\"\n",
    "    context_pairs = []\n",
    "    for query in queries:\n",
    "        relevant_df = query_df[(query_df['query'] == query) & (query_df['label_score'] > negative_label_score)]\n",
    "        if relevant_df.empty:\n",
    "            context_pairs.append([])\n",
    "        else:\n",
    "            relevant_df = relevant_df.sort_values(by=['label_score'], ascending=False)\n",
    "            relevant_product_ids = relevant_df['product_id'].values\n",
    "            if len(relevant_product_ids) > n_context:\n",
    "                relevant_product_ids = relevant_product_ids[:n_context]\n",
    "            relevant_product_df = product_df[product_df['product_id'].isin(relevant_product_ids)]\n",
    "            context_pairs.append(relevant_product_df['product_text'].to_list())\n",
    "    return context_pairs  "
   ],
   "metadata": {
    "collapsed": false,
    "ExecuteTime": {
     "end_time": "2023-11-20T05:28:06.011306Z",
     "start_time": "2023-11-20T05:28:05.988528Z"
    }
   }
  },
  {
   "cell_type": "code",
   "execution_count": 67,
   "outputs": [
    {
     "data": {
      "text/plain": "[['cortez go dallas indoor/outdoor throw pillow show off your state pride and support your local football team with this throw pillow . for indoor and outdoor use , this square accent pillow features a double-sided print and is a stain , mildew , and water-resistant . makes a great gift for the football fan in your life .',\n  'cortez vibe rectangular pillow cover & insert',\n  'cortez rectangular pillow cover & insert'],\n ['60 led solar wall light w/motion sensor 270° super bright ( set of 2 ) description : upgraded 60 led solar lights : 60 led motion sensor solar lights are perfect for using on outdoor , garden , patio yard , deck garage , driveway porch . powerful sensor ball head offers strong motion sensitivity up to 9-17 feet and 270 degrees sensor angle . solar powered security lights : waterproof solar lights outdoor have passed the fcc certification . and our units are made of high-impact abs which can withstand snow , rain and other extreme weather conditions . intelligent automatic on & off : outdoor motion sensor solar ligths will automatically turn on when motion detected at night or in darkness ( ps : press the power button to turn on when you first used it ) , and it will automatically turn off after motion stop around 30 seconds or daytime . energy saving motion sensor solar lights : this solar senstive lights need not wire . install the solar powered wall lights with screws provided and charge them fully under directly sunlight for 7-9 hours . also recommended optimum installation height : 6-14 feet .',\n  \"25 '' led 60 - bulb fairy string light\",\n  'led strip lights 32.8 feet for room , tv , ceiling , cupboard bar home'],\n ['reider self-watering plastic hanging planter no green thumb ? rest assured you ’ ve got backup during days you forget to check up on your growing greenery with this self-watering hanging planter . made in the usa from polypropylene plastic , this piece resists weather and water , so it ’ s equally suited to spruce up the deck or an unused corner inside your home . an earthy solid hue gives this design an understated and approachable look , while the subtle fill spot , tray basin , and drainage holes promote healthy herbs and flowers .',\n  '2 - piece fiberglass barrel planter set cast using a blend of natural stone , plastic resin , and fiberglass . durable and lightweight . weather resistant - both uv protected and frost resistant . with a premium finish to give a rustic artisan look .',\n  'trio self-watering plastic pot planter this trio self-watering plastic pot planter features 3 independent , interchangeable liners - each with its own water reservoir , which extends the time between waterings , and water gauge , which indicates when the reservoir is empty and needs to be refilled . water is conveyed directly to the roots of your plants by a unique funnel system that keeps the topsoil surface area dry . when used indoors , these dry surface areas effectively reduce gnats and fungi . a specially formulated granular material separates your potting soil from its water reservoir , helps aerates the roots , provides nutrition , and helps regulate adequate water supply . this attractive planter has wicker like finish and is suitable for both indoor as well as outdoor use . perfect for patios and as a space divider . ideal for blooming plants , edibles , and foliage . optional trellis and pedestal are available .']]"
     },
     "execution_count": 67,
     "metadata": {},
     "output_type": "execute_result"
    }
   ],
   "source": [
    "contexts_train = generate_query_context_pairs(queries=wands_rerank_train['query'].unique().tolist(), \n",
    "                                         query_df=wands_query_label_df, \n",
    "                                         product_df=wands_product_df)\n",
    "contexts_train[:3]"
   ],
   "metadata": {
    "collapsed": false,
    "ExecuteTime": {
     "end_time": "2023-11-20T05:28:09.542653Z",
     "start_time": "2023-11-20T05:28:07.523586Z"
    }
   }
  },
  {
   "cell_type": "code",
   "execution_count": 68,
   "outputs": [
    {
     "data": {
      "text/plain": "[[\"27.5 '' x19.6 '' memory foam bath mat ultra soft non slip and absorbent bathroom rug , set of 2 net weight : 0.5kgproduct size : bath mat 50 × 40cm , u-shaped mat 70 × 50cmmaterial : flannel and memory cottonproduct features:1. the cushion is made of super soft microfiber . thick flannel and memory cotton help you avoid dripping water when you get out of the shower , bathtub or at the sink2 . anti slip and absorption : because the back of the hot adhesive anti-skid bottom , one-time molding has no gap , so it can effectively absorb water and prevent slip . the durable material and high-quality structure ensure that it will not deteriorate , flatten or scatter in use3 . our u-shaped cushion size is perfect for your toilet , while the other is a universal rectangle . it will be the perfect choice for master bathroom , children 's bathroom , toilet and suite,4 . high quality and comfortable . this super soft and super comfortable bath blanket will feel very comfortable when you step on your feet . it is made of 100 % super soft microfiber and filled with soft memory foam pad . size : carpet 27.5 * 19.6in , u shape pad 19.6 * 15.7in5 . machine washable : flannel microfiber and pvc layer used for cushion are designed to be machine washable to remove stains . cleaning will be very simpleproduct list : mat * 1 + u-mad * 1\",\n  'ultra soft non slip and absorbent memory foam contour mat this super soft and ultra-comfortable bath rug feels super comfortable when your feet steps on it .',\n  'anar gray rug best value area rug is artistically designed with unique colors that bring out the beauty of one of the best selling area rugs in the usa .'],\n [\"buscher 3 - light vanity light give your bathroom some much-needed illumination with this 3-light vanity light . its torch-like design is made from stainless steel , and it comes with one rounded backplate in a shiny finish . the plate connects to a long curved arm in a black finish , and at the end , three globe-shaped frosted shades are designed with raised accents for an industrial-style look . the shades accommodate one built-in bulb ( not included ) up to 60w that aims to light up and down wherever you mount it . plus , we love that it 's compatible with a dimmer , so you can adjust the lighting from morning tonight .\",\n  'colis 3 light bath vanity light',\n  'thiessen bath 3-light vanity light this collection consists of special-cased frosted cylindrical glass that reveals a detailed ridged pattern . it is mounted on a quality sturdy rounded rectangular frame to produce a splendid transitional look that is great for different enclosed and open spaces . this bath 3-light vanity light uses cylindrical frosted glass with an artistic cased pattern and supported by a basic square frame . its smooth design is a good fit for many transitional environments .'],\n [\"14 '' steel platform bed this bed frame is a complete support system that is constructed with 100 % steel to provide maximum support and durability for long-lasting use . you will find that its 9 points of contact from the mattress to the floor add strength , stability , and level support . another feature is the 12 inches of under-bed storage to keep those needed items conveniently stored away . our 14-inch metal platform bed frame with steel slats is the perfect addition to any room with its sleek black design made with heavy-duty 100 % steel . with 9 additional points of contact to the floor and a center bar , this bed will be ready to support you and your mattress in a matter of minutes . easily assemble your new frame with everything you need to be included in the box . our bed is made with fit2lock technology that allows the slats to simply be inserted in place into friction-fit support cups . stable , durable , and noise-free all in one , this bed frame does not require a box spring and is ready to bring you and your partner a great night 's sleep .\",\n  \"winston porter 3pcs rattan patio chair & table set outdoor furniture set w/ wooden frame if you are looking for outdoor furniture set with elegant appearance to create a private corner , you ca n't miss our 3 pieces rattan bistro set . tight rattan and solid eucalyptus wood ensure the overall sturdiness and durability . the wide backrest and ergonomic armrest fits your body curve , providing you with the optimal comfort . this set is equipped with a coffee table that can hold drinks , snacks , books and other items . leaning back in this chair under the sunshine , the tiredness and fatigue after the overworking daytime will fade away while you are reading , chatting or taking a nap .\",\n  'patio outdoor rattan furniture 4 pieces']]"
     },
     "execution_count": 68,
     "metadata": {},
     "output_type": "execute_result"
    }
   ],
   "source": [
    "contexts_test = generate_query_context_pairs(queries=wands_rerank_test['query'].unique().tolist(), \n",
    "                                         query_df=wands_query_label_df, \n",
    "                                         product_df=wands_product_df)\n",
    "contexts_test[:3]"
   ],
   "metadata": {
    "collapsed": false,
    "ExecuteTime": {
     "end_time": "2023-11-20T05:28:11.687152Z",
     "start_time": "2023-11-20T05:28:11.092251Z"
    }
   }
  },
  {
   "cell_type": "code",
   "execution_count": 69,
   "outputs": [],
   "source": [
    "def generate_rerank_labelled_dataset(queries, contexts, hard_negatives, dataset_file_pth):\n",
    "    \"\"\"\n",
    "    Generated labelled rerank dataset based on context pairs and hard negatives that were identified for a sampled subset of queries from the main dataset\n",
    "    :param queries: The unique reference queries in the dataset\n",
    "    :param contexts: The relevant contexts (Exact or Partial) corresponding to each reference query, if available\n",
    "    :param hard_negatives: The irrelevant matches shown by recommender as labelled by humans \n",
    "    :param dataset_file_pth: Save generated dataset in this file path\n",
    "    :return: \n",
    "    \"\"\"\n",
    "    with open(dataset_file_pth, \"w\") as outfile:\n",
    "    # Iterate over the lists simultaneously using zip\n",
    "        for query, context, hard_negative in zip(\n",
    "            queries, contexts, hard_negatives\n",
    "        ):\n",
    "            # Instantiate a CohereRerankerFinetuneDataset object for the current entry\n",
    "            entry = CohereRerankerFinetuneDataset(\n",
    "                query=query, relevant_passages=context, hard_negatives=hard_negative\n",
    "            )\n",
    "            # Write the JSONL string to the file\n",
    "            outfile.write(entry.to_jsonl())\n",
    "        print(f\"{dataset_file_pth} is generated and ready!\")"
   ],
   "metadata": {
    "collapsed": false,
    "ExecuteTime": {
     "end_time": "2023-11-20T05:28:14.641544Z",
     "start_time": "2023-11-20T05:28:14.624039Z"
    }
   }
  },
  {
   "cell_type": "markdown",
   "source": [
    "### Generate Re-ranking Dataset for Fine-tuning"
   ],
   "metadata": {
    "collapsed": false
   }
  },
  {
   "cell_type": "code",
   "execution_count": 70,
   "outputs": [],
   "source": [
    "rerank_data_path = os.path.join(parent_dir, 'rerank-ft')\n",
    "os.makedirs(rerank_data_path, exist_ok=True)\n",
    "rerank_train_filename = 'train.jsonl'\n",
    "rerank_val_filename = 'val.jsonl'\n",
    "rerank_train_file_pth = os.path.join(rerank_data_path, rerank_train_filename)\n",
    "rerank_val_file_pth = os.path.join(rerank_data_path, rerank_val_filename)"
   ],
   "metadata": {
    "collapsed": false,
    "ExecuteTime": {
     "end_time": "2023-11-20T05:28:17.130955Z",
     "start_time": "2023-11-20T05:28:17.112532Z"
    }
   }
  },
  {
   "cell_type": "code",
   "execution_count": 71,
   "outputs": [
    {
     "name": "stdout",
     "output_type": "stream",
     "text": [
      "/Users/karthiksubramanian/PycharmProjects/recommenderLLM/rerank-ft/train.jsonl is generated and ready!\n"
     ]
    }
   ],
   "source": [
    "generate_rerank_labelled_dataset(queries=wands_rerank_train['query'].unique().tolist(),\n",
    "                                 contexts=contexts_train,\n",
    "                                 hard_negatives=hard_negatives_train,\n",
    "                                 dataset_file_pth=rerank_train_file_pth)"
   ],
   "metadata": {
    "collapsed": false,
    "ExecuteTime": {
     "end_time": "2023-11-20T05:28:19.373130Z",
     "start_time": "2023-11-20T05:28:19.347649Z"
    }
   }
  },
  {
   "cell_type": "code",
   "execution_count": 72,
   "outputs": [
    {
     "name": "stdout",
     "output_type": "stream",
     "text": [
      "/Users/karthiksubramanian/PycharmProjects/recommenderLLM/rerank-ft/val.jsonl is generated and ready!\n"
     ]
    }
   ],
   "source": [
    "generate_rerank_labelled_dataset(queries=wands_rerank_test['query'].unique().tolist(),\n",
    "                                 contexts=contexts_test,\n",
    "                                 hard_negatives=hard_negatives_test,\n",
    "                                 dataset_file_pth=rerank_val_file_pth)"
   ],
   "metadata": {
    "collapsed": false,
    "ExecuteTime": {
     "end_time": "2023-11-20T05:28:21.076892Z",
     "start_time": "2023-11-20T05:28:21.046544Z"
    }
   }
  },
  {
   "cell_type": "code",
   "execution_count": 74,
   "outputs": [],
   "source": [
    "rerank_finetuned_model_name = 'cohere_rerank_wands_chair' #'cohere_rerank_wands\"\n",
    "rerank_model_type = \"RERANK\"\n",
    "rerank_base_model = 'english'\n",
    "\n",
    "# Reranker model with avg 3 hard negatives selected from labelled dataset\n",
    "finetuned_reranker_model = CohereRerankerFinetuneEngine(train_file_name=rerank_train_file_pth,\n",
    "                                                        val_file_name=rerank_val_file_pth,\n",
    "                                                        model_name=rerank_finetuned_model_name,\n",
    "                                                        model_type=rerank_model_type,\n",
    "                                                        base_model=rerank_base_model,\n",
    "                                                        )"
   ],
   "metadata": {
    "collapsed": false,
    "ExecuteTime": {
     "end_time": "2023-11-20T05:28:52.111678Z",
     "start_time": "2023-11-20T05:28:52.085645Z"
    }
   }
  },
  {
   "cell_type": "code",
   "execution_count": 75,
   "outputs": [],
   "source": [
    "finetuned_reranker_model.finetune()"
   ],
   "metadata": {
    "collapsed": false,
    "ExecuteTime": {
     "end_time": "2023-11-20T05:28:56.361352Z",
     "start_time": "2023-11-20T05:28:53.889864Z"
    }
   }
  },
  {
   "cell_type": "code",
   "execution_count": 44,
   "outputs": [],
   "source": [
    "# cohere_rerank_fine_tuned = finetuned_reranker_model.get_finetuned_model(top_n=3)\n",
    "cohere_rerank_fine_tuned = CohereRerank(api_key=os.environ[\"COHERE_API_KEY\"], \n",
    "                                        top_n=3, \n",
    "                                        model=cred_dict.get(\"COHERE_MODEL_ID\"))"
   ],
   "metadata": {
    "collapsed": false,
    "ExecuteTime": {
     "end_time": "2023-11-20T05:19:22.162220Z",
     "start_time": "2023-11-20T05:19:22.143029Z"
    }
   }
  },
  {
   "cell_type": "code",
   "execution_count": 45,
   "outputs": [],
   "source": [
    "query_engine_rerank_fine_tuned = simple_index.as_query_engine(similarity_top_k=10, \n",
    "                                                              node_postprocessors=[cohere_rerank_fine_tuned], response_mode=\"tree_summarize\",\n",
    "                                                              verbose=True,)"
   ],
   "metadata": {
    "collapsed": false,
    "ExecuteTime": {
     "end_time": "2023-11-20T05:19:25.588587Z",
     "start_time": "2023-11-20T05:19:25.563417Z"
    }
   }
  },
  {
   "cell_type": "code",
   "execution_count": 187,
   "outputs": [
    {
     "name": "stderr",
     "output_type": "stream",
     "text": [
      "Your text contains a trailing whitespace, which has been trimmed to ensure high quality generations.\n"
     ]
    },
    {
     "name": "stdout",
     "output_type": "stream",
     "text": [
      "We have multiple options for recliner chairs, but none that are specifically described as a 'chair and a half.' \n",
      "\n",
      "If you have any more details about what you are looking for, please provide additional information and we can further refine our search to recommend options that might be a better fit. \n",
      "\n",
      "Would you like to know more about any of these products? \n",
      "\n",
      "- Dariya Recliner: A manual rocker recliner with a smooth bonded faux leather finish. It is 26.5\" wide and ideal for a living room, executive lounge, or lobby.\n",
      "- Aleid Recliner: A power lift assist recliner with a soft short plush fabric cover. It has a classic contemporary style and is 31\" wide. It is suitable for living rooms, bedrooms, theater rooms, and media rooms. \n",
      "- Liam Recliner: A wider faux leather power lift assist recliner, suitable for relaxing or sleeping. It is 33.5\" wide and made of high-quality fabric with a high-density sponge filling. \n",
      "\n",
      "Let me know if you have any other questions about these products or anything else in the furniture category. \n"
     ]
    }
   ],
   "source": [
    "rerank_response_fine_tuned = query_engine_rerank_fine_tuned.query(example_llm)\n",
    "print(rerank_response_fine_tuned, sep=\"\\n\")"
   ],
   "metadata": {
    "collapsed": false,
    "ExecuteTime": {
     "end_time": "2023-11-19T10:20:03.970265Z",
     "start_time": "2023-11-19T10:19:55.806488Z"
    }
   }
  },
  {
   "cell_type": "code",
   "execution_count": 77,
   "outputs": [],
   "source": [
    "# cohere_rerank_fine_tuned = finetuned_reranker_model.get_finetuned_model(top_n=3)\n",
    "cohere_rerank_fine_tuned = CohereRerank(api_key=os.environ[\"COHERE_API_KEY\"], \n",
    "                                        top_n=3, \n",
    "                                        model=cred_dict.get(\"COHERE_MODEL_ID2\"))"
   ],
   "metadata": {
    "collapsed": false,
    "ExecuteTime": {
     "end_time": "2023-11-20T06:24:30.700351Z",
     "start_time": "2023-11-20T06:24:30.683333Z"
    }
   }
  },
  {
   "cell_type": "code",
   "execution_count": 78,
   "outputs": [],
   "source": [
    "query_engine_rerank_fine_tuned = simple_index.as_query_engine(similarity_top_k=10, \n",
    "                                                              node_postprocessors=[cohere_rerank_fine_tuned], response_mode=\"tree_summarize\",\n",
    "                                                              verbose=True,)"
   ],
   "metadata": {
    "collapsed": false,
    "ExecuteTime": {
     "end_time": "2023-11-20T06:24:32.726179Z",
     "start_time": "2023-11-20T06:24:32.696184Z"
    }
   }
  },
  {
   "cell_type": "code",
   "execution_count": 82,
   "outputs": [
    {
     "name": "stderr",
     "output_type": "stream",
     "text": [
      "Your text contains a trailing whitespace, which has been trimmed to ensure high quality generations.\n"
     ]
    },
    {
     "name": "stdout",
     "output_type": "stream",
     "text": [
      "I have found several examples of wire basket dividers:\n",
      "\n",
      "- Dividers for wire bins (product category: Garage Shelving Accessories)\n",
      "- Optional dividers for wire baskets (product category: Garage & Outdoor Storage & Organization)\n",
      "- Divider for mesh wire basket metal/wire lid (product category: Storage Containers & Drawers)\n",
      "\n",
      "Would you like to know more about any of these products? \n",
      "\n",
      "If none of these matches what you are looking for let me know and I will search for other products in the wire basket dividers category. \n"
     ]
    }
   ],
   "source": [
    "rerank_response_fine_tuned = query_engine_rerank_fine_tuned.query(\"wire basket dividers\")\n",
    "print(rerank_response_fine_tuned, sep=\"\\n\")"
   ],
   "metadata": {
    "collapsed": false,
    "ExecuteTime": {
     "end_time": "2023-11-20T06:33:14.341953Z",
     "start_time": "2023-11-20T06:33:10.210495Z"
    }
   }
  },
  {
   "cell_type": "markdown",
   "source": [
    "## Search and Retrieval Engine in Action"
   ],
   "metadata": {
    "collapsed": false
   }
  },
  {
   "cell_type": "code",
   "execution_count": null,
   "outputs": [],
   "source": [],
   "metadata": {
    "collapsed": false
   }
  }
 ],
 "metadata": {
  "kernelspec": {
   "display_name": "Python 3",
   "language": "python",
   "name": "python3"
  },
  "language_info": {
   "codemirror_mode": {
    "name": "ipython",
    "version": 3
   },
   "file_extension": ".py",
   "mimetype": "text/x-python",
   "name": "python",
   "nbconvert_exporter": "python",
   "pygments_lexer": "ipython3",
   "version": "3.9.6"
  },
  "orig_nbformat": 4,
  "vscode": {
   "interpreter": {
    "hash": "31f2aee4e71d21fbe5cf8b01ff0e069b9275f58929596ceb00d14d90e3e16cd6"
   }
  }
 },
 "nbformat": 4,
 "nbformat_minor": 2
}
