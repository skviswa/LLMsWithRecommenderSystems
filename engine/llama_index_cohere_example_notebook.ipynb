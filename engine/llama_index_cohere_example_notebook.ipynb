{
 "cells": [
  {
   "attachments": {},
   "cell_type": "markdown",
   "metadata": {},
   "source": [
    "<a href=\"https://colab.research.google.com/github/run-llama/llama_index/blob/main/docs/examples/embeddings/cohereai.ipynb\" target=\"_parent\"><img src=\"https://colab.research.google.com/assets/colab-badge.svg\" alt=\"Open In Colab\"/></a>"
   ]
  },
  {
   "attachments": {},
   "cell_type": "markdown",
   "metadata": {},
   "source": [
    "# CohereAI Embeddings"
   ]
  },
  {
   "cell_type": "markdown",
   "metadata": {},
   "source": [
    "If you're opening this Notebook on colab, you will probably need to install LlamaIndex 🦙."
   ]
  },
  {
   "cell_type": "code",
   "execution_count": null,
   "metadata": {},
   "outputs": [],
   "source": [
    "!pip install llama-index"
   ]
  },
  {
   "cell_type": "code",
   "execution_count": 1,
   "metadata": {
    "ExecuteTime": {
     "end_time": "2023-11-16T21:48:14.248337Z",
     "start_time": "2023-11-16T21:48:14.243827Z"
    }
   },
   "outputs": [],
   "source": [
    "# Initilise with your api key\n",
    "import os\n",
    "import json"
   ]
  },
  {
   "cell_type": "code",
   "execution_count": 2,
   "outputs": [],
   "source": [
    "def load_credentials(pth):\n",
    "    \"\"\"\n",
    "    Loads API credential keys of different services \n",
    "    :param pth: Path to credentials file\n",
    "    :return: Dictionary of API credentials\n",
    "    \"\"\"\n",
    "    cred_dict = {}\n",
    "    with open(pth, 'r') as f:\n",
    "        cred_dict = json.load(f)\n",
    "    return cred_dict"
   ],
   "metadata": {
    "collapsed": false,
    "ExecuteTime": {
     "end_time": "2023-11-16T21:48:15.804113Z",
     "start_time": "2023-11-16T21:48:15.799959Z"
    }
   }
  },
  {
   "cell_type": "code",
   "execution_count": 3,
   "outputs": [
    {
     "data": {
      "text/plain": "'/Users/karthiksubramanian/PycharmProjects/recommenderLLM'"
     },
     "execution_count": 3,
     "metadata": {},
     "output_type": "execute_result"
    }
   ],
   "source": [
    "os.getcwd()\n",
    "os.path.dirname(os.getcwd())"
   ],
   "metadata": {
    "collapsed": false,
    "ExecuteTime": {
     "end_time": "2023-11-16T07:39:47.290511Z",
     "start_time": "2023-11-16T07:39:47.286356Z"
    }
   }
  },
  {
   "cell_type": "code",
   "execution_count": 3,
   "outputs": [],
   "source": [
    "cred_pth = os.path.join(os.path.dirname(os.getcwd()), 'cred', 'credentials.json')\n",
    "cred_dict = load_credentials(cred_pth)\n",
    "cohere_api_key = cred_dict.get(\"COHERE_API_KEY\", '')\n",
    "#print(cohere_api_key)\n",
    "os.environ[\"COHERE_API_KEY\"] = cohere_api_key"
   ],
   "metadata": {
    "collapsed": false,
    "ExecuteTime": {
     "end_time": "2023-11-16T21:52:55.258083Z",
     "start_time": "2023-11-16T21:52:55.246931Z"
    }
   }
  },
  {
   "attachments": {},
   "cell_type": "markdown",
   "metadata": {},
   "source": [
    "#### With latest `embed-english-v3.0` embeddings.\n",
    "\n",
    "- input_type=\"search_document\": Use this for texts (documents) you want to store in your vector database\n",
    "\n",
    "- input_type=\"search_query\": Use this for search queries to find the most relevant documents in your vector database"
   ]
  },
  {
   "cell_type": "code",
   "execution_count": 4,
   "outputs": [],
   "source": [
    "from llama_index.embeddings.cohereai import CohereEmbedding"
   ],
   "metadata": {
    "collapsed": false,
    "ExecuteTime": {
     "end_time": "2023-11-16T21:53:05.731943Z",
     "start_time": "2023-11-16T21:53:03.693047Z"
    }
   }
  },
  {
   "cell_type": "code",
   "execution_count": 4,
   "metadata": {
    "ExecuteTime": {
     "end_time": "2023-11-16T05:10:52.157986Z",
     "start_time": "2023-11-16T05:10:50.518803Z"
    }
   },
   "outputs": [
    {
     "name": "stdout",
     "output_type": "stream",
     "text": [
      "1024\n",
      "[-0.041931152, -0.022384644, -0.07067871, -0.011886597, -0.019210815]\n"
     ]
    }
   ],
   "source": [
    "\n",
    "\n",
    "# with input_typ='search_query'\n",
    "embed_model = CohereEmbedding(\n",
    "    cohere_api_key=cohere_api_key,\n",
    "    model_name=\"embed-english-v3.0\",\n",
    "    input_type=\"search_query\",\n",
    ")\n",
    "\n",
    "embeddings = embed_model.get_text_embedding(\"Hello CohereAI!\")\n",
    "\n",
    "print(len(embeddings))\n",
    "print(embeddings[:5])"
   ]
  },
  {
   "cell_type": "code",
   "execution_count": 5,
   "metadata": {
    "ExecuteTime": {
     "end_time": "2023-11-16T05:10:56.107030Z",
     "start_time": "2023-11-16T05:10:55.926488Z"
    }
   },
   "outputs": [
    {
     "name": "stdout",
     "output_type": "stream",
     "text": [
      "1024\n",
      "[-0.03074646, -0.0029201508, -0.058044434, -0.015457153, -0.02331543]\n"
     ]
    }
   ],
   "source": [
    "# with input_type = 'search_document'\n",
    "embed_model = CohereEmbedding(\n",
    "    cohere_api_key=cohere_api_key,\n",
    "    model_name=\"embed-english-v3.0\",\n",
    "    input_type=\"search_document\",\n",
    ")\n",
    "\n",
    "embeddings = embed_model.get_text_embedding(\"Hello CohereAI!\")\n",
    "\n",
    "print(len(embeddings))\n",
    "print(embeddings[:5])"
   ]
  },
  {
   "attachments": {},
   "cell_type": "markdown",
   "metadata": {},
   "source": [
    "#### With old `embed-english-v2.0` embeddings."
   ]
  },
  {
   "cell_type": "code",
   "execution_count": null,
   "metadata": {},
   "outputs": [
    {
     "name": "stdout",
     "output_type": "stream",
     "text": [
      "4096\n",
      "[0.65771484, 0.7998047, 2.3769531, -2.3105469, -1.6044922]\n"
     ]
    }
   ],
   "source": [
    "embed_model = CohereEmbedding(\n",
    "    cohere_api_key=cohere_api_key, model_name=\"embed-english-v2.0\"\n",
    ")\n",
    "\n",
    "embeddings = embed_model.get_text_embedding(\"Hello CohereAI!\")\n",
    "\n",
    "print(len(embeddings))\n",
    "print(embeddings[:5])"
   ]
  },
  {
   "attachments": {},
   "cell_type": "markdown",
   "metadata": {},
   "source": [
    "#### Now with latest `embed-english-v3.0` embeddings, \n",
    "\n",
    "let's use \n",
    "1. input_type=`search_document` to build index\n",
    "2. input_type=`search_query` to retrive relevant context."
   ]
  },
  {
   "cell_type": "code",
   "execution_count": 5,
   "metadata": {
    "ExecuteTime": {
     "end_time": "2023-11-16T21:53:13.674330Z",
     "start_time": "2023-11-16T21:53:13.150146Z"
    }
   },
   "outputs": [],
   "source": [
    "import logging\n",
    "import sys\n",
    "\n",
    "logging.basicConfig(stream=sys.stdout, level=logging.INFO)\n",
    "logging.getLogger().addHandler(logging.StreamHandler(stream=sys.stdout))\n",
    "\n",
    "from llama_index import (\n",
    "    VectorStoreIndex,\n",
    "    SimpleDirectoryReader,\n",
    "    ServiceContext,\n",
    ")\n",
    "\n",
    "from llama_index.llms import LiteLLM\n",
    "from llama_index.response.notebook_utils import display_source_node\n",
    "\n",
    "from IPython.display import Markdown, display"
   ]
  },
  {
   "attachments": {},
   "cell_type": "markdown",
   "metadata": {},
   "source": [
    "#### Download Example Data for demo"
   ]
  },
  {
   "cell_type": "code",
   "execution_count": null,
   "metadata": {},
   "outputs": [
    {
     "name": "stdout",
     "output_type": "stream",
     "text": [
      "--2023-11-03 03:14:50--  https://raw.githubusercontent.com/run-llama/llama_index/main/docs/examples/data/paul_graham/paul_graham_essay.txt\n",
      "Resolving raw.githubusercontent.com (raw.githubusercontent.com)... 185.199.109.133, 185.199.111.133, 185.199.110.133, ...\n",
      "Connecting to raw.githubusercontent.com (raw.githubusercontent.com)|185.199.109.133|:443... connected.\n",
      "HTTP request sent, awaiting response... 200 OK\n",
      "Length: 75042 (73K) [text/plain]\n",
      "Saving to: 'data/paul_graham/paul_graham_essay.txt'\n",
      "\n",
      "data/paul_graham/pa 100%[===================>]  73.28K  --.-KB/s    in 0.006s  \n",
      "\n",
      "2023-11-03 03:14:50 (11.3 MB/s) - 'data/paul_graham/paul_graham_essay.txt' saved [75042/75042]\n"
     ]
    }
   ],
   "source": [
    "!mkdir -p 'data/paul_graham/'\n",
    "!wget 'https://raw.githubusercontent.com/run-llama/llama_index/main/docs/examples/data/paul_graham/paul_graham_essay.txt' -O 'data/paul_graham/paul_graham_essay.txt'"
   ]
  },
  {
   "attachments": {},
   "cell_type": "markdown",
   "metadata": {},
   "source": [
    "#### Load Example Data"
   ]
  },
  {
   "cell_type": "code",
   "execution_count": null,
   "metadata": {},
   "outputs": [],
   "source": [
    "documents = SimpleDirectoryReader(\"./data/paul_graham/\").load_data()"
   ]
  },
  {
   "cell_type": "markdown",
   "source": [
    "#### Build index with input_type = 'search_document'"
   ],
   "metadata": {
    "collapsed": false
   }
  },
  {
   "cell_type": "code",
   "execution_count": null,
   "outputs": [],
   "source": [
    "llm = LiteLLM(\"command-nightly\")\n",
    "embed_model = CohereEmbedding(\n",
    "    cohere_api_key=cohere_api_key,\n",
    "    model_name=\"embed-english-v3.0\",\n",
    "    input_type=\"search_document\",\n",
    ")\n",
    "\n",
    "service_context = ServiceContext.from_defaults(\n",
    "    llm=llm, embed_model=embed_model\n",
    ")\n",
    "index = VectorStoreIndex.from_documents(\n",
    "    documents=documents, service_context=service_context\n",
    ")"
   ],
   "metadata": {
    "collapsed": false
   }
  },
  {
   "cell_type": "markdown",
   "source": [
    "### Load WANDS Dataset"
   ],
   "metadata": {
    "collapsed": false
   }
  },
  {
   "cell_type": "code",
   "execution_count": 6,
   "outputs": [],
   "source": [
    "import pandas as pd\n",
    "wands_data_pth = os.path.join(os.path.dirname(os.getcwd()), 'WANDS', 'dataset')"
   ],
   "metadata": {
    "collapsed": false,
    "ExecuteTime": {
     "end_time": "2023-11-16T21:53:43.528212Z",
     "start_time": "2023-11-16T21:53:43.521114Z"
    }
   }
  },
  {
   "cell_type": "code",
   "execution_count": 7,
   "outputs": [
    {
     "data": {
      "text/plain": "   query_id                      query               query_class\n0         0                salon chair            Massage Chairs\n1         1         smart coffee table  Coffee & Cocktail Tables\n2         2                   dinosaur           Kids Wall Décor\n3         3          turquoise pillows            Accent Pillows\n4         4  chair and a half recliner                 Recliners\n5         5          sofa with ottoman                Sectionals\n6         6        acrylic clear chair             Dining Chairs\n7         7           driftwood mirror     Wall & Accent Mirrors\n8         8       home sweet home sign                Wall Décor\n9         9      coffee table fire pit        Outdoor Fireplaces",
      "text/html": "<div>\n<style scoped>\n    .dataframe tbody tr th:only-of-type {\n        vertical-align: middle;\n    }\n\n    .dataframe tbody tr th {\n        vertical-align: top;\n    }\n\n    .dataframe thead th {\n        text-align: right;\n    }\n</style>\n<table border=\"1\" class=\"dataframe\">\n  <thead>\n    <tr style=\"text-align: right;\">\n      <th></th>\n      <th>query_id</th>\n      <th>query</th>\n      <th>query_class</th>\n    </tr>\n  </thead>\n  <tbody>\n    <tr>\n      <th>0</th>\n      <td>0</td>\n      <td>salon chair</td>\n      <td>Massage Chairs</td>\n    </tr>\n    <tr>\n      <th>1</th>\n      <td>1</td>\n      <td>smart coffee table</td>\n      <td>Coffee &amp; Cocktail Tables</td>\n    </tr>\n    <tr>\n      <th>2</th>\n      <td>2</td>\n      <td>dinosaur</td>\n      <td>Kids Wall Décor</td>\n    </tr>\n    <tr>\n      <th>3</th>\n      <td>3</td>\n      <td>turquoise pillows</td>\n      <td>Accent Pillows</td>\n    </tr>\n    <tr>\n      <th>4</th>\n      <td>4</td>\n      <td>chair and a half recliner</td>\n      <td>Recliners</td>\n    </tr>\n    <tr>\n      <th>5</th>\n      <td>5</td>\n      <td>sofa with ottoman</td>\n      <td>Sectionals</td>\n    </tr>\n    <tr>\n      <th>6</th>\n      <td>6</td>\n      <td>acrylic clear chair</td>\n      <td>Dining Chairs</td>\n    </tr>\n    <tr>\n      <th>7</th>\n      <td>7</td>\n      <td>driftwood mirror</td>\n      <td>Wall &amp; Accent Mirrors</td>\n    </tr>\n    <tr>\n      <th>8</th>\n      <td>8</td>\n      <td>home sweet home sign</td>\n      <td>Wall Décor</td>\n    </tr>\n    <tr>\n      <th>9</th>\n      <td>9</td>\n      <td>coffee table fire pit</td>\n      <td>Outdoor Fireplaces</td>\n    </tr>\n  </tbody>\n</table>\n</div>"
     },
     "execution_count": 7,
     "metadata": {},
     "output_type": "execute_result"
    }
   ],
   "source": [
    "# get search queries\n",
    "wands_query_df = pd.read_csv(os.path.join(wands_data_pth, \"query.csv\"), sep='\\t')\n",
    "wands_query_df.head(10)"
   ],
   "metadata": {
    "collapsed": false,
    "ExecuteTime": {
     "end_time": "2023-11-16T07:45:10.461732Z",
     "start_time": "2023-11-16T07:45:10.436472Z"
    }
   }
  },
  {
   "cell_type": "code",
   "execution_count": 8,
   "outputs": [
    {
     "data": {
      "text/plain": "   product_id                                       product_name  \\\n0           0                            solid wood platform bed   \n1           1                        all-clad 7 qt . slow cooker   \n2           2            all-clad electrics 6.5 qt . slow cooker   \n3           3       all-clad all professional tools pizza cutter   \n4           4  baldwin prestige alcott passage knob with roun...   \n5           5                 vogan 33 '' single bathroom vanity   \n6           6             vogelsang 48 '' single bathroom vanity   \n7           7                       36 '' single bathroom vanity   \n8           8                                  erith obliqui urn   \n9           9      vezina 65 '' rolled arm chesterfield loveseat   \n\n                  product_class  \\\n0                          Beds   \n1                  Slow Cookers   \n2                  Slow Cookers   \n3  Slicers, Peelers And Graters   \n4                    Door Knobs   \n5                      Vanities   \n6                      Vanities   \n7                      Vanities   \n8  Vases, Urns, Jars, & Bottles   \n9                         Sofas   \n\n                                  category hierarchy  \\\n0  Furniture / Bedroom Furniture / Beds & Headboa...   \n1  Kitchen & Tabletop / Small Kitchen Appliances ...   \n2  Kitchen & Tabletop / Small Kitchen Appliances ...   \n3                         Browse By Brand / All-Clad   \n4  Home Improvement / Doors & Door Hardware / Doo...   \n5  Home Improvement / Bathroom Remodel & Bathroom...   \n6  Home Improvement / Bathroom Remodel & Bathroom...   \n7  Home Improvement / Bathroom Remodel & Bathroom...   \n8  Décor & Pillows / Home Accessories / Vases, Ur...   \n9          Furniture / Living Room Furniture / Sofas   \n\n                                 product_description  \\\n0  good , deep sleep can be quite difficult to ha...   \n1  create delicious slow-cooked meals , from tend...   \n2  prepare home-cooked meals on any schedule with...   \n3  this original stainless tool was designed to c...   \n4  the hardware has a rich heritage of delivering...   \n5  the vogan vanity from our vogan series is a 33...   \n6  the vogelsang top vanity is a 48 '' wide singl...   \n7  vanity has an extra thick marble top with a bu...   \n8  an erith obliqui urn , crushed rhinestone pear...   \n9  in the endless world of sofa style options , t...   \n\n                                    product_features  rating_count  \\\n0  overallwidth-sidetoside:64.7|dsprimaryproducts...          15.0   \n1  capacityquarts:7|producttype : slow cooker|pro...         100.0   \n2  features : keep warm setting|capacityquarts:6....         208.0   \n3  overallwidth-sidetoside:3.5|warrantylength : l...          69.0   \n4  compatibledoorthickness:1.375 '' |countryofori...          70.0   \n5  sinkmaterial : ceramic|overallwidth-sidetoside...           2.0   \n6  dswoodtone : light wood|woodspecies : pine|ove...           1.0   \n7  whatisap-trap : a p-trap holds water to preven...           NaN   \n8  shape : cylinder|overallwidth-sidetoside:9.13|...           NaN   \n9  pattern : solid color|removablecushionlocation...           1.0   \n\n   average_rating  review_count  \n0             4.5          15.0  \n1             2.0          98.0  \n2             3.0         181.0  \n3             4.5          42.0  \n4             5.0          42.0  \n5             5.0           1.0  \n6             5.0           1.0  \n7             NaN           NaN  \n8             NaN           NaN  \n9             5.0           1.0  ",
      "text/html": "<div>\n<style scoped>\n    .dataframe tbody tr th:only-of-type {\n        vertical-align: middle;\n    }\n\n    .dataframe tbody tr th {\n        vertical-align: top;\n    }\n\n    .dataframe thead th {\n        text-align: right;\n    }\n</style>\n<table border=\"1\" class=\"dataframe\">\n  <thead>\n    <tr style=\"text-align: right;\">\n      <th></th>\n      <th>product_id</th>\n      <th>product_name</th>\n      <th>product_class</th>\n      <th>category hierarchy</th>\n      <th>product_description</th>\n      <th>product_features</th>\n      <th>rating_count</th>\n      <th>average_rating</th>\n      <th>review_count</th>\n    </tr>\n  </thead>\n  <tbody>\n    <tr>\n      <th>0</th>\n      <td>0</td>\n      <td>solid wood platform bed</td>\n      <td>Beds</td>\n      <td>Furniture / Bedroom Furniture / Beds &amp; Headboa...</td>\n      <td>good , deep sleep can be quite difficult to ha...</td>\n      <td>overallwidth-sidetoside:64.7|dsprimaryproducts...</td>\n      <td>15.0</td>\n      <td>4.5</td>\n      <td>15.0</td>\n    </tr>\n    <tr>\n      <th>1</th>\n      <td>1</td>\n      <td>all-clad 7 qt . slow cooker</td>\n      <td>Slow Cookers</td>\n      <td>Kitchen &amp; Tabletop / Small Kitchen Appliances ...</td>\n      <td>create delicious slow-cooked meals , from tend...</td>\n      <td>capacityquarts:7|producttype : slow cooker|pro...</td>\n      <td>100.0</td>\n      <td>2.0</td>\n      <td>98.0</td>\n    </tr>\n    <tr>\n      <th>2</th>\n      <td>2</td>\n      <td>all-clad electrics 6.5 qt . slow cooker</td>\n      <td>Slow Cookers</td>\n      <td>Kitchen &amp; Tabletop / Small Kitchen Appliances ...</td>\n      <td>prepare home-cooked meals on any schedule with...</td>\n      <td>features : keep warm setting|capacityquarts:6....</td>\n      <td>208.0</td>\n      <td>3.0</td>\n      <td>181.0</td>\n    </tr>\n    <tr>\n      <th>3</th>\n      <td>3</td>\n      <td>all-clad all professional tools pizza cutter</td>\n      <td>Slicers, Peelers And Graters</td>\n      <td>Browse By Brand / All-Clad</td>\n      <td>this original stainless tool was designed to c...</td>\n      <td>overallwidth-sidetoside:3.5|warrantylength : l...</td>\n      <td>69.0</td>\n      <td>4.5</td>\n      <td>42.0</td>\n    </tr>\n    <tr>\n      <th>4</th>\n      <td>4</td>\n      <td>baldwin prestige alcott passage knob with roun...</td>\n      <td>Door Knobs</td>\n      <td>Home Improvement / Doors &amp; Door Hardware / Doo...</td>\n      <td>the hardware has a rich heritage of delivering...</td>\n      <td>compatibledoorthickness:1.375 '' |countryofori...</td>\n      <td>70.0</td>\n      <td>5.0</td>\n      <td>42.0</td>\n    </tr>\n    <tr>\n      <th>5</th>\n      <td>5</td>\n      <td>vogan 33 '' single bathroom vanity</td>\n      <td>Vanities</td>\n      <td>Home Improvement / Bathroom Remodel &amp; Bathroom...</td>\n      <td>the vogan vanity from our vogan series is a 33...</td>\n      <td>sinkmaterial : ceramic|overallwidth-sidetoside...</td>\n      <td>2.0</td>\n      <td>5.0</td>\n      <td>1.0</td>\n    </tr>\n    <tr>\n      <th>6</th>\n      <td>6</td>\n      <td>vogelsang 48 '' single bathroom vanity</td>\n      <td>Vanities</td>\n      <td>Home Improvement / Bathroom Remodel &amp; Bathroom...</td>\n      <td>the vogelsang top vanity is a 48 '' wide singl...</td>\n      <td>dswoodtone : light wood|woodspecies : pine|ove...</td>\n      <td>1.0</td>\n      <td>5.0</td>\n      <td>1.0</td>\n    </tr>\n    <tr>\n      <th>7</th>\n      <td>7</td>\n      <td>36 '' single bathroom vanity</td>\n      <td>Vanities</td>\n      <td>Home Improvement / Bathroom Remodel &amp; Bathroom...</td>\n      <td>vanity has an extra thick marble top with a bu...</td>\n      <td>whatisap-trap : a p-trap holds water to preven...</td>\n      <td>NaN</td>\n      <td>NaN</td>\n      <td>NaN</td>\n    </tr>\n    <tr>\n      <th>8</th>\n      <td>8</td>\n      <td>erith obliqui urn</td>\n      <td>Vases, Urns, Jars, &amp; Bottles</td>\n      <td>Décor &amp; Pillows / Home Accessories / Vases, Ur...</td>\n      <td>an erith obliqui urn , crushed rhinestone pear...</td>\n      <td>shape : cylinder|overallwidth-sidetoside:9.13|...</td>\n      <td>NaN</td>\n      <td>NaN</td>\n      <td>NaN</td>\n    </tr>\n    <tr>\n      <th>9</th>\n      <td>9</td>\n      <td>vezina 65 '' rolled arm chesterfield loveseat</td>\n      <td>Sofas</td>\n      <td>Furniture / Living Room Furniture / Sofas</td>\n      <td>in the endless world of sofa style options , t...</td>\n      <td>pattern : solid color|removablecushionlocation...</td>\n      <td>1.0</td>\n      <td>5.0</td>\n      <td>1.0</td>\n    </tr>\n  </tbody>\n</table>\n</div>"
     },
     "execution_count": 8,
     "metadata": {},
     "output_type": "execute_result"
    }
   ],
   "source": [
    "# get products\n",
    "wands_product_df = pd.read_csv(os.path.join(wands_data_pth, \"product.csv\"), sep='\\t')\n",
    "wands_product_df.head(10)"
   ],
   "metadata": {
    "collapsed": false,
    "ExecuteTime": {
     "end_time": "2023-11-16T07:45:24.981350Z",
     "start_time": "2023-11-16T07:45:24.222375Z"
    }
   }
  },
  {
   "cell_type": "code",
   "execution_count": 10,
   "outputs": [
    {
     "data": {
      "text/plain": "False"
     },
     "execution_count": 10,
     "metadata": {},
     "output_type": "execute_result"
    }
   ],
   "source": [
    "wands_product_df['product_name'].isnull().values.any()"
   ],
   "metadata": {
    "collapsed": false,
    "ExecuteTime": {
     "end_time": "2023-11-16T06:55:15.313872Z",
     "start_time": "2023-11-16T06:55:15.307760Z"
    }
   }
  },
  {
   "cell_type": "code",
   "execution_count": 12,
   "outputs": [
    {
     "data": {
      "text/plain": "True"
     },
     "execution_count": 12,
     "metadata": {},
     "output_type": "execute_result"
    }
   ],
   "source": [
    "wands_product_df['product_description'].isnull().values.any()"
   ],
   "metadata": {
    "collapsed": false,
    "ExecuteTime": {
     "end_time": "2023-11-16T06:55:49.267397Z",
     "start_time": "2023-11-16T06:55:49.247214Z"
    }
   }
  },
  {
   "cell_type": "code",
   "execution_count": 7,
   "outputs": [],
   "source": [
    "def combine_product_texts(product_name, product_description):\n",
    "    if pd.notnull(product_name) and pd.notnull(product_description):\n",
    "        return product_name + \" \" + product_description\n",
    "    elif pd.notnull(product_name):\n",
    "        return product_description\n",
    "    else:\n",
    "        return product_name"
   ],
   "metadata": {
    "collapsed": false,
    "ExecuteTime": {
     "end_time": "2023-11-16T21:53:48.312045Z",
     "start_time": "2023-11-16T21:53:48.300443Z"
    }
   }
  },
  {
   "cell_type": "code",
   "execution_count": 10,
   "outputs": [
    {
     "data": {
      "text/plain": "   id  query_id  product_id       label\n0   0         0       25434       Exact\n1   1         0       12088  Irrelevant\n2   2         0       42931       Exact\n3   3         0        2636       Exact\n4   4         0       42923       Exact\n5   5         0       41156       Exact\n6   6         0        5938  Irrelevant\n7   7         0        5937  Irrelevant\n8   8         0       37072  Irrelevant\n9   9         0       37071  Irrelevant",
      "text/html": "<div>\n<style scoped>\n    .dataframe tbody tr th:only-of-type {\n        vertical-align: middle;\n    }\n\n    .dataframe tbody tr th {\n        vertical-align: top;\n    }\n\n    .dataframe thead th {\n        text-align: right;\n    }\n</style>\n<table border=\"1\" class=\"dataframe\">\n  <thead>\n    <tr style=\"text-align: right;\">\n      <th></th>\n      <th>id</th>\n      <th>query_id</th>\n      <th>product_id</th>\n      <th>label</th>\n    </tr>\n  </thead>\n  <tbody>\n    <tr>\n      <th>0</th>\n      <td>0</td>\n      <td>0</td>\n      <td>25434</td>\n      <td>Exact</td>\n    </tr>\n    <tr>\n      <th>1</th>\n      <td>1</td>\n      <td>0</td>\n      <td>12088</td>\n      <td>Irrelevant</td>\n    </tr>\n    <tr>\n      <th>2</th>\n      <td>2</td>\n      <td>0</td>\n      <td>42931</td>\n      <td>Exact</td>\n    </tr>\n    <tr>\n      <th>3</th>\n      <td>3</td>\n      <td>0</td>\n      <td>2636</td>\n      <td>Exact</td>\n    </tr>\n    <tr>\n      <th>4</th>\n      <td>4</td>\n      <td>0</td>\n      <td>42923</td>\n      <td>Exact</td>\n    </tr>\n    <tr>\n      <th>5</th>\n      <td>5</td>\n      <td>0</td>\n      <td>41156</td>\n      <td>Exact</td>\n    </tr>\n    <tr>\n      <th>6</th>\n      <td>6</td>\n      <td>0</td>\n      <td>5938</td>\n      <td>Irrelevant</td>\n    </tr>\n    <tr>\n      <th>7</th>\n      <td>7</td>\n      <td>0</td>\n      <td>5937</td>\n      <td>Irrelevant</td>\n    </tr>\n    <tr>\n      <th>8</th>\n      <td>8</td>\n      <td>0</td>\n      <td>37072</td>\n      <td>Irrelevant</td>\n    </tr>\n    <tr>\n      <th>9</th>\n      <td>9</td>\n      <td>0</td>\n      <td>37071</td>\n      <td>Irrelevant</td>\n    </tr>\n  </tbody>\n</table>\n</div>"
     },
     "execution_count": 10,
     "metadata": {},
     "output_type": "execute_result"
    }
   ],
   "source": [
    "# get manually labeled groundtruth lables\n",
    "wands_label_df = pd.read_csv(os.path.join(wands_data_pth, \"label.csv\"), sep='\\t')\n",
    "wands_label_df.head(10)"
   ],
   "metadata": {
    "collapsed": false,
    "ExecuteTime": {
     "end_time": "2023-11-16T07:45:33.058022Z",
     "start_time": "2023-11-16T07:45:33.007635Z"
    }
   }
  },
  {
   "cell_type": "code",
   "execution_count": null,
   "outputs": [],
   "source": [
    "def assign_label_score(label):\n",
    "    if pd.isna(label):\n",
    "        # Assume not relevant if there is no human label assigned\n",
    "        return 0\n",
    "    elif label.lower() == \"exact\":\n",
    "        return 1.0\n",
    "    elif label.lower() == \"irrelevant\":\n",
    "        return 0\n",
    "    elif label.lower() == \"partial\":\n",
    "        # Rate higher than 50% to make relevance matching higher quality\n",
    "        return 0.6"
   ],
   "metadata": {
    "collapsed": false
   }
  },
  {
   "cell_type": "code",
   "execution_count": null,
   "outputs": [],
   "source": [
    "wands_label_df['label_score'] = wands_label_df['label'].apply(lambda x: assign_label_score(x))"
   ],
   "metadata": {
    "collapsed": false
   }
  },
  {
   "cell_type": "code",
   "execution_count": 12,
   "outputs": [],
   "source": [
    "# Aggregate the text in products to ensure there are no NAs for each product\n",
    "wands_product_df['product_text'] = wands_product_df['product_name'].combine(wands_product_df['product_description'],  lambda x, y: combine_product_texts(x, y))"
   ],
   "metadata": {
    "collapsed": false
   }
  },
  {
   "cell_type": "markdown",
   "source": [
    "### Load Amazon Product Reviews and QA Dataset"
   ],
   "metadata": {
    "collapsed": false
   }
  },
  {
   "cell_type": "code",
   "execution_count": 13,
   "outputs": [],
   "source": [
    "import gzip\n",
    "import ast\n",
    "\n",
    "def parse_amazon_data(pth):\n",
    "  g = gzip.open(pth, 'rb')\n",
    "  for l in g:\n",
    "      try:\n",
    "          yield json.loads(l)\n",
    "      except ValueError as error:\n",
    "          yield ast.literal_eval(json.loads(l))\n",
    "\n",
    "def get_amazon_df(pth):\n",
    "  i = 0\n",
    "  df = {}\n",
    "  for d in parse_amazon_data(pth):\n",
    "    df[i] = d\n",
    "    i += 1\n",
    "  return pd.DataFrame.from_dict(df, orient='index')"
   ],
   "metadata": {
    "collapsed": false,
    "ExecuteTime": {
     "end_time": "2023-11-17T00:04:26.450289Z",
     "start_time": "2023-11-17T00:04:26.392329Z"
    }
   }
  },
  {
   "cell_type": "code",
   "execution_count": 9,
   "outputs": [],
   "source": [
    "amazon_data_pth = os.path.join(os.path.dirname(os.getcwd()), 'Amazon', 'Dataset')"
   ],
   "metadata": {
    "collapsed": false,
    "ExecuteTime": {
     "end_time": "2023-11-16T21:53:53.839810Z",
     "start_time": "2023-11-16T21:53:53.834924Z"
    }
   }
  },
  {
   "cell_type": "code",
   "execution_count": 10,
   "outputs": [
    {
     "data": {
      "text/plain": "   overall vote  verified   reviewTime      reviewerID        asin  \\\n0      5.0   90     False   08 9, 2004   AXHY24HWOF184  0470536454   \n1      4.0    2      True   04 6, 2017  A29OWR79AM796H  0470536454   \n2      5.0  NaN      True  03 14, 2017   AUPWU27A7X5F6  0470536454   \n3      4.0  NaN      True  02 14, 2017  A1N69A47D4JO6K  0470536454   \n4      5.0  NaN      True  01 29, 2017   AHTIQUMVCGBFJ  0470536454   \n\n                       style         reviewerName  \\\n0  {'Format:': ' Paperback'}                Bendy   \n1  {'Format:': ' Hardcover'}      Amazon Customer   \n2  {'Format:': ' Paperback'}      Amazon Customer   \n3  {'Format:': ' Paperback'}  Christopher Burnett   \n4  {'Format:': ' Paperback'}      Amazon Customer   \n\n                                          reviewText  \\\n0  Crocheting for Dummies by Karen Manthey & Susa...   \n1                                    Very helpful...   \n2        EASY TO UNDERSTAND AND A PROMPT SERVICE TOO   \n3                      My girlfriend use quite often   \n4                  Arrived as described. Very happy.   \n\n                                         summary  unixReviewTime image  \n0  Terrific Book for Learning the Art of Crochet      1092009600   NaN  \n1                                     Four Stars      1491436800   NaN  \n2                                     Five Stars      1489449600   NaN  \n3                                     Four Stars      1487030400   NaN  \n4                                    Very happy.      1485648000   NaN  ",
      "text/html": "<div>\n<style scoped>\n    .dataframe tbody tr th:only-of-type {\n        vertical-align: middle;\n    }\n\n    .dataframe tbody tr th {\n        vertical-align: top;\n    }\n\n    .dataframe thead th {\n        text-align: right;\n    }\n</style>\n<table border=\"1\" class=\"dataframe\">\n  <thead>\n    <tr style=\"text-align: right;\">\n      <th></th>\n      <th>overall</th>\n      <th>vote</th>\n      <th>verified</th>\n      <th>reviewTime</th>\n      <th>reviewerID</th>\n      <th>asin</th>\n      <th>style</th>\n      <th>reviewerName</th>\n      <th>reviewText</th>\n      <th>summary</th>\n      <th>unixReviewTime</th>\n      <th>image</th>\n    </tr>\n  </thead>\n  <tbody>\n    <tr>\n      <th>0</th>\n      <td>5.0</td>\n      <td>90</td>\n      <td>False</td>\n      <td>08 9, 2004</td>\n      <td>AXHY24HWOF184</td>\n      <td>0470536454</td>\n      <td>{'Format:': ' Paperback'}</td>\n      <td>Bendy</td>\n      <td>Crocheting for Dummies by Karen Manthey &amp; Susa...</td>\n      <td>Terrific Book for Learning the Art of Crochet</td>\n      <td>1092009600</td>\n      <td>NaN</td>\n    </tr>\n    <tr>\n      <th>1</th>\n      <td>4.0</td>\n      <td>2</td>\n      <td>True</td>\n      <td>04 6, 2017</td>\n      <td>A29OWR79AM796H</td>\n      <td>0470536454</td>\n      <td>{'Format:': ' Hardcover'}</td>\n      <td>Amazon Customer</td>\n      <td>Very helpful...</td>\n      <td>Four Stars</td>\n      <td>1491436800</td>\n      <td>NaN</td>\n    </tr>\n    <tr>\n      <th>2</th>\n      <td>5.0</td>\n      <td>NaN</td>\n      <td>True</td>\n      <td>03 14, 2017</td>\n      <td>AUPWU27A7X5F6</td>\n      <td>0470536454</td>\n      <td>{'Format:': ' Paperback'}</td>\n      <td>Amazon Customer</td>\n      <td>EASY TO UNDERSTAND AND A PROMPT SERVICE TOO</td>\n      <td>Five Stars</td>\n      <td>1489449600</td>\n      <td>NaN</td>\n    </tr>\n    <tr>\n      <th>3</th>\n      <td>4.0</td>\n      <td>NaN</td>\n      <td>True</td>\n      <td>02 14, 2017</td>\n      <td>A1N69A47D4JO6K</td>\n      <td>0470536454</td>\n      <td>{'Format:': ' Paperback'}</td>\n      <td>Christopher Burnett</td>\n      <td>My girlfriend use quite often</td>\n      <td>Four Stars</td>\n      <td>1487030400</td>\n      <td>NaN</td>\n    </tr>\n    <tr>\n      <th>4</th>\n      <td>5.0</td>\n      <td>NaN</td>\n      <td>True</td>\n      <td>01 29, 2017</td>\n      <td>AHTIQUMVCGBFJ</td>\n      <td>0470536454</td>\n      <td>{'Format:': ' Paperback'}</td>\n      <td>Amazon Customer</td>\n      <td>Arrived as described. Very happy.</td>\n      <td>Very happy.</td>\n      <td>1485648000</td>\n      <td>NaN</td>\n    </tr>\n  </tbody>\n</table>\n</div>"
     },
     "execution_count": 10,
     "metadata": {},
     "output_type": "execute_result"
    }
   ],
   "source": [
    "amazon_product_df = get_amazon_df(os.path.join(amazon_data_pth, \"Musical_Instruments.json.gz\"))\n",
    "amazon_product_df.head()"
   ],
   "metadata": {
    "collapsed": false,
    "ExecuteTime": {
     "end_time": "2023-11-16T21:54:14.941870Z",
     "start_time": "2023-11-16T21:53:56.792219Z"
    }
   }
  },
  {
   "cell_type": "code",
   "execution_count": 11,
   "outputs": [
    {
     "data": {
      "text/plain": "                                            category tech1  \\\n0  [Musical Instruments, Drums & Percussion, Hand...         \n1  [Musical Instruments, Drums & Percussion, Hand...         \n2  [Musical Instruments, Instrument Accessories, ...         \n3                                                 []         \n4                                                 []         \n\n                                         description fit  \\\n0  [Cricket Rubbing the spine with the wooden sti...       \n1  [Frog - Rubbing its spine with the wooden stic...       \n2  [Vivaldi's famous set of four violin concertos...       \n3  [The Turn of the Screw (op. 54) vocal score, p...       \n4                                                 []       \n\n                                               title  \\\n0  Wooden Percussion 2 Piece Set of 3 Inch Cricke...   \n1  Wooden Percussion 3 Piece Set Frog, Cricket an...   \n2  Hal Leonard Vivaldi Four Seasons for Piano (Or...   \n3                The Turn of the Screw (vocal score)   \n4  Suite for Organ (including the Trumpet Volunta...   \n\n                                            also_buy tech2  \\\n0               [B00NP8GYVS, B00NP80XMO, B00NP8M098]         \n1  [B00NP8GYVS, B00NP80XMO, B01MY48HK5, B00AZZ1AJ...         \n2                                                 []         \n3  [0486266842, 0793507669, 0393008789, 142341280...         \n4                                                 []         \n\n                 brand                                            feature  \\\n0        WADSUWAN SHOP  [Wood percussion, Owl whistle*, Includes woode...   \n1        WADSUWAN SHOP  [Wood percussion, Small 3 inches, Creates orig...   \n2          Hal Leonard                                          [., ., .]   \n3  Boosey &amp; Hawkes                                                 []   \n4                                                                      []   \n\n                                                rank also_view  \\\n0  [>#141,729 in Musical Instruments (See Top 100...        []   \n1  [>#1,622 in Musical Instruments (See Top 100 i...        []   \n2  [>#330,653 in Musical Instruments (See Top 100...        []   \n3  [>#86,354 in Musical Instruments (See Top 100 ...        []   \n4  [>#482,025 in Musical Instruments (See Top 100...        []   \n\n              main_cat similar_item              date    price        asin  \\\n0  Musical Instruments               December 2, 2013           0000989983   \n1  Musical Instruments               December 2, 2013    $0.91  0000098906   \n2  Musical Instruments                   May 10, 2011   $62.93  0041291905   \n3  Musical Instruments                   May 23, 2007  $107.79  0060015500   \n4  Musical Instruments               February 8, 2013           0193757710   \n\n                                            imageURL  \\\n0  [https://images-na.ssl-images-amazon.com/image...   \n1  [https://images-na.ssl-images-amazon.com/image...   \n2  [https://images-na.ssl-images-amazon.com/image...   \n3  [https://images-na.ssl-images-amazon.com/image...   \n4  [https://images-na.ssl-images-amazon.com/image...   \n\n                                     imageURLHighRes details  \n0  [https://images-na.ssl-images-amazon.com/image...     NaN  \n1  [https://images-na.ssl-images-amazon.com/image...     NaN  \n2  [https://images-na.ssl-images-amazon.com/image...     NaN  \n3  [https://images-na.ssl-images-amazon.com/image...     NaN  \n4  [https://images-na.ssl-images-amazon.com/image...     NaN  ",
      "text/html": "<div>\n<style scoped>\n    .dataframe tbody tr th:only-of-type {\n        vertical-align: middle;\n    }\n\n    .dataframe tbody tr th {\n        vertical-align: top;\n    }\n\n    .dataframe thead th {\n        text-align: right;\n    }\n</style>\n<table border=\"1\" class=\"dataframe\">\n  <thead>\n    <tr style=\"text-align: right;\">\n      <th></th>\n      <th>category</th>\n      <th>tech1</th>\n      <th>description</th>\n      <th>fit</th>\n      <th>title</th>\n      <th>also_buy</th>\n      <th>tech2</th>\n      <th>brand</th>\n      <th>feature</th>\n      <th>rank</th>\n      <th>also_view</th>\n      <th>main_cat</th>\n      <th>similar_item</th>\n      <th>date</th>\n      <th>price</th>\n      <th>asin</th>\n      <th>imageURL</th>\n      <th>imageURLHighRes</th>\n      <th>details</th>\n    </tr>\n  </thead>\n  <tbody>\n    <tr>\n      <th>0</th>\n      <td>[Musical Instruments, Drums &amp; Percussion, Hand...</td>\n      <td></td>\n      <td>[Cricket Rubbing the spine with the wooden sti...</td>\n      <td></td>\n      <td>Wooden Percussion 2 Piece Set of 3 Inch Cricke...</td>\n      <td>[B00NP8GYVS, B00NP80XMO, B00NP8M098]</td>\n      <td></td>\n      <td>WADSUWAN SHOP</td>\n      <td>[Wood percussion, Owl whistle*, Includes woode...</td>\n      <td>[&gt;#141,729 in Musical Instruments (See Top 100...</td>\n      <td>[]</td>\n      <td>Musical Instruments</td>\n      <td></td>\n      <td>December 2, 2013</td>\n      <td></td>\n      <td>0000989983</td>\n      <td>[https://images-na.ssl-images-amazon.com/image...</td>\n      <td>[https://images-na.ssl-images-amazon.com/image...</td>\n      <td>NaN</td>\n    </tr>\n    <tr>\n      <th>1</th>\n      <td>[Musical Instruments, Drums &amp; Percussion, Hand...</td>\n      <td></td>\n      <td>[Frog - Rubbing its spine with the wooden stic...</td>\n      <td></td>\n      <td>Wooden Percussion 3 Piece Set Frog, Cricket an...</td>\n      <td>[B00NP8GYVS, B00NP80XMO, B01MY48HK5, B00AZZ1AJ...</td>\n      <td></td>\n      <td>WADSUWAN SHOP</td>\n      <td>[Wood percussion, Small 3 inches, Creates orig...</td>\n      <td>[&gt;#1,622 in Musical Instruments (See Top 100 i...</td>\n      <td>[]</td>\n      <td>Musical Instruments</td>\n      <td></td>\n      <td>December 2, 2013</td>\n      <td>$0.91</td>\n      <td>0000098906</td>\n      <td>[https://images-na.ssl-images-amazon.com/image...</td>\n      <td>[https://images-na.ssl-images-amazon.com/image...</td>\n      <td>NaN</td>\n    </tr>\n    <tr>\n      <th>2</th>\n      <td>[Musical Instruments, Instrument Accessories, ...</td>\n      <td></td>\n      <td>[Vivaldi's famous set of four violin concertos...</td>\n      <td></td>\n      <td>Hal Leonard Vivaldi Four Seasons for Piano (Or...</td>\n      <td>[]</td>\n      <td></td>\n      <td>Hal Leonard</td>\n      <td>[., ., .]</td>\n      <td>[&gt;#330,653 in Musical Instruments (See Top 100...</td>\n      <td>[]</td>\n      <td>Musical Instruments</td>\n      <td></td>\n      <td>May 10, 2011</td>\n      <td>$62.93</td>\n      <td>0041291905</td>\n      <td>[https://images-na.ssl-images-amazon.com/image...</td>\n      <td>[https://images-na.ssl-images-amazon.com/image...</td>\n      <td>NaN</td>\n    </tr>\n    <tr>\n      <th>3</th>\n      <td>[]</td>\n      <td></td>\n      <td>[The Turn of the Screw (op. 54) vocal score, p...</td>\n      <td></td>\n      <td>The Turn of the Screw (vocal score)</td>\n      <td>[0486266842, 0793507669, 0393008789, 142341280...</td>\n      <td></td>\n      <td>Boosey &amp;amp; Hawkes</td>\n      <td>[]</td>\n      <td>[&gt;#86,354 in Musical Instruments (See Top 100 ...</td>\n      <td>[]</td>\n      <td>Musical Instruments</td>\n      <td></td>\n      <td>May 23, 2007</td>\n      <td>$107.79</td>\n      <td>0060015500</td>\n      <td>[https://images-na.ssl-images-amazon.com/image...</td>\n      <td>[https://images-na.ssl-images-amazon.com/image...</td>\n      <td>NaN</td>\n    </tr>\n    <tr>\n      <th>4</th>\n      <td>[]</td>\n      <td></td>\n      <td>[]</td>\n      <td></td>\n      <td>Suite for Organ (including the Trumpet Volunta...</td>\n      <td>[]</td>\n      <td></td>\n      <td></td>\n      <td>[]</td>\n      <td>[&gt;#482,025 in Musical Instruments (See Top 100...</td>\n      <td>[]</td>\n      <td>Musical Instruments</td>\n      <td></td>\n      <td>February 8, 2013</td>\n      <td></td>\n      <td>0193757710</td>\n      <td>[https://images-na.ssl-images-amazon.com/image...</td>\n      <td>[https://images-na.ssl-images-amazon.com/image...</td>\n      <td>NaN</td>\n    </tr>\n  </tbody>\n</table>\n</div>"
     },
     "execution_count": 11,
     "metadata": {},
     "output_type": "execute_result"
    }
   ],
   "source": [
    "amazon_product_meta_df = get_amazon_df(os.path.join(amazon_data_pth, \"meta_Musical_Instruments.json.gz\"))\n",
    "amazon_product_meta_df.head()"
   ],
   "metadata": {
    "collapsed": false,
    "ExecuteTime": {
     "end_time": "2023-11-16T21:57:19.839993Z",
     "start_time": "2023-11-16T21:57:08.940399Z"
    }
   }
  },
  {
   "cell_type": "code",
   "execution_count": 14,
   "outputs": [
    {
     "ename": "JSONDecodeError",
     "evalue": "Expecting property name enclosed in double quotes: line 1 column 2 (char 1)",
     "output_type": "error",
     "traceback": [
      "\u001B[0;31m---------------------------------------------------------------------------\u001B[0m",
      "\u001B[0;31mJSONDecodeError\u001B[0m                           Traceback (most recent call last)",
      "Cell \u001B[0;32mIn[13], line 8\u001B[0m, in \u001B[0;36mparse_amazon_data\u001B[0;34m(pth)\u001B[0m\n\u001B[1;32m      7\u001B[0m \u001B[38;5;28;01mtry\u001B[39;00m:\n\u001B[0;32m----> 8\u001B[0m     \u001B[38;5;28;01myield\u001B[39;00m \u001B[43mjson\u001B[49m\u001B[38;5;241;43m.\u001B[39;49m\u001B[43mloads\u001B[49m\u001B[43m(\u001B[49m\u001B[43ml\u001B[49m\u001B[43m)\u001B[49m\n\u001B[1;32m      9\u001B[0m \u001B[38;5;28;01mexcept\u001B[39;00m \u001B[38;5;167;01mValueError\u001B[39;00m \u001B[38;5;28;01mas\u001B[39;00m error:\n",
      "File \u001B[0;32m/Library/Developer/CommandLineTools/Library/Frameworks/Python3.framework/Versions/3.9/lib/python3.9/json/__init__.py:346\u001B[0m, in \u001B[0;36mloads\u001B[0;34m(s, cls, object_hook, parse_float, parse_int, parse_constant, object_pairs_hook, **kw)\u001B[0m\n\u001B[1;32m    343\u001B[0m \u001B[38;5;28;01mif\u001B[39;00m (\u001B[38;5;28mcls\u001B[39m \u001B[38;5;129;01mis\u001B[39;00m \u001B[38;5;28;01mNone\u001B[39;00m \u001B[38;5;129;01mand\u001B[39;00m object_hook \u001B[38;5;129;01mis\u001B[39;00m \u001B[38;5;28;01mNone\u001B[39;00m \u001B[38;5;129;01mand\u001B[39;00m\n\u001B[1;32m    344\u001B[0m         parse_int \u001B[38;5;129;01mis\u001B[39;00m \u001B[38;5;28;01mNone\u001B[39;00m \u001B[38;5;129;01mand\u001B[39;00m parse_float \u001B[38;5;129;01mis\u001B[39;00m \u001B[38;5;28;01mNone\u001B[39;00m \u001B[38;5;129;01mand\u001B[39;00m\n\u001B[1;32m    345\u001B[0m         parse_constant \u001B[38;5;129;01mis\u001B[39;00m \u001B[38;5;28;01mNone\u001B[39;00m \u001B[38;5;129;01mand\u001B[39;00m object_pairs_hook \u001B[38;5;129;01mis\u001B[39;00m \u001B[38;5;28;01mNone\u001B[39;00m \u001B[38;5;129;01mand\u001B[39;00m \u001B[38;5;129;01mnot\u001B[39;00m kw):\n\u001B[0;32m--> 346\u001B[0m     \u001B[38;5;28;01mreturn\u001B[39;00m \u001B[43m_default_decoder\u001B[49m\u001B[38;5;241;43m.\u001B[39;49m\u001B[43mdecode\u001B[49m\u001B[43m(\u001B[49m\u001B[43ms\u001B[49m\u001B[43m)\u001B[49m\n\u001B[1;32m    347\u001B[0m \u001B[38;5;28;01mif\u001B[39;00m \u001B[38;5;28mcls\u001B[39m \u001B[38;5;129;01mis\u001B[39;00m \u001B[38;5;28;01mNone\u001B[39;00m:\n",
      "File \u001B[0;32m/Library/Developer/CommandLineTools/Library/Frameworks/Python3.framework/Versions/3.9/lib/python3.9/json/decoder.py:337\u001B[0m, in \u001B[0;36mJSONDecoder.decode\u001B[0;34m(self, s, _w)\u001B[0m\n\u001B[1;32m    333\u001B[0m \u001B[38;5;250m\u001B[39m\u001B[38;5;124;03m\"\"\"Return the Python representation of ``s`` (a ``str`` instance\u001B[39;00m\n\u001B[1;32m    334\u001B[0m \u001B[38;5;124;03mcontaining a JSON document).\u001B[39;00m\n\u001B[1;32m    335\u001B[0m \n\u001B[1;32m    336\u001B[0m \u001B[38;5;124;03m\"\"\"\u001B[39;00m\n\u001B[0;32m--> 337\u001B[0m obj, end \u001B[38;5;241m=\u001B[39m \u001B[38;5;28;43mself\u001B[39;49m\u001B[38;5;241;43m.\u001B[39;49m\u001B[43mraw_decode\u001B[49m\u001B[43m(\u001B[49m\u001B[43ms\u001B[49m\u001B[43m,\u001B[49m\u001B[43m \u001B[49m\u001B[43midx\u001B[49m\u001B[38;5;241;43m=\u001B[39;49m\u001B[43m_w\u001B[49m\u001B[43m(\u001B[49m\u001B[43ms\u001B[49m\u001B[43m,\u001B[49m\u001B[43m \u001B[49m\u001B[38;5;241;43m0\u001B[39;49m\u001B[43m)\u001B[49m\u001B[38;5;241;43m.\u001B[39;49m\u001B[43mend\u001B[49m\u001B[43m(\u001B[49m\u001B[43m)\u001B[49m\u001B[43m)\u001B[49m\n\u001B[1;32m    338\u001B[0m end \u001B[38;5;241m=\u001B[39m _w(s, end)\u001B[38;5;241m.\u001B[39mend()\n",
      "File \u001B[0;32m/Library/Developer/CommandLineTools/Library/Frameworks/Python3.framework/Versions/3.9/lib/python3.9/json/decoder.py:353\u001B[0m, in \u001B[0;36mJSONDecoder.raw_decode\u001B[0;34m(self, s, idx)\u001B[0m\n\u001B[1;32m    352\u001B[0m \u001B[38;5;28;01mtry\u001B[39;00m:\n\u001B[0;32m--> 353\u001B[0m     obj, end \u001B[38;5;241m=\u001B[39m \u001B[38;5;28;43mself\u001B[39;49m\u001B[38;5;241;43m.\u001B[39;49m\u001B[43mscan_once\u001B[49m\u001B[43m(\u001B[49m\u001B[43ms\u001B[49m\u001B[43m,\u001B[49m\u001B[43m \u001B[49m\u001B[43midx\u001B[49m\u001B[43m)\u001B[49m\n\u001B[1;32m    354\u001B[0m \u001B[38;5;28;01mexcept\u001B[39;00m \u001B[38;5;167;01mStopIteration\u001B[39;00m \u001B[38;5;28;01mas\u001B[39;00m err:\n",
      "\u001B[0;31mJSONDecodeError\u001B[0m: Expecting property name enclosed in double quotes: line 1 column 2 (char 1)",
      "\nDuring handling of the above exception, another exception occurred:\n",
      "\u001B[0;31mJSONDecodeError\u001B[0m                           Traceback (most recent call last)",
      "Cell \u001B[0;32mIn[14], line 1\u001B[0m\n\u001B[0;32m----> 1\u001B[0m amazon_qa_df \u001B[38;5;241m=\u001B[39m \u001B[43mget_amazon_df\u001B[49m\u001B[43m(\u001B[49m\u001B[43mos\u001B[49m\u001B[38;5;241;43m.\u001B[39;49m\u001B[43mpath\u001B[49m\u001B[38;5;241;43m.\u001B[39;49m\u001B[43mjoin\u001B[49m\u001B[43m(\u001B[49m\u001B[43mamazon_data_pth\u001B[49m\u001B[43m,\u001B[49m\u001B[43m \u001B[49m\u001B[38;5;124;43m\"\u001B[39;49m\u001B[38;5;124;43mQA_Musical_Instruments.json.gz\u001B[39;49m\u001B[38;5;124;43m\"\u001B[39;49m\u001B[43m)\u001B[49m\u001B[43m)\u001B[49m\n\u001B[1;32m      2\u001B[0m amazon_qa_df\u001B[38;5;241m.\u001B[39mhead()\n",
      "Cell \u001B[0;32mIn[13], line 15\u001B[0m, in \u001B[0;36mget_amazon_df\u001B[0;34m(pth)\u001B[0m\n\u001B[1;32m     13\u001B[0m i \u001B[38;5;241m=\u001B[39m \u001B[38;5;241m0\u001B[39m\n\u001B[1;32m     14\u001B[0m df \u001B[38;5;241m=\u001B[39m {}\n\u001B[0;32m---> 15\u001B[0m \u001B[38;5;28;01mfor\u001B[39;00m d \u001B[38;5;129;01min\u001B[39;00m parse_amazon_data(pth):\n\u001B[1;32m     16\u001B[0m   df[i] \u001B[38;5;241m=\u001B[39m d\n\u001B[1;32m     17\u001B[0m   i \u001B[38;5;241m+\u001B[39m\u001B[38;5;241m=\u001B[39m \u001B[38;5;241m1\u001B[39m\n",
      "Cell \u001B[0;32mIn[13], line 10\u001B[0m, in \u001B[0;36mparse_amazon_data\u001B[0;34m(pth)\u001B[0m\n\u001B[1;32m      8\u001B[0m     \u001B[38;5;28;01myield\u001B[39;00m json\u001B[38;5;241m.\u001B[39mloads(l)\n\u001B[1;32m      9\u001B[0m \u001B[38;5;28;01mexcept\u001B[39;00m \u001B[38;5;167;01mValueError\u001B[39;00m \u001B[38;5;28;01mas\u001B[39;00m error:\n\u001B[0;32m---> 10\u001B[0m     \u001B[38;5;28;01myield\u001B[39;00m ast\u001B[38;5;241m.\u001B[39mliteral_eval(\u001B[43mjson\u001B[49m\u001B[38;5;241;43m.\u001B[39;49m\u001B[43mloads\u001B[49m\u001B[43m(\u001B[49m\u001B[43ml\u001B[49m\u001B[43m)\u001B[49m)\n",
      "File \u001B[0;32m/Library/Developer/CommandLineTools/Library/Frameworks/Python3.framework/Versions/3.9/lib/python3.9/json/__init__.py:346\u001B[0m, in \u001B[0;36mloads\u001B[0;34m(s, cls, object_hook, parse_float, parse_int, parse_constant, object_pairs_hook, **kw)\u001B[0m\n\u001B[1;32m    341\u001B[0m     s \u001B[38;5;241m=\u001B[39m s\u001B[38;5;241m.\u001B[39mdecode(detect_encoding(s), \u001B[38;5;124m'\u001B[39m\u001B[38;5;124msurrogatepass\u001B[39m\u001B[38;5;124m'\u001B[39m)\n\u001B[1;32m    343\u001B[0m \u001B[38;5;28;01mif\u001B[39;00m (\u001B[38;5;28mcls\u001B[39m \u001B[38;5;129;01mis\u001B[39;00m \u001B[38;5;28;01mNone\u001B[39;00m \u001B[38;5;129;01mand\u001B[39;00m object_hook \u001B[38;5;129;01mis\u001B[39;00m \u001B[38;5;28;01mNone\u001B[39;00m \u001B[38;5;129;01mand\u001B[39;00m\n\u001B[1;32m    344\u001B[0m         parse_int \u001B[38;5;129;01mis\u001B[39;00m \u001B[38;5;28;01mNone\u001B[39;00m \u001B[38;5;129;01mand\u001B[39;00m parse_float \u001B[38;5;129;01mis\u001B[39;00m \u001B[38;5;28;01mNone\u001B[39;00m \u001B[38;5;129;01mand\u001B[39;00m\n\u001B[1;32m    345\u001B[0m         parse_constant \u001B[38;5;129;01mis\u001B[39;00m \u001B[38;5;28;01mNone\u001B[39;00m \u001B[38;5;129;01mand\u001B[39;00m object_pairs_hook \u001B[38;5;129;01mis\u001B[39;00m \u001B[38;5;28;01mNone\u001B[39;00m \u001B[38;5;129;01mand\u001B[39;00m \u001B[38;5;129;01mnot\u001B[39;00m kw):\n\u001B[0;32m--> 346\u001B[0m     \u001B[38;5;28;01mreturn\u001B[39;00m \u001B[43m_default_decoder\u001B[49m\u001B[38;5;241;43m.\u001B[39;49m\u001B[43mdecode\u001B[49m\u001B[43m(\u001B[49m\u001B[43ms\u001B[49m\u001B[43m)\u001B[49m\n\u001B[1;32m    347\u001B[0m \u001B[38;5;28;01mif\u001B[39;00m \u001B[38;5;28mcls\u001B[39m \u001B[38;5;129;01mis\u001B[39;00m \u001B[38;5;28;01mNone\u001B[39;00m:\n\u001B[1;32m    348\u001B[0m     \u001B[38;5;28mcls\u001B[39m \u001B[38;5;241m=\u001B[39m JSONDecoder\n",
      "File \u001B[0;32m/Library/Developer/CommandLineTools/Library/Frameworks/Python3.framework/Versions/3.9/lib/python3.9/json/decoder.py:337\u001B[0m, in \u001B[0;36mJSONDecoder.decode\u001B[0;34m(self, s, _w)\u001B[0m\n\u001B[1;32m    332\u001B[0m \u001B[38;5;28;01mdef\u001B[39;00m \u001B[38;5;21mdecode\u001B[39m(\u001B[38;5;28mself\u001B[39m, s, _w\u001B[38;5;241m=\u001B[39mWHITESPACE\u001B[38;5;241m.\u001B[39mmatch):\n\u001B[1;32m    333\u001B[0m \u001B[38;5;250m    \u001B[39m\u001B[38;5;124;03m\"\"\"Return the Python representation of ``s`` (a ``str`` instance\u001B[39;00m\n\u001B[1;32m    334\u001B[0m \u001B[38;5;124;03m    containing a JSON document).\u001B[39;00m\n\u001B[1;32m    335\u001B[0m \n\u001B[1;32m    336\u001B[0m \u001B[38;5;124;03m    \"\"\"\u001B[39;00m\n\u001B[0;32m--> 337\u001B[0m     obj, end \u001B[38;5;241m=\u001B[39m \u001B[38;5;28;43mself\u001B[39;49m\u001B[38;5;241;43m.\u001B[39;49m\u001B[43mraw_decode\u001B[49m\u001B[43m(\u001B[49m\u001B[43ms\u001B[49m\u001B[43m,\u001B[49m\u001B[43m \u001B[49m\u001B[43midx\u001B[49m\u001B[38;5;241;43m=\u001B[39;49m\u001B[43m_w\u001B[49m\u001B[43m(\u001B[49m\u001B[43ms\u001B[49m\u001B[43m,\u001B[49m\u001B[43m \u001B[49m\u001B[38;5;241;43m0\u001B[39;49m\u001B[43m)\u001B[49m\u001B[38;5;241;43m.\u001B[39;49m\u001B[43mend\u001B[49m\u001B[43m(\u001B[49m\u001B[43m)\u001B[49m\u001B[43m)\u001B[49m\n\u001B[1;32m    338\u001B[0m     end \u001B[38;5;241m=\u001B[39m _w(s, end)\u001B[38;5;241m.\u001B[39mend()\n\u001B[1;32m    339\u001B[0m     \u001B[38;5;28;01mif\u001B[39;00m end \u001B[38;5;241m!=\u001B[39m \u001B[38;5;28mlen\u001B[39m(s):\n",
      "File \u001B[0;32m/Library/Developer/CommandLineTools/Library/Frameworks/Python3.framework/Versions/3.9/lib/python3.9/json/decoder.py:353\u001B[0m, in \u001B[0;36mJSONDecoder.raw_decode\u001B[0;34m(self, s, idx)\u001B[0m\n\u001B[1;32m    344\u001B[0m \u001B[38;5;250m\u001B[39m\u001B[38;5;124;03m\"\"\"Decode a JSON document from ``s`` (a ``str`` beginning with\u001B[39;00m\n\u001B[1;32m    345\u001B[0m \u001B[38;5;124;03ma JSON document) and return a 2-tuple of the Python\u001B[39;00m\n\u001B[1;32m    346\u001B[0m \u001B[38;5;124;03mrepresentation and the index in ``s`` where the document ended.\u001B[39;00m\n\u001B[0;32m   (...)\u001B[0m\n\u001B[1;32m    350\u001B[0m \n\u001B[1;32m    351\u001B[0m \u001B[38;5;124;03m\"\"\"\u001B[39;00m\n\u001B[1;32m    352\u001B[0m \u001B[38;5;28;01mtry\u001B[39;00m:\n\u001B[0;32m--> 353\u001B[0m     obj, end \u001B[38;5;241m=\u001B[39m \u001B[38;5;28;43mself\u001B[39;49m\u001B[38;5;241;43m.\u001B[39;49m\u001B[43mscan_once\u001B[49m\u001B[43m(\u001B[49m\u001B[43ms\u001B[49m\u001B[43m,\u001B[49m\u001B[43m \u001B[49m\u001B[43midx\u001B[49m\u001B[43m)\u001B[49m\n\u001B[1;32m    354\u001B[0m \u001B[38;5;28;01mexcept\u001B[39;00m \u001B[38;5;167;01mStopIteration\u001B[39;00m \u001B[38;5;28;01mas\u001B[39;00m err:\n\u001B[1;32m    355\u001B[0m     \u001B[38;5;28;01mraise\u001B[39;00m JSONDecodeError(\u001B[38;5;124m\"\u001B[39m\u001B[38;5;124mExpecting value\u001B[39m\u001B[38;5;124m\"\u001B[39m, s, err\u001B[38;5;241m.\u001B[39mvalue) \u001B[38;5;28;01mfrom\u001B[39;00m \u001B[38;5;28;01mNone\u001B[39;00m\n",
      "\u001B[0;31mJSONDecodeError\u001B[0m: Expecting property name enclosed in double quotes: line 1 column 2 (char 1)"
     ]
    }
   ],
   "source": [
    "amazon_qa_df = get_amazon_df(os.path.join(amazon_data_pth, \"QA_Musical_Instruments.json.gz\"))\n",
    "amazon_qa_df.head()"
   ],
   "metadata": {
    "collapsed": false,
    "ExecuteTime": {
     "end_time": "2023-11-17T00:04:55.421571Z",
     "start_time": "2023-11-17T00:04:55.344070Z"
    }
   }
  },
  {
   "cell_type": "code",
   "execution_count": null,
   "outputs": [],
   "source": [],
   "metadata": {
    "collapsed": false
   }
  },
  {
   "cell_type": "markdown",
   "source": [
    "### Build index with input type as pandas dataframe"
   ],
   "metadata": {
    "collapsed": false
   }
  },
  {
   "cell_type": "code",
   "execution_count": 11,
   "outputs": [],
   "source": [
    "from llama_index.indices.struct_store import PandasIndex\n",
    "import cohere\n",
    "from tqdm import tqdm\n",
    "# from datasets import load_dataset\n",
    "import umap\n",
    "import altair as alt\n",
    "from sklearn.metrics.pairwise import cosine_similarity\n",
    "from annoy import AnnoyIndex"
   ],
   "metadata": {
    "collapsed": false,
    "ExecuteTime": {
     "end_time": "2023-11-16T07:45:46.012297Z",
     "start_time": "2023-11-16T07:45:39.750742Z"
    }
   }
  },
  {
   "cell_type": "code",
   "execution_count": null,
   "outputs": [],
   "source": [
    "# Now we'll set up the cohere client.\n",
    "co = cohere.Client(os.environ[\"COHERE_API_KEY\"])"
   ],
   "metadata": {
    "collapsed": false
   }
  },
  {
   "cell_type": "markdown",
   "source": [
    "### WANDS example embeddings"
   ],
   "metadata": {
    "collapsed": false
   }
  },
  {
   "cell_type": "code",
   "execution_count": 13,
   "outputs": [
    {
     "data": {
      "text/plain": "0    solid wood platform bed good , deep sleep can ...\n1    all-clad 7 qt . slow cooker create delicious s...\n2    all-clad electrics 6.5 qt . slow cooker prepar...\n3    all-clad all professional tools pizza cutter t...\nName: product_text, dtype: object"
     },
     "execution_count": 13,
     "metadata": {},
     "output_type": "execute_result"
    }
   ],
   "source": [
    "wands_product_df['product_text'][:4]"
   ],
   "metadata": {
    "collapsed": false,
    "ExecuteTime": {
     "end_time": "2023-11-16T07:46:34.898669Z",
     "start_time": "2023-11-16T07:46:34.891634Z"
    }
   }
  },
  {
   "cell_type": "markdown",
   "source": [
    "#### Cohere Embeddings"
   ],
   "metadata": {
    "collapsed": false
   }
  },
  {
   "cell_type": "code",
   "execution_count": 14,
   "outputs": [],
   "source": [
    "wands_embed_model = \"embed-english-v3.0\"\n",
    "wands_embed_input_type = \"search_document\"\n",
    "wands_sample_texts = list(wands_product_df['product_text'])[:4]\n",
    "# Get the embeddings\n",
    "wands_embeds_sample = co.embed(texts=wands_sample_texts,\n",
    "                  model=wands_embed_model,\n",
    "                  input_type=wands_embed_input_type).embeddings"
   ],
   "metadata": {
    "collapsed": false,
    "ExecuteTime": {
     "end_time": "2023-11-16T07:48:06.760822Z",
     "start_time": "2023-11-16T07:48:06.468077Z"
    }
   }
  },
  {
   "cell_type": "markdown",
   "source": [
    "#### Llama index embeddings"
   ],
   "metadata": {
    "collapsed": false
   }
  },
  {
   "cell_type": "code",
   "execution_count": null,
   "outputs": [],
   "source": [
    "# llm = LiteLLM(\"command-nightly\")\n",
    "llm = LiteLLM(\"command\")\n",
    "embed_model = CohereEmbedding(\n",
    "    cohere_api_key=cohere_api_key,\n",
    "    model_name=\"embed-english-v3.0\",\n",
    "    input_type=\"search_document\",\n",
    ")\n",
    "\n",
    "service_context = ServiceContext.from_defaults(\n",
    "    llm=llm, embed_model=embed_model\n",
    ")\n",
    "index = VectorStoreIndex.from_documents(\n",
    "    documents=documents, service_context=service_context\n",
    ")"
   ],
   "metadata": {
    "collapsed": false
   }
  },
  {
   "cell_type": "markdown",
   "source": [
    "### Amazon Example Embeddings"
   ],
   "metadata": {
    "collapsed": false
   }
  },
  {
   "cell_type": "code",
   "execution_count": 14,
   "outputs": [],
   "source": [
    "amzn_embed_model = \"embed-english-v3.0\"\n",
    "amzn_embed_input_type = \"search_document\"\n",
    "amzn_sample_texts = list(wands_product_df['product_text'])[:4]\n",
    "# Get the embeddings\n",
    "amzn_embeds_sample = co.embed(texts=wands_sample_texts,\n",
    "                  model=wands_embed_model,\n",
    "                  input_type=wands_embed_input_type).embeddings"
   ],
   "metadata": {
    "collapsed": false
   }
  },
  {
   "attachments": {},
   "cell_type": "markdown",
   "metadata": {},
   "source": [
    "#### Build retriever with input_type = 'search_query'"
   ]
  },
  {
   "cell_type": "code",
   "execution_count": null,
   "metadata": {},
   "outputs": [],
   "source": [
    "embed_model = CohereEmbedding(\n",
    "    cohere_api_key=cohere_api_key,\n",
    "    model_name=\"embed-english-v3.0\",\n",
    "    input_type=\"search_query\",\n",
    ")\n",
    "\n",
    "service_context = ServiceContext.from_defaults(\n",
    "    llm=llm, embed_model=embed_model\n",
    ")\n",
    "\n",
    "search_query_retriever = index.as_retriever(service_context=service_context)\n",
    "\n",
    "search_query_retrieved_nodes = search_query_retriever.retrieve(\n",
    "    \"What happened in the summer of 1995?\"\n",
    ")"
   ]
  },
  {
   "cell_type": "code",
   "execution_count": null,
   "metadata": {},
   "outputs": [
    {
     "data": {
      "text/markdown": [
       "**Node ID:** 1b0759b6-e6a1-4749-aeaa-1eafe14db055<br>**Similarity:** 0.3253174706260866<br>**Text:** That's not how they sell. I wrote some software to generate web sites for galleries, and Robert wrote some to resize images and set up an http server to serve the pages. Then we tried to sign up galleries. To call this a difficult sale would be an understatement. It was difficult to give away. A few galleries let us make sites for them for free, but none paid us.\n",
       "\n",
       "Then some online stores started to appear, and I realized that except for the order buttons they were identical to the sites we'd been generating for galleries. This impressive-sounding thing called an \"internet storefront\" was something we already knew how to build.\n",
       "\n",
       "So in the summer of 1995, after I submitted the camera-ready copy of ANSI Common Lisp to the publishers, we started trying to write software to build online stores. At first this was going to be normal desktop software, which in those days meant Windows software. That was an alarming prospect, because neither of us knew how to write Windows software or wanted to learn. We lived in the Unix world. But we decided we'd at least try writing a prototype store builder on Unix. Robert wrote a shopping cart, and I wrote a new site generator for stores — in Lisp, of course.\n",
       "\n",
       "We were working out of Robert's apartment in Cambridge. His roommate was away for big chunks of time, during which I got to sleep in his room. For some reason there was no bed frame or sheets, just a mattress on the floor. One morning as I was lying on this mattress I had an idea that made me sit up like a capital L. What if we ran the software on the server, and let users control it by clicking on links? Then we'd never have to write anything to run on users' computers. We could generate the sites on the same server we'd serve them from. Users wouldn't need anything more than a browser.\n",
       "\n",
       "This kind of software, known as a web app, is common now, but at the time it wasn't clear that it was even possible. To find out, we decided to try making a version of our store builder that y...<br>"
      ],
      "text/plain": [
       "<IPython.core.display.Markdown object>"
      ]
     },
     "metadata": {},
     "output_type": "display_data"
    },
    {
     "data": {
      "text/markdown": [
       "**Node ID:** ab6c138d-a509-4894-9131-da145eb7a4b4<br>**Similarity:** 0.28713538838359537<br>**Text:** But once again, this was not due to any particular insight on our part. We didn't know how VC firms were organized. It never occurred to us to try to raise a fund, and if it had, we wouldn't have known where to start. [14]\n",
       "\n",
       "The most distinctive thing about YC is the batch model: to fund a bunch of startups all at once, twice a year, and then to spend three months focusing intensively on trying to help them. That part we discovered by accident, not merely implicitly but explicitly due to our ignorance about investing. We needed to get experience as investors. What better way, we thought, than to fund a whole bunch of startups at once? We knew undergrads got temporary jobs at tech companies during the summer. Why not organize a summer program where they'd start startups instead? We wouldn't feel guilty for being in a sense fake investors, because they would in a similar sense be fake founders. So while we probably wouldn't make much money out of it, we'd at least get to practice being investors on them, and they for their part would probably have a more interesting summer than they would working at Microsoft.\n",
       "\n",
       "We'd use the building I owned in Cambridge as our headquarters. We'd all have dinner there once a week — on tuesdays, since I was already cooking for the thursday diners on thursdays — and after dinner we'd bring in experts on startups to give talks.\n",
       "\n",
       "We knew undergrads were deciding then about summer jobs, so in a matter of days we cooked up something we called the Summer Founders Program, and I posted an announcement on my site, inviting undergrads to apply. I had never imagined that writing essays would be a way to get \"deal flow,\" as investors call it, but it turned out to be the perfect source. [15] We got 225 applications for the Summer Founders Program, and we were surprised to find that a lot of them were from people who'd already graduated, or were about to that spring. Already this SFP thing was starting to feel more serious than we'd intended.\n",
       "\n",
       "We ...<br>"
      ],
      "text/plain": [
       "<IPython.core.display.Markdown object>"
      ]
     },
     "metadata": {},
     "output_type": "display_data"
    }
   ],
   "source": [
    "for n in search_query_retrieved_nodes:\n",
    "    display_source_node(n, source_length=2000)"
   ]
  }
 ],
 "metadata": {
  "kernelspec": {
   "display_name": "py38",
   "language": "python",
   "name": "python3"
  },
  "language_info": {
   "codemirror_mode": {
    "name": "ipython",
    "version": 3
   },
   "file_extension": ".py",
   "mimetype": "text/x-python",
   "name": "python",
   "nbconvert_exporter": "python",
   "pygments_lexer": "ipython3"
  },
  "vscode": {
   "interpreter": {
    "hash": "64bcadabe4cd61f3d117ba0da9d14bf2f8e35582ff79e821f2e71056f2723d1e"
   }
  }
 },
 "nbformat": 4,
 "nbformat_minor": 2
}
